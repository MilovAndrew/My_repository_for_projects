{
 "cells": [
  {
   "cell_type": "markdown",
   "metadata": {},
   "source": [
    "# Исследование объявлений о продаже квартир\n",
    "\n",
    "В нашем распоряжении данные сервиса Яндекс.Недвижимость — архив объявлений о продаже квартир в Санкт-Петербурге и соседних населённых пунктов за несколько лет. Нужно научиться определять рыночную стоимость объектов недвижимости. Наша задача — установить параметры. Это позволит построить автоматизированную систему: она отследит аномалии и мошенническую деятельность. \n",
    "\n",
    "По каждой квартире на продажу доступны два вида данных. Первые вписаны пользователем, вторые — получены автоматически на основе картографических данных. Например, расстояние до центра, аэропорта, ближайшего парка и водоёма. "
   ]
  },
  {
   "cell_type": "markdown",
   "metadata": {},
   "source": [
    "**Цель исследования:**\n",
    "- научиться определять рыночную стоимость объектов недвижимости\n",
    "\n",
    "**Задача:**\n",
    "- установить параметры, что позволит построить автоматизированную систему: она отследит аномалии и мошенническую деятельность\n",
    "\n",
    "**Описание данных**\n",
    "- `rports_nearest` — расстояние до ближайшего аэропорта в метрах (м)\n",
    "- `balcony` — число балконов\n",
    "- `ceiling_height` — высота потолков (м)\n",
    "- `cityCenters_nearest` — расстояние до центра города (м)\n",
    "- `days_exposition` — сколько дней было размещено объявление (от публикации до снятия)\n",
    "- `first_day_exposition` — дата публикации\n",
    "- `floor` — этаж\n",
    "- `floors_total` — всего этажей в доме\n",
    "- `is_apartment` — апартаменты (булев тип)\n",
    "- `kitchen_area` — площадь кухни в квадратных метрах (м²)\n",
    "- `last_price` — цена на момент снятия с публикации\n",
    "- `living_area` — жилая площадь в квадратных метрах (м²)\n",
    "- `locality_name` — название населённого пункта\n",
    "- `open_plan` — свободная планировка (булев тип)\n",
    "- `parks_around3000` — число парков в радиусе 3 км\n",
    "- `parks_nearest` — расстояние до ближайшего парка (м)\n",
    "- `ponds_around3000` — число водоёмов в радиусе 3 км\n",
    "- `ponds_nearest` — расстояние до ближайшего водоёма (м)\n",
    "- `rooms` — число комнат\n",
    "- `studio` — квартира-студия (булев тип)\n",
    "- `total_area` — общая площадь квартиры в квадратных метрах (м²)\n",
    "- `total_images` — число фотографий квартиры в объявлении\n"
   ]
  },
  {
   "cell_type": "markdown",
   "metadata": {},
   "source": [
    "### Откроем файл с данными и изучите общую информацию. "
   ]
  },
  {
   "cell_type": "code",
   "execution_count": 1,
   "metadata": {},
   "outputs": [],
   "source": [
    "import pandas as pd"
   ]
  },
  {
   "cell_type": "code",
   "execution_count": 2,
   "metadata": {},
   "outputs": [],
   "source": [
    "import matplotlib.pyplot as plt"
   ]
  },
  {
   "cell_type": "code",
   "execution_count": 3,
   "metadata": {},
   "outputs": [],
   "source": [
    "data = pd.read_csv('/datasets/real_estate_data.csv', sep='\\t')"
   ]
  },
  {
   "cell_type": "code",
   "execution_count": 4,
   "metadata": {},
   "outputs": [
    {
     "data": {
      "text/html": [
       "<div>\n",
       "<style scoped>\n",
       "    .dataframe tbody tr th:only-of-type {\n",
       "        vertical-align: middle;\n",
       "    }\n",
       "\n",
       "    .dataframe tbody tr th {\n",
       "        vertical-align: top;\n",
       "    }\n",
       "\n",
       "    .dataframe thead th {\n",
       "        text-align: right;\n",
       "    }\n",
       "</style>\n",
       "<table border=\"1\" class=\"dataframe\">\n",
       "  <thead>\n",
       "    <tr style=\"text-align: right;\">\n",
       "      <th></th>\n",
       "      <th>total_images</th>\n",
       "      <th>last_price</th>\n",
       "      <th>total_area</th>\n",
       "      <th>first_day_exposition</th>\n",
       "      <th>rooms</th>\n",
       "      <th>ceiling_height</th>\n",
       "      <th>floors_total</th>\n",
       "      <th>living_area</th>\n",
       "      <th>floor</th>\n",
       "      <th>is_apartment</th>\n",
       "      <th>...</th>\n",
       "      <th>kitchen_area</th>\n",
       "      <th>balcony</th>\n",
       "      <th>locality_name</th>\n",
       "      <th>airports_nearest</th>\n",
       "      <th>cityCenters_nearest</th>\n",
       "      <th>parks_around3000</th>\n",
       "      <th>parks_nearest</th>\n",
       "      <th>ponds_around3000</th>\n",
       "      <th>ponds_nearest</th>\n",
       "      <th>days_exposition</th>\n",
       "    </tr>\n",
       "  </thead>\n",
       "  <tbody>\n",
       "    <tr>\n",
       "      <th>0</th>\n",
       "      <td>20</td>\n",
       "      <td>13000000.0</td>\n",
       "      <td>108.00</td>\n",
       "      <td>2019-03-07T00:00:00</td>\n",
       "      <td>3</td>\n",
       "      <td>2.70</td>\n",
       "      <td>16.0</td>\n",
       "      <td>51.00</td>\n",
       "      <td>8</td>\n",
       "      <td>NaN</td>\n",
       "      <td>...</td>\n",
       "      <td>25.00</td>\n",
       "      <td>NaN</td>\n",
       "      <td>Санкт-Петербург</td>\n",
       "      <td>18863.0</td>\n",
       "      <td>16028.0</td>\n",
       "      <td>1.0</td>\n",
       "      <td>482.0</td>\n",
       "      <td>2.0</td>\n",
       "      <td>755.0</td>\n",
       "      <td>NaN</td>\n",
       "    </tr>\n",
       "    <tr>\n",
       "      <th>1</th>\n",
       "      <td>7</td>\n",
       "      <td>3350000.0</td>\n",
       "      <td>40.40</td>\n",
       "      <td>2018-12-04T00:00:00</td>\n",
       "      <td>1</td>\n",
       "      <td>NaN</td>\n",
       "      <td>11.0</td>\n",
       "      <td>18.60</td>\n",
       "      <td>1</td>\n",
       "      <td>NaN</td>\n",
       "      <td>...</td>\n",
       "      <td>11.00</td>\n",
       "      <td>2.0</td>\n",
       "      <td>посёлок Шушары</td>\n",
       "      <td>12817.0</td>\n",
       "      <td>18603.0</td>\n",
       "      <td>0.0</td>\n",
       "      <td>NaN</td>\n",
       "      <td>0.0</td>\n",
       "      <td>NaN</td>\n",
       "      <td>81.0</td>\n",
       "    </tr>\n",
       "    <tr>\n",
       "      <th>2</th>\n",
       "      <td>10</td>\n",
       "      <td>5196000.0</td>\n",
       "      <td>56.00</td>\n",
       "      <td>2015-08-20T00:00:00</td>\n",
       "      <td>2</td>\n",
       "      <td>NaN</td>\n",
       "      <td>5.0</td>\n",
       "      <td>34.30</td>\n",
       "      <td>4</td>\n",
       "      <td>NaN</td>\n",
       "      <td>...</td>\n",
       "      <td>8.30</td>\n",
       "      <td>0.0</td>\n",
       "      <td>Санкт-Петербург</td>\n",
       "      <td>21741.0</td>\n",
       "      <td>13933.0</td>\n",
       "      <td>1.0</td>\n",
       "      <td>90.0</td>\n",
       "      <td>2.0</td>\n",
       "      <td>574.0</td>\n",
       "      <td>558.0</td>\n",
       "    </tr>\n",
       "    <tr>\n",
       "      <th>3</th>\n",
       "      <td>0</td>\n",
       "      <td>64900000.0</td>\n",
       "      <td>159.00</td>\n",
       "      <td>2015-07-24T00:00:00</td>\n",
       "      <td>3</td>\n",
       "      <td>NaN</td>\n",
       "      <td>14.0</td>\n",
       "      <td>NaN</td>\n",
       "      <td>9</td>\n",
       "      <td>NaN</td>\n",
       "      <td>...</td>\n",
       "      <td>NaN</td>\n",
       "      <td>0.0</td>\n",
       "      <td>Санкт-Петербург</td>\n",
       "      <td>28098.0</td>\n",
       "      <td>6800.0</td>\n",
       "      <td>2.0</td>\n",
       "      <td>84.0</td>\n",
       "      <td>3.0</td>\n",
       "      <td>234.0</td>\n",
       "      <td>424.0</td>\n",
       "    </tr>\n",
       "    <tr>\n",
       "      <th>4</th>\n",
       "      <td>2</td>\n",
       "      <td>10000000.0</td>\n",
       "      <td>100.00</td>\n",
       "      <td>2018-06-19T00:00:00</td>\n",
       "      <td>2</td>\n",
       "      <td>3.03</td>\n",
       "      <td>14.0</td>\n",
       "      <td>32.00</td>\n",
       "      <td>13</td>\n",
       "      <td>NaN</td>\n",
       "      <td>...</td>\n",
       "      <td>41.00</td>\n",
       "      <td>NaN</td>\n",
       "      <td>Санкт-Петербург</td>\n",
       "      <td>31856.0</td>\n",
       "      <td>8098.0</td>\n",
       "      <td>2.0</td>\n",
       "      <td>112.0</td>\n",
       "      <td>1.0</td>\n",
       "      <td>48.0</td>\n",
       "      <td>121.0</td>\n",
       "    </tr>\n",
       "    <tr>\n",
       "      <th>5</th>\n",
       "      <td>10</td>\n",
       "      <td>2890000.0</td>\n",
       "      <td>30.40</td>\n",
       "      <td>2018-09-10T00:00:00</td>\n",
       "      <td>1</td>\n",
       "      <td>NaN</td>\n",
       "      <td>12.0</td>\n",
       "      <td>14.40</td>\n",
       "      <td>5</td>\n",
       "      <td>NaN</td>\n",
       "      <td>...</td>\n",
       "      <td>9.10</td>\n",
       "      <td>NaN</td>\n",
       "      <td>городской посёлок Янино-1</td>\n",
       "      <td>NaN</td>\n",
       "      <td>NaN</td>\n",
       "      <td>NaN</td>\n",
       "      <td>NaN</td>\n",
       "      <td>NaN</td>\n",
       "      <td>NaN</td>\n",
       "      <td>55.0</td>\n",
       "    </tr>\n",
       "    <tr>\n",
       "      <th>6</th>\n",
       "      <td>6</td>\n",
       "      <td>3700000.0</td>\n",
       "      <td>37.30</td>\n",
       "      <td>2017-11-02T00:00:00</td>\n",
       "      <td>1</td>\n",
       "      <td>NaN</td>\n",
       "      <td>26.0</td>\n",
       "      <td>10.60</td>\n",
       "      <td>6</td>\n",
       "      <td>NaN</td>\n",
       "      <td>...</td>\n",
       "      <td>14.40</td>\n",
       "      <td>1.0</td>\n",
       "      <td>посёлок Парголово</td>\n",
       "      <td>52996.0</td>\n",
       "      <td>19143.0</td>\n",
       "      <td>0.0</td>\n",
       "      <td>NaN</td>\n",
       "      <td>0.0</td>\n",
       "      <td>NaN</td>\n",
       "      <td>155.0</td>\n",
       "    </tr>\n",
       "    <tr>\n",
       "      <th>7</th>\n",
       "      <td>5</td>\n",
       "      <td>7915000.0</td>\n",
       "      <td>71.60</td>\n",
       "      <td>2019-04-18T00:00:00</td>\n",
       "      <td>2</td>\n",
       "      <td>NaN</td>\n",
       "      <td>24.0</td>\n",
       "      <td>NaN</td>\n",
       "      <td>22</td>\n",
       "      <td>NaN</td>\n",
       "      <td>...</td>\n",
       "      <td>18.90</td>\n",
       "      <td>2.0</td>\n",
       "      <td>Санкт-Петербург</td>\n",
       "      <td>23982.0</td>\n",
       "      <td>11634.0</td>\n",
       "      <td>0.0</td>\n",
       "      <td>NaN</td>\n",
       "      <td>0.0</td>\n",
       "      <td>NaN</td>\n",
       "      <td>NaN</td>\n",
       "    </tr>\n",
       "    <tr>\n",
       "      <th>8</th>\n",
       "      <td>20</td>\n",
       "      <td>2900000.0</td>\n",
       "      <td>33.16</td>\n",
       "      <td>2018-05-23T00:00:00</td>\n",
       "      <td>1</td>\n",
       "      <td>NaN</td>\n",
       "      <td>27.0</td>\n",
       "      <td>15.43</td>\n",
       "      <td>26</td>\n",
       "      <td>NaN</td>\n",
       "      <td>...</td>\n",
       "      <td>8.81</td>\n",
       "      <td>NaN</td>\n",
       "      <td>посёлок Мурино</td>\n",
       "      <td>NaN</td>\n",
       "      <td>NaN</td>\n",
       "      <td>NaN</td>\n",
       "      <td>NaN</td>\n",
       "      <td>NaN</td>\n",
       "      <td>NaN</td>\n",
       "      <td>189.0</td>\n",
       "    </tr>\n",
       "    <tr>\n",
       "      <th>9</th>\n",
       "      <td>18</td>\n",
       "      <td>5400000.0</td>\n",
       "      <td>61.00</td>\n",
       "      <td>2017-02-26T00:00:00</td>\n",
       "      <td>3</td>\n",
       "      <td>2.50</td>\n",
       "      <td>9.0</td>\n",
       "      <td>43.60</td>\n",
       "      <td>7</td>\n",
       "      <td>NaN</td>\n",
       "      <td>...</td>\n",
       "      <td>6.50</td>\n",
       "      <td>2.0</td>\n",
       "      <td>Санкт-Петербург</td>\n",
       "      <td>50898.0</td>\n",
       "      <td>15008.0</td>\n",
       "      <td>0.0</td>\n",
       "      <td>NaN</td>\n",
       "      <td>0.0</td>\n",
       "      <td>NaN</td>\n",
       "      <td>289.0</td>\n",
       "    </tr>\n",
       "    <tr>\n",
       "      <th>10</th>\n",
       "      <td>5</td>\n",
       "      <td>5050000.0</td>\n",
       "      <td>39.60</td>\n",
       "      <td>2017-11-16T00:00:00</td>\n",
       "      <td>1</td>\n",
       "      <td>2.67</td>\n",
       "      <td>12.0</td>\n",
       "      <td>20.30</td>\n",
       "      <td>3</td>\n",
       "      <td>NaN</td>\n",
       "      <td>...</td>\n",
       "      <td>8.50</td>\n",
       "      <td>NaN</td>\n",
       "      <td>Санкт-Петербург</td>\n",
       "      <td>38357.0</td>\n",
       "      <td>13878.0</td>\n",
       "      <td>1.0</td>\n",
       "      <td>310.0</td>\n",
       "      <td>2.0</td>\n",
       "      <td>553.0</td>\n",
       "      <td>137.0</td>\n",
       "    </tr>\n",
       "    <tr>\n",
       "      <th>11</th>\n",
       "      <td>9</td>\n",
       "      <td>3300000.0</td>\n",
       "      <td>44.00</td>\n",
       "      <td>2018-08-27T00:00:00</td>\n",
       "      <td>2</td>\n",
       "      <td>NaN</td>\n",
       "      <td>5.0</td>\n",
       "      <td>31.00</td>\n",
       "      <td>4</td>\n",
       "      <td>False</td>\n",
       "      <td>...</td>\n",
       "      <td>6.00</td>\n",
       "      <td>1.0</td>\n",
       "      <td>Ломоносов</td>\n",
       "      <td>48252.0</td>\n",
       "      <td>51677.0</td>\n",
       "      <td>0.0</td>\n",
       "      <td>NaN</td>\n",
       "      <td>0.0</td>\n",
       "      <td>NaN</td>\n",
       "      <td>7.0</td>\n",
       "    </tr>\n",
       "    <tr>\n",
       "      <th>12</th>\n",
       "      <td>10</td>\n",
       "      <td>3890000.0</td>\n",
       "      <td>54.00</td>\n",
       "      <td>2016-06-30T00:00:00</td>\n",
       "      <td>2</td>\n",
       "      <td>NaN</td>\n",
       "      <td>5.0</td>\n",
       "      <td>30.00</td>\n",
       "      <td>5</td>\n",
       "      <td>NaN</td>\n",
       "      <td>...</td>\n",
       "      <td>9.00</td>\n",
       "      <td>0.0</td>\n",
       "      <td>Сертолово</td>\n",
       "      <td>NaN</td>\n",
       "      <td>NaN</td>\n",
       "      <td>NaN</td>\n",
       "      <td>NaN</td>\n",
       "      <td>NaN</td>\n",
       "      <td>NaN</td>\n",
       "      <td>90.0</td>\n",
       "    </tr>\n",
       "    <tr>\n",
       "      <th>13</th>\n",
       "      <td>20</td>\n",
       "      <td>3550000.0</td>\n",
       "      <td>42.80</td>\n",
       "      <td>2017-07-01T00:00:00</td>\n",
       "      <td>2</td>\n",
       "      <td>2.56</td>\n",
       "      <td>5.0</td>\n",
       "      <td>27.00</td>\n",
       "      <td>5</td>\n",
       "      <td>NaN</td>\n",
       "      <td>...</td>\n",
       "      <td>5.20</td>\n",
       "      <td>1.0</td>\n",
       "      <td>Петергоф</td>\n",
       "      <td>37868.0</td>\n",
       "      <td>33058.0</td>\n",
       "      <td>1.0</td>\n",
       "      <td>294.0</td>\n",
       "      <td>3.0</td>\n",
       "      <td>298.0</td>\n",
       "      <td>366.0</td>\n",
       "    </tr>\n",
       "    <tr>\n",
       "      <th>14</th>\n",
       "      <td>1</td>\n",
       "      <td>4400000.0</td>\n",
       "      <td>36.00</td>\n",
       "      <td>2016-06-23T00:00:00</td>\n",
       "      <td>1</td>\n",
       "      <td>NaN</td>\n",
       "      <td>6.0</td>\n",
       "      <td>17.00</td>\n",
       "      <td>1</td>\n",
       "      <td>NaN</td>\n",
       "      <td>...</td>\n",
       "      <td>8.00</td>\n",
       "      <td>0.0</td>\n",
       "      <td>Пушкин</td>\n",
       "      <td>20782.0</td>\n",
       "      <td>30759.0</td>\n",
       "      <td>0.0</td>\n",
       "      <td>NaN</td>\n",
       "      <td>1.0</td>\n",
       "      <td>96.0</td>\n",
       "      <td>203.0</td>\n",
       "    </tr>\n",
       "  </tbody>\n",
       "</table>\n",
       "<p>15 rows × 22 columns</p>\n",
       "</div>"
      ],
      "text/plain": [
       "    total_images  last_price  total_area first_day_exposition  rooms  \\\n",
       "0             20  13000000.0      108.00  2019-03-07T00:00:00      3   \n",
       "1              7   3350000.0       40.40  2018-12-04T00:00:00      1   \n",
       "2             10   5196000.0       56.00  2015-08-20T00:00:00      2   \n",
       "3              0  64900000.0      159.00  2015-07-24T00:00:00      3   \n",
       "4              2  10000000.0      100.00  2018-06-19T00:00:00      2   \n",
       "5             10   2890000.0       30.40  2018-09-10T00:00:00      1   \n",
       "6              6   3700000.0       37.30  2017-11-02T00:00:00      1   \n",
       "7              5   7915000.0       71.60  2019-04-18T00:00:00      2   \n",
       "8             20   2900000.0       33.16  2018-05-23T00:00:00      1   \n",
       "9             18   5400000.0       61.00  2017-02-26T00:00:00      3   \n",
       "10             5   5050000.0       39.60  2017-11-16T00:00:00      1   \n",
       "11             9   3300000.0       44.00  2018-08-27T00:00:00      2   \n",
       "12            10   3890000.0       54.00  2016-06-30T00:00:00      2   \n",
       "13            20   3550000.0       42.80  2017-07-01T00:00:00      2   \n",
       "14             1   4400000.0       36.00  2016-06-23T00:00:00      1   \n",
       "\n",
       "    ceiling_height  floors_total  living_area  floor is_apartment  ...  \\\n",
       "0             2.70          16.0        51.00      8          NaN  ...   \n",
       "1              NaN          11.0        18.60      1          NaN  ...   \n",
       "2              NaN           5.0        34.30      4          NaN  ...   \n",
       "3              NaN          14.0          NaN      9          NaN  ...   \n",
       "4             3.03          14.0        32.00     13          NaN  ...   \n",
       "5              NaN          12.0        14.40      5          NaN  ...   \n",
       "6              NaN          26.0        10.60      6          NaN  ...   \n",
       "7              NaN          24.0          NaN     22          NaN  ...   \n",
       "8              NaN          27.0        15.43     26          NaN  ...   \n",
       "9             2.50           9.0        43.60      7          NaN  ...   \n",
       "10            2.67          12.0        20.30      3          NaN  ...   \n",
       "11             NaN           5.0        31.00      4        False  ...   \n",
       "12             NaN           5.0        30.00      5          NaN  ...   \n",
       "13            2.56           5.0        27.00      5          NaN  ...   \n",
       "14             NaN           6.0        17.00      1          NaN  ...   \n",
       "\n",
       "    kitchen_area  balcony              locality_name  airports_nearest  \\\n",
       "0          25.00      NaN            Санкт-Петербург           18863.0   \n",
       "1          11.00      2.0             посёлок Шушары           12817.0   \n",
       "2           8.30      0.0            Санкт-Петербург           21741.0   \n",
       "3            NaN      0.0            Санкт-Петербург           28098.0   \n",
       "4          41.00      NaN            Санкт-Петербург           31856.0   \n",
       "5           9.10      NaN  городской посёлок Янино-1               NaN   \n",
       "6          14.40      1.0          посёлок Парголово           52996.0   \n",
       "7          18.90      2.0            Санкт-Петербург           23982.0   \n",
       "8           8.81      NaN             посёлок Мурино               NaN   \n",
       "9           6.50      2.0            Санкт-Петербург           50898.0   \n",
       "10          8.50      NaN            Санкт-Петербург           38357.0   \n",
       "11          6.00      1.0                  Ломоносов           48252.0   \n",
       "12          9.00      0.0                  Сертолово               NaN   \n",
       "13          5.20      1.0                   Петергоф           37868.0   \n",
       "14          8.00      0.0                     Пушкин           20782.0   \n",
       "\n",
       "   cityCenters_nearest  parks_around3000  parks_nearest  ponds_around3000  \\\n",
       "0              16028.0               1.0          482.0               2.0   \n",
       "1              18603.0               0.0            NaN               0.0   \n",
       "2              13933.0               1.0           90.0               2.0   \n",
       "3               6800.0               2.0           84.0               3.0   \n",
       "4               8098.0               2.0          112.0               1.0   \n",
       "5                  NaN               NaN            NaN               NaN   \n",
       "6              19143.0               0.0            NaN               0.0   \n",
       "7              11634.0               0.0            NaN               0.0   \n",
       "8                  NaN               NaN            NaN               NaN   \n",
       "9              15008.0               0.0            NaN               0.0   \n",
       "10             13878.0               1.0          310.0               2.0   \n",
       "11             51677.0               0.0            NaN               0.0   \n",
       "12                 NaN               NaN            NaN               NaN   \n",
       "13             33058.0               1.0          294.0               3.0   \n",
       "14             30759.0               0.0            NaN               1.0   \n",
       "\n",
       "    ponds_nearest  days_exposition  \n",
       "0           755.0              NaN  \n",
       "1             NaN             81.0  \n",
       "2           574.0            558.0  \n",
       "3           234.0            424.0  \n",
       "4            48.0            121.0  \n",
       "5             NaN             55.0  \n",
       "6             NaN            155.0  \n",
       "7             NaN              NaN  \n",
       "8             NaN            189.0  \n",
       "9             NaN            289.0  \n",
       "10          553.0            137.0  \n",
       "11            NaN              7.0  \n",
       "12            NaN             90.0  \n",
       "13          298.0            366.0  \n",
       "14           96.0            203.0  \n",
       "\n",
       "[15 rows x 22 columns]"
      ]
     },
     "execution_count": 4,
     "metadata": {},
     "output_type": "execute_result"
    }
   ],
   "source": [
    "data.head(15)"
   ]
  },
  {
   "cell_type": "code",
   "execution_count": 5,
   "metadata": {},
   "outputs": [
    {
     "name": "stdout",
     "output_type": "stream",
     "text": [
      "<class 'pandas.core.frame.DataFrame'>\n",
      "RangeIndex: 23699 entries, 0 to 23698\n",
      "Data columns (total 22 columns):\n",
      " #   Column                Non-Null Count  Dtype  \n",
      "---  ------                --------------  -----  \n",
      " 0   total_images          23699 non-null  int64  \n",
      " 1   last_price            23699 non-null  float64\n",
      " 2   total_area            23699 non-null  float64\n",
      " 3   first_day_exposition  23699 non-null  object \n",
      " 4   rooms                 23699 non-null  int64  \n",
      " 5   ceiling_height        14504 non-null  float64\n",
      " 6   floors_total          23613 non-null  float64\n",
      " 7   living_area           21796 non-null  float64\n",
      " 8   floor                 23699 non-null  int64  \n",
      " 9   is_apartment          2775 non-null   object \n",
      " 10  studio                23699 non-null  bool   \n",
      " 11  open_plan             23699 non-null  bool   \n",
      " 12  kitchen_area          21421 non-null  float64\n",
      " 13  balcony               12180 non-null  float64\n",
      " 14  locality_name         23650 non-null  object \n",
      " 15  airports_nearest      18157 non-null  float64\n",
      " 16  cityCenters_nearest   18180 non-null  float64\n",
      " 17  parks_around3000      18181 non-null  float64\n",
      " 18  parks_nearest         8079 non-null   float64\n",
      " 19  ponds_around3000      18181 non-null  float64\n",
      " 20  ponds_nearest         9110 non-null   float64\n",
      " 21  days_exposition       20518 non-null  float64\n",
      "dtypes: bool(2), float64(14), int64(3), object(3)\n",
      "memory usage: 3.7+ MB\n"
     ]
    }
   ],
   "source": [
    "data.info()"
   ]
  },
  {
   "cell_type": "code",
   "execution_count": 6,
   "metadata": {},
   "outputs": [
    {
     "data": {
      "image/png": "[encoded data removed]",
      "text/plain": [
       "<Figure size 1368x1368 with 20 Axes>"
      ]
     },
     "metadata": {
      "needs_background": "light"
     },
     "output_type": "display_data"
    }
   ],
   "source": [
    "data.hist(figsize=(19, 19))\n",
    "plt.show();"
   ]
  },
  {
   "cell_type": "markdown",
   "metadata": {},
   "source": [
    "**Вывод**\n",
    "\n",
    "Во многих столбцах есть пропуски, некоторые типы данных неудобны для дальнейшей работы. Исправим))"
   ]
  },
  {
   "cell_type": "markdown",
   "metadata": {},
   "source": [
    "### Предобработка данных"
   ]
  },
  {
   "cell_type": "markdown",
   "metadata": {},
   "source": [
    "#### Изучим пропуски в исходной таблице"
   ]
  },
  {
   "cell_type": "code",
   "execution_count": 7,
   "metadata": {},
   "outputs": [
    {
     "data": {
      "text/plain": [
       "total_images                0\n",
       "last_price                  0\n",
       "total_area                  0\n",
       "first_day_exposition        0\n",
       "rooms                       0\n",
       "ceiling_height           9195\n",
       "floors_total               86\n",
       "living_area              1903\n",
       "floor                       0\n",
       "is_apartment            20924\n",
       "studio                      0\n",
       "open_plan                   0\n",
       "kitchen_area             2278\n",
       "balcony                 11519\n",
       "locality_name              49\n",
       "airports_nearest         5542\n",
       "cityCenters_nearest      5519\n",
       "parks_around3000         5518\n",
       "parks_nearest           15620\n",
       "ponds_around3000         5518\n",
       "ponds_nearest           14589\n",
       "days_exposition          3181\n",
       "dtype: int64"
      ]
     },
     "execution_count": 7,
     "metadata": {},
     "output_type": "execute_result"
    }
   ],
   "source": [
    "data.isna().sum()"
   ]
  },
  {
   "cell_type": "markdown",
   "metadata": {},
   "source": [
    "**Заменяем все значения `NaN` в столбце `balcony` на 0:**"
   ]
  },
  {
   "cell_type": "code",
   "execution_count": 8,
   "metadata": {},
   "outputs": [],
   "source": [
    "data['balcony'] = data['balcony'].fillna(0.0)"
   ]
  },
  {
   "cell_type": "code",
   "execution_count": 9,
   "metadata": {},
   "outputs": [],
   "source": [
    "data['is_apartment'] = data['is_apartment'].fillna('False')"
   ]
  },
  {
   "cell_type": "markdown",
   "metadata": {},
   "source": [
    "**Проверка**"
   ]
  },
  {
   "cell_type": "code",
   "execution_count": 10,
   "metadata": {
    "scrolled": true
   },
   "outputs": [
    {
     "data": {
      "text/plain": [
       "total_images                0\n",
       "last_price                  0\n",
       "total_area                  0\n",
       "first_day_exposition        0\n",
       "rooms                       0\n",
       "ceiling_height           9195\n",
       "floors_total               86\n",
       "living_area              1903\n",
       "floor                       0\n",
       "is_apartment                0\n",
       "studio                      0\n",
       "open_plan                   0\n",
       "kitchen_area             2278\n",
       "balcony                     0\n",
       "locality_name              49\n",
       "airports_nearest         5542\n",
       "cityCenters_nearest      5519\n",
       "parks_around3000         5518\n",
       "parks_nearest           15620\n",
       "ponds_around3000         5518\n",
       "ponds_nearest           14589\n",
       "days_exposition          3181\n",
       "dtype: int64"
      ]
     },
     "execution_count": 10,
     "metadata": {},
     "output_type": "execute_result"
    }
   ],
   "source": [
    "data.isna().sum()"
   ]
  },
  {
   "cell_type": "markdown",
   "metadata": {},
   "source": [
    "**Заменяем все значения `NaN` в столбце `ponds_around3000` на 0:**"
   ]
  },
  {
   "cell_type": "code",
   "execution_count": 11,
   "metadata": {},
   "outputs": [
    {
     "data": {
      "text/plain": [
       "5518"
      ]
     },
     "execution_count": 11,
     "metadata": {},
     "output_type": "execute_result"
    }
   ],
   "source": [
    "data['ponds_around3000'].isna().sum()"
   ]
  },
  {
   "cell_type": "code",
   "execution_count": 12,
   "metadata": {},
   "outputs": [],
   "source": [
    "data['ponds_around3000'] = data['ponds_around3000'].fillna(0.0)"
   ]
  },
  {
   "cell_type": "markdown",
   "metadata": {},
   "source": [
    "В таблице довольно много пропусков. У разных столбцов могут быть разные причины. Так, например, высоту потолков и количество этажей в доме продавцы могли забыть указать или не придать этому значение. То же касается `living_area` и `kitchen_area`.\n",
    "\n",
    "В столбце `is_apartment` могла, например, присутствовать галочка, является ли квартира аппартаментами или не является, поэтому большинство объявлений получились с пропусками.\n",
    "\n",
    "Данные о нахождении рядом аэропорта или озера в 49 случаях не могли быть определены, так как не указано `locality_name`. В большинстве же случаев могли быть сбои системы или картографические огрехи."
   ]
  },
  {
   "cell_type": "markdown",
   "metadata": {},
   "source": [
    "#### Изучим тип данных каждого столбца"
   ]
  },
  {
   "cell_type": "markdown",
   "metadata": {},
   "source": [
    "**Заменим тип данных в столбце `balcony` на `int`**"
   ]
  },
  {
   "cell_type": "code",
   "execution_count": 13,
   "metadata": {},
   "outputs": [],
   "source": [
    "data['balcony'] = data['balcony'].astype('int')"
   ]
  },
  {
   "cell_type": "markdown",
   "metadata": {},
   "source": [
    "**Заменим тип данных в столбце `last_price` на `int`**"
   ]
  },
  {
   "cell_type": "code",
   "execution_count": 14,
   "metadata": {},
   "outputs": [],
   "source": [
    "data['last_price'] = data['last_price'].astype('int')"
   ]
  },
  {
   "cell_type": "markdown",
   "metadata": {},
   "source": [
    "**Заменим тип данных в столбце `first_day_exposition` на `datetime`**"
   ]
  },
  {
   "cell_type": "code",
   "execution_count": 15,
   "metadata": {},
   "outputs": [],
   "source": [
    "data['first_day_exposition'] = pd.to_datetime(\n",
    "    data['first_day_exposition'], format='%Y-%m-%dT%H:%M:%S'\n",
    ")"
   ]
  },
  {
   "cell_type": "code",
   "execution_count": 16,
   "metadata": {},
   "outputs": [
    {
     "name": "stdout",
     "output_type": "stream",
     "text": [
      "<class 'pandas.core.frame.DataFrame'>\n",
      "RangeIndex: 23699 entries, 0 to 23698\n",
      "Data columns (total 22 columns):\n",
      " #   Column                Non-Null Count  Dtype         \n",
      "---  ------                --------------  -----         \n",
      " 0   total_images          23699 non-null  int64         \n",
      " 1   last_price            23699 non-null  int64         \n",
      " 2   total_area            23699 non-null  float64       \n",
      " 3   first_day_exposition  23699 non-null  datetime64[ns]\n",
      " 4   rooms                 23699 non-null  int64         \n",
      " 5   ceiling_height        14504 non-null  float64       \n",
      " 6   floors_total          23613 non-null  float64       \n",
      " 7   living_area           21796 non-null  float64       \n",
      " 8   floor                 23699 non-null  int64         \n",
      " 9   is_apartment          23699 non-null  object        \n",
      " 10  studio                23699 non-null  bool          \n",
      " 11  open_plan             23699 non-null  bool          \n",
      " 12  kitchen_area          21421 non-null  float64       \n",
      " 13  balcony               23699 non-null  int64         \n",
      " 14  locality_name         23650 non-null  object        \n",
      " 15  airports_nearest      18157 non-null  float64       \n",
      " 16  cityCenters_nearest   18180 non-null  float64       \n",
      " 17  parks_around3000      18181 non-null  float64       \n",
      " 18  parks_nearest         8079 non-null   float64       \n",
      " 19  ponds_around3000      23699 non-null  float64       \n",
      " 20  ponds_nearest         9110 non-null   float64       \n",
      " 21  days_exposition       20518 non-null  float64       \n",
      "dtypes: bool(2), datetime64[ns](1), float64(12), int64(5), object(2)\n",
      "memory usage: 3.7+ MB\n"
     ]
    }
   ],
   "source": [
    "data.info()"
   ]
  },
  {
   "cell_type": "code",
   "execution_count": 17,
   "metadata": {},
   "outputs": [
    {
     "data": {
      "text/html": [
       "<div>\n",
       "<style scoped>\n",
       "    .dataframe tbody tr th:only-of-type {\n",
       "        vertical-align: middle;\n",
       "    }\n",
       "\n",
       "    .dataframe tbody tr th {\n",
       "        vertical-align: top;\n",
       "    }\n",
       "\n",
       "    .dataframe thead th {\n",
       "        text-align: right;\n",
       "    }\n",
       "</style>\n",
       "<table border=\"1\" class=\"dataframe\">\n",
       "  <thead>\n",
       "    <tr style=\"text-align: right;\">\n",
       "      <th></th>\n",
       "      <th>total_images</th>\n",
       "      <th>last_price</th>\n",
       "      <th>total_area</th>\n",
       "      <th>first_day_exposition</th>\n",
       "      <th>rooms</th>\n",
       "      <th>ceiling_height</th>\n",
       "      <th>floors_total</th>\n",
       "      <th>living_area</th>\n",
       "      <th>floor</th>\n",
       "      <th>is_apartment</th>\n",
       "      <th>...</th>\n",
       "      <th>kitchen_area</th>\n",
       "      <th>balcony</th>\n",
       "      <th>locality_name</th>\n",
       "      <th>airports_nearest</th>\n",
       "      <th>cityCenters_nearest</th>\n",
       "      <th>parks_around3000</th>\n",
       "      <th>parks_nearest</th>\n",
       "      <th>ponds_around3000</th>\n",
       "      <th>ponds_nearest</th>\n",
       "      <th>days_exposition</th>\n",
       "    </tr>\n",
       "  </thead>\n",
       "  <tbody>\n",
       "    <tr>\n",
       "      <th>0</th>\n",
       "      <td>20</td>\n",
       "      <td>13000000</td>\n",
       "      <td>108.0</td>\n",
       "      <td>2019-03-07</td>\n",
       "      <td>3</td>\n",
       "      <td>2.70</td>\n",
       "      <td>16.0</td>\n",
       "      <td>51.0</td>\n",
       "      <td>8</td>\n",
       "      <td>False</td>\n",
       "      <td>...</td>\n",
       "      <td>25.0</td>\n",
       "      <td>0</td>\n",
       "      <td>Санкт-Петербург</td>\n",
       "      <td>18863.0</td>\n",
       "      <td>16028.0</td>\n",
       "      <td>1.0</td>\n",
       "      <td>482.0</td>\n",
       "      <td>2.0</td>\n",
       "      <td>755.0</td>\n",
       "      <td>NaN</td>\n",
       "    </tr>\n",
       "    <tr>\n",
       "      <th>1</th>\n",
       "      <td>7</td>\n",
       "      <td>3350000</td>\n",
       "      <td>40.4</td>\n",
       "      <td>2018-12-04</td>\n",
       "      <td>1</td>\n",
       "      <td>NaN</td>\n",
       "      <td>11.0</td>\n",
       "      <td>18.6</td>\n",
       "      <td>1</td>\n",
       "      <td>False</td>\n",
       "      <td>...</td>\n",
       "      <td>11.0</td>\n",
       "      <td>2</td>\n",
       "      <td>посёлок Шушары</td>\n",
       "      <td>12817.0</td>\n",
       "      <td>18603.0</td>\n",
       "      <td>0.0</td>\n",
       "      <td>NaN</td>\n",
       "      <td>0.0</td>\n",
       "      <td>NaN</td>\n",
       "      <td>81.0</td>\n",
       "    </tr>\n",
       "    <tr>\n",
       "      <th>2</th>\n",
       "      <td>10</td>\n",
       "      <td>5196000</td>\n",
       "      <td>56.0</td>\n",
       "      <td>2015-08-20</td>\n",
       "      <td>2</td>\n",
       "      <td>NaN</td>\n",
       "      <td>5.0</td>\n",
       "      <td>34.3</td>\n",
       "      <td>4</td>\n",
       "      <td>False</td>\n",
       "      <td>...</td>\n",
       "      <td>8.3</td>\n",
       "      <td>0</td>\n",
       "      <td>Санкт-Петербург</td>\n",
       "      <td>21741.0</td>\n",
       "      <td>13933.0</td>\n",
       "      <td>1.0</td>\n",
       "      <td>90.0</td>\n",
       "      <td>2.0</td>\n",
       "      <td>574.0</td>\n",
       "      <td>558.0</td>\n",
       "    </tr>\n",
       "    <tr>\n",
       "      <th>3</th>\n",
       "      <td>0</td>\n",
       "      <td>64900000</td>\n",
       "      <td>159.0</td>\n",
       "      <td>2015-07-24</td>\n",
       "      <td>3</td>\n",
       "      <td>NaN</td>\n",
       "      <td>14.0</td>\n",
       "      <td>NaN</td>\n",
       "      <td>9</td>\n",
       "      <td>False</td>\n",
       "      <td>...</td>\n",
       "      <td>NaN</td>\n",
       "      <td>0</td>\n",
       "      <td>Санкт-Петербург</td>\n",
       "      <td>28098.0</td>\n",
       "      <td>6800.0</td>\n",
       "      <td>2.0</td>\n",
       "      <td>84.0</td>\n",
       "      <td>3.0</td>\n",
       "      <td>234.0</td>\n",
       "      <td>424.0</td>\n",
       "    </tr>\n",
       "    <tr>\n",
       "      <th>4</th>\n",
       "      <td>2</td>\n",
       "      <td>10000000</td>\n",
       "      <td>100.0</td>\n",
       "      <td>2018-06-19</td>\n",
       "      <td>2</td>\n",
       "      <td>3.03</td>\n",
       "      <td>14.0</td>\n",
       "      <td>32.0</td>\n",
       "      <td>13</td>\n",
       "      <td>False</td>\n",
       "      <td>...</td>\n",
       "      <td>41.0</td>\n",
       "      <td>0</td>\n",
       "      <td>Санкт-Петербург</td>\n",
       "      <td>31856.0</td>\n",
       "      <td>8098.0</td>\n",
       "      <td>2.0</td>\n",
       "      <td>112.0</td>\n",
       "      <td>1.0</td>\n",
       "      <td>48.0</td>\n",
       "      <td>121.0</td>\n",
       "    </tr>\n",
       "  </tbody>\n",
       "</table>\n",
       "<p>5 rows × 22 columns</p>\n",
       "</div>"
      ],
      "text/plain": [
       "   total_images  last_price  total_area first_day_exposition  rooms  \\\n",
       "0            20    13000000       108.0           2019-03-07      3   \n",
       "1             7     3350000        40.4           2018-12-04      1   \n",
       "2            10     5196000        56.0           2015-08-20      2   \n",
       "3             0    64900000       159.0           2015-07-24      3   \n",
       "4             2    10000000       100.0           2018-06-19      2   \n",
       "\n",
       "   ceiling_height  floors_total  living_area  floor is_apartment  ...  \\\n",
       "0            2.70          16.0         51.0      8        False  ...   \n",
       "1             NaN          11.0         18.6      1        False  ...   \n",
       "2             NaN           5.0         34.3      4        False  ...   \n",
       "3             NaN          14.0          NaN      9        False  ...   \n",
       "4            3.03          14.0         32.0     13        False  ...   \n",
       "\n",
       "   kitchen_area  balcony    locality_name  airports_nearest  \\\n",
       "0          25.0        0  Санкт-Петербург           18863.0   \n",
       "1          11.0        2   посёлок Шушары           12817.0   \n",
       "2           8.3        0  Санкт-Петербург           21741.0   \n",
       "3           NaN        0  Санкт-Петербург           28098.0   \n",
       "4          41.0        0  Санкт-Петербург           31856.0   \n",
       "\n",
       "  cityCenters_nearest  parks_around3000  parks_nearest  ponds_around3000  \\\n",
       "0             16028.0               1.0          482.0               2.0   \n",
       "1             18603.0               0.0            NaN               0.0   \n",
       "2             13933.0               1.0           90.0               2.0   \n",
       "3              6800.0               2.0           84.0               3.0   \n",
       "4              8098.0               2.0          112.0               1.0   \n",
       "\n",
       "   ponds_nearest  days_exposition  \n",
       "0          755.0              NaN  \n",
       "1            NaN             81.0  \n",
       "2          574.0            558.0  \n",
       "3          234.0            424.0  \n",
       "4           48.0            121.0  \n",
       "\n",
       "[5 rows x 22 columns]"
      ]
     },
     "execution_count": 17,
     "metadata": {},
     "output_type": "execute_result"
    }
   ],
   "source": [
    "data.head()"
   ]
  },
  {
   "cell_type": "markdown",
   "metadata": {},
   "source": [
    "**Вывод**\n",
    "\n",
    "Замена типа данных была произведена для того, чтобы была возможность работать со временем. Например, сделать выборку по месяцам или по дням. "
   ]
  },
  {
   "cell_type": "markdown",
   "metadata": {},
   "source": [
    "#### Устранение неявных дубликатов"
   ]
  },
  {
   "cell_type": "markdown",
   "metadata": {},
   "source": [
    "**Устраним неявные дубликаты с столбце `locality_name`**"
   ]
  },
  {
   "cell_type": "code",
   "execution_count": 18,
   "metadata": {},
   "outputs": [
    {
     "data": {
      "text/plain": [
       "array(['Бокситогорск', 'Волосово', 'Волхов', 'Всеволожск', 'Выборг',\n",
       "       'Высоцк', 'Гатчина', 'Зеленогорск', 'Ивангород', 'Каменногорск',\n",
       "       'Кингисепп', 'Кириши', 'Кировск', 'Колпино', 'Коммунар',\n",
       "       'Красное Село', 'Кронштадт', 'Кудрово', 'Лодейное Поле',\n",
       "       'Ломоносов', 'Луга', 'Любань', 'Мурино', 'Никольское',\n",
       "       'Новая Ладога', 'Отрадное', 'Павловск', 'Петергоф', 'Пикалёво',\n",
       "       'Подпорожье', 'Приморск', 'Приозерск', 'Пушкин', 'Санкт-Петербург',\n",
       "       'Светогорск', 'Сертолово', 'Сестрорецк', 'Сланцы', 'Сосновый Бор',\n",
       "       'Сясьстрой', 'Тихвин', 'Тосно', 'Шлиссельбург',\n",
       "       'городской поселок Большая Ижора', 'городской поселок Янино-1',\n",
       "       'городской посёлок Будогощь', 'городской посёлок Виллози',\n",
       "       'городской посёлок Лесогорский', 'городской посёлок Мга',\n",
       "       'городской посёлок Назия', 'городской посёлок Новоселье',\n",
       "       'городской посёлок Павлово', 'городской посёлок Рощино',\n",
       "       'городской посёлок Свирьстрой', 'городской посёлок Советский',\n",
       "       'городской посёлок Фёдоровское', 'городской посёлок Янино-1',\n",
       "       'деревня Агалатово', 'деревня Аро', 'деревня Батово',\n",
       "       'деревня Бегуницы', 'деревня Белогорка', 'деревня Большая Вруда',\n",
       "       'деревня Большая Пустомержа', 'деревня Большие Колпаны',\n",
       "       'деревня Большое Рейзино', 'деревня Большой Сабск', 'деревня Бор',\n",
       "       'деревня Борисова Грива', 'деревня Ваганово', 'деревня Вартемяги',\n",
       "       'деревня Вахнова Кара', 'деревня Выскатка', 'деревня Гарболово',\n",
       "       'деревня Глинка', 'деревня Горбунки', 'деревня Гостилицы',\n",
       "       'деревня Заклинье', 'деревня Заневка', 'деревня Зимитицы',\n",
       "       'деревня Извара', 'деревня Иссад', 'деревня Калитино',\n",
       "       'деревня Кальтино', 'деревня Камышовка', 'деревня Каськово',\n",
       "       'деревня Келози', 'деревня Кипень', 'деревня Кисельня',\n",
       "       'деревня Колтуши', 'деревня Коркино', 'деревня Котлы',\n",
       "       'деревня Кривко', 'деревня Кудрово', 'деревня Кузьмолово',\n",
       "       'деревня Курковицы', 'деревня Куровицы', 'деревня Куттузи',\n",
       "       'деревня Лаврики', 'деревня Лаголово', 'деревня Лампово',\n",
       "       'деревня Лесколово', 'деревня Лопухинка', 'деревня Лупполово',\n",
       "       'деревня Малая Романовка', 'деревня Малое Верево',\n",
       "       'деревня Малое Карлино', 'деревня Малые Колпаны',\n",
       "       'деревня Мануйлово', 'деревня Меньково', 'деревня Мины',\n",
       "       'деревня Мистолово', 'деревня Ненимяки', 'деревня Нижние Осельки',\n",
       "       'деревня Нижняя', 'деревня Низино', 'деревня Новое Девяткино',\n",
       "       'деревня Новолисино', 'деревня Нурма', 'деревня Оржицы',\n",
       "       'деревня Парицы', 'деревня Пельгора', 'деревня Пеники',\n",
       "       'деревня Пижма', 'деревня Пикколово', 'деревня Пудомяги',\n",
       "       'деревня Пустынка', 'деревня Пчева', 'деревня Рабитицы',\n",
       "       'деревня Разбегаево', 'деревня Раздолье', 'деревня Разметелево',\n",
       "       'деревня Рапполово', 'деревня Реброво', 'деревня Русско',\n",
       "       'деревня Сижно', 'деревня Снегирёвка', 'деревня Старая',\n",
       "       'деревня Старая Пустошь', 'деревня Старое Хинколово',\n",
       "       'деревня Старополье', 'деревня Старосиверская',\n",
       "       'деревня Старые Бегуницы', 'деревня Суоранда',\n",
       "       'деревня Сяськелево', 'деревня Тарасово', 'деревня Терпилицы',\n",
       "       'деревня Тихковицы', 'деревня Тойворово', 'деревня Торосово',\n",
       "       'деревня Торошковичи', 'деревня Трубников Бор',\n",
       "       'деревня Фалилеево', 'деревня Фёдоровское', 'деревня Хапо-Ое',\n",
       "       'деревня Хязельки', 'деревня Чудской Бор', 'деревня Шпаньково',\n",
       "       'деревня Щеглово', 'деревня Юкки', 'деревня Ялгино',\n",
       "       'деревня Яльгелево', 'деревня Ям-Тесово',\n",
       "       'коттеджный поселок Кивеннапа Север', 'коттеджный поселок Счастье',\n",
       "       'коттеджный посёлок Лесное', 'поселок Аннино', 'поселок Барышево',\n",
       "       'поселок Бугры', 'поселок Возрождение', 'поселок Войсковицы',\n",
       "       'поселок Володарское', 'поселок Гаврилово', 'поселок Гарболово',\n",
       "       'поселок Гладкое', 'поселок Глажево', 'поселок Глебычево',\n",
       "       'поселок Гончарово', 'поселок Громово', 'поселок Дружноселье',\n",
       "       'поселок Елизаветино', 'поселок Жилгородок', 'поселок Жилпосёлок',\n",
       "       'поселок Житково', 'поселок Заводской', 'поселок Запорожское',\n",
       "       'поселок Зимитицы', 'поселок Ильичёво', 'поселок Калитино',\n",
       "       'поселок Каложицы', 'поселок Кингисеппский', 'поселок Кирпичное',\n",
       "       'поселок Кобралово', 'поселок Кобринское', 'поселок Коммунары',\n",
       "       'поселок Коробицыно', 'поселок Котельский',\n",
       "       'поселок Красная Долина', 'поселок Красносельское',\n",
       "       'поселок Лесное', 'поселок Лисий Нос', 'поселок Лукаши',\n",
       "       'поселок Любань', 'поселок Мельниково', 'поселок Мичуринское',\n",
       "       'поселок Молодцово', 'поселок Мурино', 'поселок Новый Свет',\n",
       "       'поселок Новый Учхоз', 'поселок Оредеж',\n",
       "       'поселок Пансионат Зелёный Бор', 'поселок Первомайское',\n",
       "       'поселок Перово', 'поселок Петровское', 'поселок Победа',\n",
       "       'поселок Поляны', 'поселок Почап', 'поселок Починок',\n",
       "       'поселок Пушное', 'поселок Пчевжа', 'поселок Рабитицы',\n",
       "       'поселок Романовка', 'поселок Ромашки', 'поселок Рябово',\n",
       "       'поселок Севастьяново', 'поселок Селезнёво', 'поселок Сельцо',\n",
       "       'поселок Семиозерье', 'поселок Семрино', 'поселок Серебрянский',\n",
       "       'поселок Совхозный', 'поселок Старая Малукса',\n",
       "       'поселок Стеклянный', 'поселок Сумино', 'поселок Суходолье',\n",
       "       'поселок Тельмана', 'поселок Терволово', 'поселок Торковичи',\n",
       "       'поселок Тёсово-4', 'поселок Углово', 'поселок Усть-Луга',\n",
       "       'поселок Ушаки', 'поселок Цвелодубово', 'поселок Цвылёво',\n",
       "       'поселок городского типа Большая Ижора',\n",
       "       'поселок городского типа Вырица',\n",
       "       'поселок городского типа Дружная Горка',\n",
       "       'поселок городского типа Дубровка',\n",
       "       'поселок городского типа Ефимовский',\n",
       "       'поселок городского типа Кондратьево',\n",
       "       'поселок городского типа Красный Бор',\n",
       "       'поселок городского типа Кузьмоловский',\n",
       "       'поселок городского типа Лебяжье',\n",
       "       'поселок городского типа Лесогорский',\n",
       "       'поселок городского типа Назия',\n",
       "       'поселок городского типа Никольский',\n",
       "       'поселок городского типа Приладожский',\n",
       "       'поселок городского типа Рахья', 'поселок городского типа Рощино',\n",
       "       'поселок городского типа Рябово',\n",
       "       'поселок городского типа Синявино',\n",
       "       'поселок городского типа Советский',\n",
       "       'поселок городского типа Токсово',\n",
       "       'поселок городского типа Форносово',\n",
       "       'поселок городского типа имени Свердлова',\n",
       "       'поселок станции Вещево', 'поселок станции Корнево',\n",
       "       'поселок станции Лужайка', 'поселок станции Приветнинское',\n",
       "       'посёлок Александровская', 'посёлок Алексеевка', 'посёлок Аннино',\n",
       "       'посёлок Белоостров', 'посёлок Бугры', 'посёлок Возрождение',\n",
       "       'посёлок Войскорово', 'посёлок Высокоключевой',\n",
       "       'посёлок Гаврилово', 'посёлок Дзержинского', 'посёлок Жилгородок',\n",
       "       'посёлок Ильичёво', 'посёлок Кикерино', 'посёлок Кобралово',\n",
       "       'посёлок Коробицыно', 'посёлок Левашово', 'посёлок Ленинское',\n",
       "       'посёлок Лисий Нос', 'посёлок Мельниково', 'посёлок Металлострой',\n",
       "       'посёлок Мичуринское', 'посёлок Молодёжное', 'посёлок Мурино',\n",
       "       'посёлок Мыза-Ивановка', 'посёлок Новогорелово',\n",
       "       'посёлок Новый Свет', 'посёлок Пансионат Зелёный Бор',\n",
       "       'посёлок Парголово', 'посёлок Перово', 'посёлок Песочный',\n",
       "       'посёлок Петро-Славянка', 'посёлок Петровское',\n",
       "       'посёлок Платформа 69-й километр', 'посёлок Плодовое',\n",
       "       'посёлок Плоское', 'посёлок Победа', 'посёлок Поляны',\n",
       "       'посёлок Понтонный', 'посёлок Пригородный', 'посёлок Пудость',\n",
       "       'посёлок Репино', 'посёлок Ропша', 'посёлок Сапёрное',\n",
       "       'посёлок Сапёрный', 'посёлок Сосново', 'посёлок Старая Малукса',\n",
       "       'посёлок Стеклянный', 'посёлок Стрельна', 'посёлок Суйда',\n",
       "       'посёлок Сумино', 'посёлок Тельмана', 'посёлок Терволово',\n",
       "       'посёлок Торфяное', 'посёлок Усть-Ижора', 'посёлок Усть-Луга',\n",
       "       'посёлок Форт Красная Горка', 'посёлок Шугозеро', 'посёлок Шушары',\n",
       "       'посёлок Щеглово', 'посёлок городского типа Важины',\n",
       "       'посёлок городского типа Вознесенье',\n",
       "       'посёлок городского типа Вырица',\n",
       "       'посёлок городского типа Красный Бор',\n",
       "       'посёлок городского типа Кузнечное',\n",
       "       'посёлок городского типа Кузьмоловский',\n",
       "       'посёлок городского типа Лебяжье', 'посёлок городского типа Мга',\n",
       "       'посёлок городского типа Павлово',\n",
       "       'посёлок городского типа Рощино', 'посёлок городского типа Рябово',\n",
       "       'посёлок городского типа Сиверский',\n",
       "       'посёлок городского типа Тайцы', 'посёлок городского типа Токсово',\n",
       "       'посёлок городского типа Ульяновка',\n",
       "       'посёлок городского типа Форносово',\n",
       "       'посёлок городского типа имени Морозова',\n",
       "       'посёлок городского типа имени Свердлова',\n",
       "       'посёлок при железнодорожной станции Вещево',\n",
       "       'посёлок при железнодорожной станции Приветнинское',\n",
       "       'посёлок станции Громово', 'посёлок станции Свирь',\n",
       "       'садоводческое некоммерческое товарищество Лесная Поляна',\n",
       "       'садовое товарищество Новая Ропша',\n",
       "       'садовое товарищество Приладожский', 'садовое товарищество Рахья',\n",
       "       'садовое товарищество Садко', 'село Копорье', 'село Никольское',\n",
       "       'село Павлово', 'село Паша', 'село Путилово', 'село Рождествено',\n",
       "       'село Русско-Высоцкое', 'село Старая Ладога', 'село Шум', nan],\n",
       "      dtype=object)"
      ]
     },
     "execution_count": 18,
     "metadata": {},
     "output_type": "execute_result"
    }
   ],
   "source": [
    "data['locality_name'].sort_values().unique()"
   ]
  },
  {
   "cell_type": "code",
   "execution_count": 19,
   "metadata": {},
   "outputs": [],
   "source": [
    "def categorize_of_locality_name(row):\n",
    "    try:\n",
    "        if 'Рябов' in row:\n",
    "            return 'поселок городского типа Рябово'\n",
    "        elif 'Тельман' in row:\n",
    "            return 'посёлок Тельмана'\n",
    "        elif 'Янино-1' in row:\n",
    "            return 'городской посёлок Янино-1'\n",
    "        elif 'Кудров' in row:\n",
    "            return 'Кудрово'\n",
    "        elif 'Лесное' in row:\n",
    "            return 'коттеджный посёлок Лесное'\n",
    "        elif 'Бугр' in row:\n",
    "            return 'посёлок Бугры'\n",
    "        elif 'Возрождение' in row:\n",
    "            return 'посёлок Возрождение'\n",
    "        elif 'Лисий Нос' in row:\n",
    "            return 'посёлок Лисий Нос'\n",
    "        elif 'Мельниково' in row:\n",
    "            return 'посёлок Мельниково'\n",
    "        elif 'Мурино' in row:\n",
    "            return 'посёлок Мурино'\n",
    "        elif 'Мичуринское' in row:\n",
    "            return 'посёлок Мичуринское'\n",
    "        elif 'Новый Свет' in row:\n",
    "            return 'посёлок Новый Свет'\n",
    "        elif 'Пансионат Зелёный Бор' in row:\n",
    "            return 'посёлок Пансионат Зелёный Бор'\n",
    "        elif 'Парголово' in row:\n",
    "            return 'посёлок Парголово'\n",
    "        elif 'Петро-Славянка' in row:\n",
    "            return 'посёлок Петро-Славянка'\n",
    "        elif 'Победа' in row:\n",
    "            return 'посёлок Победа'\n",
    "        elif 'Терволово' in row:\n",
    "            return 'посёлок Терволово'\n",
    "        elif 'Усть-Луга' in row:\n",
    "            return 'посёлок Усть-Луга'\n",
    "        else:\n",
    "            return row\n",
    "                       \n",
    "    except:\n",
    "        return row\n",
    "    \n",
    "    \n",
    "    \n",
    "    \n",
    "    \n",
    "    "
   ]
  },
  {
   "cell_type": "code",
   "execution_count": 20,
   "metadata": {},
   "outputs": [],
   "source": [
    "data['locality_name'] = data['locality_name'].apply(categorize_of_locality_name)"
   ]
  },
  {
   "cell_type": "code",
   "execution_count": 21,
   "metadata": {},
   "outputs": [
    {
     "data": {
      "text/plain": [
       "0                         Санкт-Петербург\n",
       "1                          посёлок Шушары\n",
       "2                         Санкт-Петербург\n",
       "3                         Санкт-Петербург\n",
       "4                         Санкт-Петербург\n",
       "5               городской посёлок Янино-1\n",
       "6                       посёлок Парголово\n",
       "7                         Санкт-Петербург\n",
       "8                          посёлок Мурино\n",
       "9                         Санкт-Петербург\n",
       "10                        Санкт-Петербург\n",
       "11                              Ломоносов\n",
       "12                              Сертолово\n",
       "13                               Петергоф\n",
       "14                                 Пушкин\n",
       "15                        Санкт-Петербург\n",
       "16                        Санкт-Петербург\n",
       "17                        Санкт-Петербург\n",
       "18                        Санкт-Петербург\n",
       "19                        Санкт-Петербург\n",
       "20                      посёлок Парголово\n",
       "21                        Санкт-Петербург\n",
       "22                                Кудрово\n",
       "23                        Санкт-Петербург\n",
       "24                        Санкт-Петербург\n",
       "25                        Санкт-Петербург\n",
       "26                        Санкт-Петербург\n",
       "27                        Санкт-Петербург\n",
       "28                                 Пушкин\n",
       "29                        Санкт-Петербург\n",
       "30                               Коммунар\n",
       "31                        Санкт-Петербург\n",
       "32                        Санкт-Петербург\n",
       "33                                Колпино\n",
       "34                        Санкт-Петербург\n",
       "35                        Санкт-Петербург\n",
       "36                        Санкт-Петербург\n",
       "37    поселок городского типа Красный Бор\n",
       "38                         посёлок Мурино\n",
       "39                        Санкт-Петербург\n",
       "Name: locality_name, dtype: object"
      ]
     },
     "execution_count": 21,
     "metadata": {},
     "output_type": "execute_result"
    }
   ],
   "source": [
    "data['locality_name'].head(40)"
   ]
  },
  {
   "cell_type": "markdown",
   "metadata": {},
   "source": [
    "#### Обработка аномалий "
   ]
  },
  {
   "cell_type": "code",
   "execution_count": 22,
   "metadata": {},
   "outputs": [
    {
     "data": {
      "text/html": [
       "<div>\n",
       "<style scoped>\n",
       "    .dataframe tbody tr th:only-of-type {\n",
       "        vertical-align: middle;\n",
       "    }\n",
       "\n",
       "    .dataframe tbody tr th {\n",
       "        vertical-align: top;\n",
       "    }\n",
       "\n",
       "    .dataframe thead th {\n",
       "        text-align: right;\n",
       "    }\n",
       "</style>\n",
       "<table border=\"1\" class=\"dataframe\">\n",
       "  <thead>\n",
       "    <tr style=\"text-align: right;\">\n",
       "      <th></th>\n",
       "      <th>total_images</th>\n",
       "      <th>last_price</th>\n",
       "      <th>total_area</th>\n",
       "      <th>first_day_exposition</th>\n",
       "      <th>rooms</th>\n",
       "      <th>ceiling_height</th>\n",
       "      <th>floors_total</th>\n",
       "      <th>living_area</th>\n",
       "      <th>floor</th>\n",
       "      <th>is_apartment</th>\n",
       "      <th>...</th>\n",
       "      <th>kitchen_area</th>\n",
       "      <th>balcony</th>\n",
       "      <th>locality_name</th>\n",
       "      <th>airports_nearest</th>\n",
       "      <th>cityCenters_nearest</th>\n",
       "      <th>parks_around3000</th>\n",
       "      <th>parks_nearest</th>\n",
       "      <th>ponds_around3000</th>\n",
       "      <th>ponds_nearest</th>\n",
       "      <th>days_exposition</th>\n",
       "    </tr>\n",
       "  </thead>\n",
       "  <tbody>\n",
       "    <tr>\n",
       "      <th>355</th>\n",
       "      <td>17</td>\n",
       "      <td>3600000</td>\n",
       "      <td>55.2</td>\n",
       "      <td>2018-07-12</td>\n",
       "      <td>2</td>\n",
       "      <td>25.0</td>\n",
       "      <td>5.0</td>\n",
       "      <td>32.0</td>\n",
       "      <td>2</td>\n",
       "      <td>False</td>\n",
       "      <td>...</td>\n",
       "      <td>NaN</td>\n",
       "      <td>2</td>\n",
       "      <td>Гатчина</td>\n",
       "      <td>NaN</td>\n",
       "      <td>NaN</td>\n",
       "      <td>NaN</td>\n",
       "      <td>NaN</td>\n",
       "      <td>0.0</td>\n",
       "      <td>NaN</td>\n",
       "      <td>259.0</td>\n",
       "    </tr>\n",
       "    <tr>\n",
       "      <th>464</th>\n",
       "      <td>15</td>\n",
       "      <td>66571000</td>\n",
       "      <td>280.3</td>\n",
       "      <td>2015-06-11</td>\n",
       "      <td>6</td>\n",
       "      <td>5.2</td>\n",
       "      <td>8.0</td>\n",
       "      <td>159.5</td>\n",
       "      <td>7</td>\n",
       "      <td>False</td>\n",
       "      <td>...</td>\n",
       "      <td>21.1</td>\n",
       "      <td>0</td>\n",
       "      <td>Санкт-Петербург</td>\n",
       "      <td>26316.0</td>\n",
       "      <td>6655.0</td>\n",
       "      <td>3.0</td>\n",
       "      <td>187.0</td>\n",
       "      <td>1.0</td>\n",
       "      <td>616.0</td>\n",
       "      <td>578.0</td>\n",
       "    </tr>\n",
       "    <tr>\n",
       "      <th>1026</th>\n",
       "      <td>20</td>\n",
       "      <td>155000000</td>\n",
       "      <td>310.0</td>\n",
       "      <td>2018-10-12</td>\n",
       "      <td>5</td>\n",
       "      <td>5.3</td>\n",
       "      <td>3.0</td>\n",
       "      <td>190.0</td>\n",
       "      <td>3</td>\n",
       "      <td>False</td>\n",
       "      <td>...</td>\n",
       "      <td>63.0</td>\n",
       "      <td>2</td>\n",
       "      <td>Санкт-Петербург</td>\n",
       "      <td>24899.0</td>\n",
       "      <td>4785.0</td>\n",
       "      <td>0.0</td>\n",
       "      <td>NaN</td>\n",
       "      <td>1.0</td>\n",
       "      <td>603.0</td>\n",
       "      <td>NaN</td>\n",
       "    </tr>\n",
       "    <tr>\n",
       "      <th>1388</th>\n",
       "      <td>20</td>\n",
       "      <td>59800000</td>\n",
       "      <td>399.0</td>\n",
       "      <td>2015-01-21</td>\n",
       "      <td>5</td>\n",
       "      <td>5.6</td>\n",
       "      <td>6.0</td>\n",
       "      <td>NaN</td>\n",
       "      <td>6</td>\n",
       "      <td>False</td>\n",
       "      <td>...</td>\n",
       "      <td>NaN</td>\n",
       "      <td>0</td>\n",
       "      <td>Санкт-Петербург</td>\n",
       "      <td>26204.0</td>\n",
       "      <td>6934.0</td>\n",
       "      <td>2.0</td>\n",
       "      <td>149.0</td>\n",
       "      <td>2.0</td>\n",
       "      <td>577.0</td>\n",
       "      <td>719.0</td>\n",
       "    </tr>\n",
       "    <tr>\n",
       "      <th>3148</th>\n",
       "      <td>14</td>\n",
       "      <td>2900000</td>\n",
       "      <td>75.0</td>\n",
       "      <td>2018-11-12</td>\n",
       "      <td>3</td>\n",
       "      <td>32.0</td>\n",
       "      <td>3.0</td>\n",
       "      <td>53.0</td>\n",
       "      <td>2</td>\n",
       "      <td>False</td>\n",
       "      <td>...</td>\n",
       "      <td>8.0</td>\n",
       "      <td>0</td>\n",
       "      <td>Волхов</td>\n",
       "      <td>NaN</td>\n",
       "      <td>NaN</td>\n",
       "      <td>NaN</td>\n",
       "      <td>NaN</td>\n",
       "      <td>0.0</td>\n",
       "      <td>NaN</td>\n",
       "      <td>NaN</td>\n",
       "    </tr>\n",
       "    <tr>\n",
       "      <th>3474</th>\n",
       "      <td>3</td>\n",
       "      <td>1400000</td>\n",
       "      <td>30.0</td>\n",
       "      <td>2018-03-16</td>\n",
       "      <td>1</td>\n",
       "      <td>8.0</td>\n",
       "      <td>5.0</td>\n",
       "      <td>15.3</td>\n",
       "      <td>2</td>\n",
       "      <td>False</td>\n",
       "      <td>...</td>\n",
       "      <td>7.3</td>\n",
       "      <td>0</td>\n",
       "      <td>деревня Нурма</td>\n",
       "      <td>NaN</td>\n",
       "      <td>NaN</td>\n",
       "      <td>NaN</td>\n",
       "      <td>NaN</td>\n",
       "      <td>0.0</td>\n",
       "      <td>NaN</td>\n",
       "      <td>125.0</td>\n",
       "    </tr>\n",
       "    <tr>\n",
       "      <th>4643</th>\n",
       "      <td>0</td>\n",
       "      <td>4300000</td>\n",
       "      <td>45.0</td>\n",
       "      <td>2018-02-01</td>\n",
       "      <td>2</td>\n",
       "      <td>25.0</td>\n",
       "      <td>9.0</td>\n",
       "      <td>30.0</td>\n",
       "      <td>2</td>\n",
       "      <td>False</td>\n",
       "      <td>...</td>\n",
       "      <td>7.0</td>\n",
       "      <td>1</td>\n",
       "      <td>Санкт-Петербург</td>\n",
       "      <td>12016.0</td>\n",
       "      <td>13256.0</td>\n",
       "      <td>1.0</td>\n",
       "      <td>658.0</td>\n",
       "      <td>1.0</td>\n",
       "      <td>331.0</td>\n",
       "      <td>181.0</td>\n",
       "    </tr>\n",
       "    <tr>\n",
       "      <th>4876</th>\n",
       "      <td>7</td>\n",
       "      <td>3000000</td>\n",
       "      <td>25.0</td>\n",
       "      <td>2017-09-27</td>\n",
       "      <td>0</td>\n",
       "      <td>27.0</td>\n",
       "      <td>25.0</td>\n",
       "      <td>17.0</td>\n",
       "      <td>17</td>\n",
       "      <td>False</td>\n",
       "      <td>...</td>\n",
       "      <td>NaN</td>\n",
       "      <td>2</td>\n",
       "      <td>посёлок Мурино</td>\n",
       "      <td>NaN</td>\n",
       "      <td>NaN</td>\n",
       "      <td>NaN</td>\n",
       "      <td>NaN</td>\n",
       "      <td>0.0</td>\n",
       "      <td>NaN</td>\n",
       "      <td>28.0</td>\n",
       "    </tr>\n",
       "    <tr>\n",
       "      <th>5076</th>\n",
       "      <td>0</td>\n",
       "      <td>3850000</td>\n",
       "      <td>30.5</td>\n",
       "      <td>2018-10-03</td>\n",
       "      <td>1</td>\n",
       "      <td>24.0</td>\n",
       "      <td>5.0</td>\n",
       "      <td>19.5</td>\n",
       "      <td>1</td>\n",
       "      <td>True</td>\n",
       "      <td>...</td>\n",
       "      <td>5.5</td>\n",
       "      <td>0</td>\n",
       "      <td>Санкт-Петербург</td>\n",
       "      <td>29686.0</td>\n",
       "      <td>8389.0</td>\n",
       "      <td>3.0</td>\n",
       "      <td>397.0</td>\n",
       "      <td>1.0</td>\n",
       "      <td>578.0</td>\n",
       "      <td>7.0</td>\n",
       "    </tr>\n",
       "    <tr>\n",
       "      <th>5246</th>\n",
       "      <td>0</td>\n",
       "      <td>2500000</td>\n",
       "      <td>54.0</td>\n",
       "      <td>2017-10-13</td>\n",
       "      <td>2</td>\n",
       "      <td>27.0</td>\n",
       "      <td>5.0</td>\n",
       "      <td>30.0</td>\n",
       "      <td>3</td>\n",
       "      <td>False</td>\n",
       "      <td>...</td>\n",
       "      <td>9.0</td>\n",
       "      <td>2</td>\n",
       "      <td>деревня Мины</td>\n",
       "      <td>NaN</td>\n",
       "      <td>NaN</td>\n",
       "      <td>NaN</td>\n",
       "      <td>NaN</td>\n",
       "      <td>0.0</td>\n",
       "      <td>NaN</td>\n",
       "      <td>540.0</td>\n",
       "    </tr>\n",
       "    <tr>\n",
       "      <th>5669</th>\n",
       "      <td>4</td>\n",
       "      <td>4400000</td>\n",
       "      <td>50.0</td>\n",
       "      <td>2017-08-08</td>\n",
       "      <td>2</td>\n",
       "      <td>26.0</td>\n",
       "      <td>9.0</td>\n",
       "      <td>21.3</td>\n",
       "      <td>3</td>\n",
       "      <td>False</td>\n",
       "      <td>...</td>\n",
       "      <td>7.0</td>\n",
       "      <td>2</td>\n",
       "      <td>Санкт-Петербург</td>\n",
       "      <td>28981.0</td>\n",
       "      <td>10912.0</td>\n",
       "      <td>1.0</td>\n",
       "      <td>305.0</td>\n",
       "      <td>0.0</td>\n",
       "      <td>NaN</td>\n",
       "      <td>267.0</td>\n",
       "    </tr>\n",
       "    <tr>\n",
       "      <th>5807</th>\n",
       "      <td>17</td>\n",
       "      <td>8150000</td>\n",
       "      <td>80.0</td>\n",
       "      <td>2019-01-09</td>\n",
       "      <td>2</td>\n",
       "      <td>27.0</td>\n",
       "      <td>36.0</td>\n",
       "      <td>41.0</td>\n",
       "      <td>13</td>\n",
       "      <td>False</td>\n",
       "      <td>...</td>\n",
       "      <td>12.0</td>\n",
       "      <td>5</td>\n",
       "      <td>Санкт-Петербург</td>\n",
       "      <td>18732.0</td>\n",
       "      <td>20444.0</td>\n",
       "      <td>0.0</td>\n",
       "      <td>NaN</td>\n",
       "      <td>3.0</td>\n",
       "      <td>80.0</td>\n",
       "      <td>38.0</td>\n",
       "    </tr>\n",
       "    <tr>\n",
       "      <th>5863</th>\n",
       "      <td>20</td>\n",
       "      <td>5650000</td>\n",
       "      <td>45.0</td>\n",
       "      <td>2018-08-15</td>\n",
       "      <td>1</td>\n",
       "      <td>8.3</td>\n",
       "      <td>16.0</td>\n",
       "      <td>19.3</td>\n",
       "      <td>14</td>\n",
       "      <td>False</td>\n",
       "      <td>...</td>\n",
       "      <td>8.3</td>\n",
       "      <td>1</td>\n",
       "      <td>Санкт-Петербург</td>\n",
       "      <td>13069.0</td>\n",
       "      <td>10763.0</td>\n",
       "      <td>0.0</td>\n",
       "      <td>NaN</td>\n",
       "      <td>1.0</td>\n",
       "      <td>613.0</td>\n",
       "      <td>14.0</td>\n",
       "    </tr>\n",
       "    <tr>\n",
       "      <th>6246</th>\n",
       "      <td>6</td>\n",
       "      <td>3300000</td>\n",
       "      <td>44.4</td>\n",
       "      <td>2019-03-25</td>\n",
       "      <td>2</td>\n",
       "      <td>25.0</td>\n",
       "      <td>5.0</td>\n",
       "      <td>31.3</td>\n",
       "      <td>5</td>\n",
       "      <td>False</td>\n",
       "      <td>...</td>\n",
       "      <td>5.7</td>\n",
       "      <td>0</td>\n",
       "      <td>Кронштадт</td>\n",
       "      <td>68923.0</td>\n",
       "      <td>50649.0</td>\n",
       "      <td>1.0</td>\n",
       "      <td>417.0</td>\n",
       "      <td>2.0</td>\n",
       "      <td>73.0</td>\n",
       "      <td>NaN</td>\n",
       "    </tr>\n",
       "    <tr>\n",
       "      <th>7578</th>\n",
       "      <td>17</td>\n",
       "      <td>38000000</td>\n",
       "      <td>143.0</td>\n",
       "      <td>2017-11-02</td>\n",
       "      <td>3</td>\n",
       "      <td>5.5</td>\n",
       "      <td>5.0</td>\n",
       "      <td>83.0</td>\n",
       "      <td>5</td>\n",
       "      <td>False</td>\n",
       "      <td>...</td>\n",
       "      <td>29.0</td>\n",
       "      <td>1</td>\n",
       "      <td>Санкт-Петербург</td>\n",
       "      <td>26333.0</td>\n",
       "      <td>6448.0</td>\n",
       "      <td>3.0</td>\n",
       "      <td>479.0</td>\n",
       "      <td>0.0</td>\n",
       "      <td>NaN</td>\n",
       "      <td>NaN</td>\n",
       "    </tr>\n",
       "    <tr>\n",
       "      <th>9379</th>\n",
       "      <td>5</td>\n",
       "      <td>3950000</td>\n",
       "      <td>42.0</td>\n",
       "      <td>2017-03-26</td>\n",
       "      <td>3</td>\n",
       "      <td>25.0</td>\n",
       "      <td>5.0</td>\n",
       "      <td>30.0</td>\n",
       "      <td>2</td>\n",
       "      <td>False</td>\n",
       "      <td>...</td>\n",
       "      <td>5.2</td>\n",
       "      <td>0</td>\n",
       "      <td>Санкт-Петербург</td>\n",
       "      <td>11647.0</td>\n",
       "      <td>13581.0</td>\n",
       "      <td>0.0</td>\n",
       "      <td>NaN</td>\n",
       "      <td>0.0</td>\n",
       "      <td>NaN</td>\n",
       "      <td>NaN</td>\n",
       "    </tr>\n",
       "    <tr>\n",
       "      <th>10773</th>\n",
       "      <td>8</td>\n",
       "      <td>3800000</td>\n",
       "      <td>58.0</td>\n",
       "      <td>2017-10-13</td>\n",
       "      <td>2</td>\n",
       "      <td>27.0</td>\n",
       "      <td>10.0</td>\n",
       "      <td>30.1</td>\n",
       "      <td>3</td>\n",
       "      <td>False</td>\n",
       "      <td>...</td>\n",
       "      <td>8.1</td>\n",
       "      <td>2</td>\n",
       "      <td>посёлок Мурино</td>\n",
       "      <td>NaN</td>\n",
       "      <td>NaN</td>\n",
       "      <td>NaN</td>\n",
       "      <td>NaN</td>\n",
       "      <td>0.0</td>\n",
       "      <td>NaN</td>\n",
       "      <td>71.0</td>\n",
       "    </tr>\n",
       "    <tr>\n",
       "      <th>11285</th>\n",
       "      <td>0</td>\n",
       "      <td>1950000</td>\n",
       "      <td>37.0</td>\n",
       "      <td>2019-03-20</td>\n",
       "      <td>1</td>\n",
       "      <td>25.0</td>\n",
       "      <td>5.0</td>\n",
       "      <td>17.0</td>\n",
       "      <td>4</td>\n",
       "      <td>False</td>\n",
       "      <td>...</td>\n",
       "      <td>9.0</td>\n",
       "      <td>2</td>\n",
       "      <td>Луга</td>\n",
       "      <td>NaN</td>\n",
       "      <td>NaN</td>\n",
       "      <td>NaN</td>\n",
       "      <td>NaN</td>\n",
       "      <td>0.0</td>\n",
       "      <td>NaN</td>\n",
       "      <td>18.0</td>\n",
       "    </tr>\n",
       "    <tr>\n",
       "      <th>12628</th>\n",
       "      <td>14</td>\n",
       "      <td>3900000</td>\n",
       "      <td>50.0</td>\n",
       "      <td>2018-03-29</td>\n",
       "      <td>1</td>\n",
       "      <td>5.3</td>\n",
       "      <td>5.0</td>\n",
       "      <td>NaN</td>\n",
       "      <td>5</td>\n",
       "      <td>False</td>\n",
       "      <td>...</td>\n",
       "      <td>NaN</td>\n",
       "      <td>0</td>\n",
       "      <td>Санкт-Петербург</td>\n",
       "      <td>19644.0</td>\n",
       "      <td>3918.0</td>\n",
       "      <td>1.0</td>\n",
       "      <td>505.0</td>\n",
       "      <td>1.0</td>\n",
       "      <td>92.0</td>\n",
       "      <td>8.0</td>\n",
       "    </tr>\n",
       "    <tr>\n",
       "      <th>14382</th>\n",
       "      <td>9</td>\n",
       "      <td>1700000</td>\n",
       "      <td>35.0</td>\n",
       "      <td>2015-12-04</td>\n",
       "      <td>1</td>\n",
       "      <td>25.0</td>\n",
       "      <td>5.0</td>\n",
       "      <td>20.0</td>\n",
       "      <td>2</td>\n",
       "      <td>False</td>\n",
       "      <td>...</td>\n",
       "      <td>8.0</td>\n",
       "      <td>1</td>\n",
       "      <td>посёлок Новый Свет</td>\n",
       "      <td>NaN</td>\n",
       "      <td>NaN</td>\n",
       "      <td>NaN</td>\n",
       "      <td>NaN</td>\n",
       "      <td>0.0</td>\n",
       "      <td>NaN</td>\n",
       "      <td>206.0</td>\n",
       "    </tr>\n",
       "    <tr>\n",
       "      <th>15061</th>\n",
       "      <td>19</td>\n",
       "      <td>5600000</td>\n",
       "      <td>56.4</td>\n",
       "      <td>2018-05-11</td>\n",
       "      <td>2</td>\n",
       "      <td>14.0</td>\n",
       "      <td>14.0</td>\n",
       "      <td>32.4</td>\n",
       "      <td>5</td>\n",
       "      <td>False</td>\n",
       "      <td>...</td>\n",
       "      <td>9.1</td>\n",
       "      <td>2</td>\n",
       "      <td>Санкт-Петербург</td>\n",
       "      <td>14814.0</td>\n",
       "      <td>13610.0</td>\n",
       "      <td>0.0</td>\n",
       "      <td>NaN</td>\n",
       "      <td>0.0</td>\n",
       "      <td>NaN</td>\n",
       "      <td>315.0</td>\n",
       "    </tr>\n",
       "    <tr>\n",
       "      <th>15743</th>\n",
       "      <td>14</td>\n",
       "      <td>5600000</td>\n",
       "      <td>67.0</td>\n",
       "      <td>2016-11-11</td>\n",
       "      <td>3</td>\n",
       "      <td>8.0</td>\n",
       "      <td>16.0</td>\n",
       "      <td>41.0</td>\n",
       "      <td>1</td>\n",
       "      <td>False</td>\n",
       "      <td>...</td>\n",
       "      <td>8.0</td>\n",
       "      <td>0</td>\n",
       "      <td>Санкт-Петербург</td>\n",
       "      <td>32691.0</td>\n",
       "      <td>11035.0</td>\n",
       "      <td>1.0</td>\n",
       "      <td>723.0</td>\n",
       "      <td>0.0</td>\n",
       "      <td>NaN</td>\n",
       "      <td>474.0</td>\n",
       "    </tr>\n",
       "    <tr>\n",
       "      <th>17442</th>\n",
       "      <td>0</td>\n",
       "      <td>5350000</td>\n",
       "      <td>54.0</td>\n",
       "      <td>2015-06-16</td>\n",
       "      <td>2</td>\n",
       "      <td>8.0</td>\n",
       "      <td>5.0</td>\n",
       "      <td>29.0</td>\n",
       "      <td>2</td>\n",
       "      <td>False</td>\n",
       "      <td>...</td>\n",
       "      <td>NaN</td>\n",
       "      <td>1</td>\n",
       "      <td>Красное Село</td>\n",
       "      <td>24638.0</td>\n",
       "      <td>28062.0</td>\n",
       "      <td>0.0</td>\n",
       "      <td>NaN</td>\n",
       "      <td>0.0</td>\n",
       "      <td>NaN</td>\n",
       "      <td>469.0</td>\n",
       "    </tr>\n",
       "    <tr>\n",
       "      <th>17496</th>\n",
       "      <td>15</td>\n",
       "      <td>6700000</td>\n",
       "      <td>92.9</td>\n",
       "      <td>2019-02-19</td>\n",
       "      <td>3</td>\n",
       "      <td>20.0</td>\n",
       "      <td>17.0</td>\n",
       "      <td>53.2</td>\n",
       "      <td>14</td>\n",
       "      <td>False</td>\n",
       "      <td>...</td>\n",
       "      <td>12.0</td>\n",
       "      <td>5</td>\n",
       "      <td>Санкт-Петербург</td>\n",
       "      <td>16295.0</td>\n",
       "      <td>15092.0</td>\n",
       "      <td>1.0</td>\n",
       "      <td>967.0</td>\n",
       "      <td>0.0</td>\n",
       "      <td>NaN</td>\n",
       "      <td>NaN</td>\n",
       "    </tr>\n",
       "    <tr>\n",
       "      <th>17857</th>\n",
       "      <td>1</td>\n",
       "      <td>3900000</td>\n",
       "      <td>56.0</td>\n",
       "      <td>2017-12-22</td>\n",
       "      <td>3</td>\n",
       "      <td>27.0</td>\n",
       "      <td>5.0</td>\n",
       "      <td>33.0</td>\n",
       "      <td>4</td>\n",
       "      <td>False</td>\n",
       "      <td>...</td>\n",
       "      <td>NaN</td>\n",
       "      <td>0</td>\n",
       "      <td>Санкт-Петербург</td>\n",
       "      <td>41030.0</td>\n",
       "      <td>15543.0</td>\n",
       "      <td>0.0</td>\n",
       "      <td>NaN</td>\n",
       "      <td>0.0</td>\n",
       "      <td>NaN</td>\n",
       "      <td>73.0</td>\n",
       "    </tr>\n",
       "    <tr>\n",
       "      <th>18545</th>\n",
       "      <td>6</td>\n",
       "      <td>3750000</td>\n",
       "      <td>43.0</td>\n",
       "      <td>2019-03-18</td>\n",
       "      <td>2</td>\n",
       "      <td>25.0</td>\n",
       "      <td>5.0</td>\n",
       "      <td>29.0</td>\n",
       "      <td>3</td>\n",
       "      <td>False</td>\n",
       "      <td>...</td>\n",
       "      <td>NaN</td>\n",
       "      <td>0</td>\n",
       "      <td>Санкт-Петербург</td>\n",
       "      <td>27054.0</td>\n",
       "      <td>8033.0</td>\n",
       "      <td>1.0</td>\n",
       "      <td>540.0</td>\n",
       "      <td>0.0</td>\n",
       "      <td>NaN</td>\n",
       "      <td>12.0</td>\n",
       "    </tr>\n",
       "    <tr>\n",
       "      <th>20264</th>\n",
       "      <td>17</td>\n",
       "      <td>119000000</td>\n",
       "      <td>187.6</td>\n",
       "      <td>2017-07-10</td>\n",
       "      <td>4</td>\n",
       "      <td>6.0</td>\n",
       "      <td>7.0</td>\n",
       "      <td>147.0</td>\n",
       "      <td>7</td>\n",
       "      <td>False</td>\n",
       "      <td>...</td>\n",
       "      <td>15.6</td>\n",
       "      <td>0</td>\n",
       "      <td>Санкт-Петербург</td>\n",
       "      <td>26902.0</td>\n",
       "      <td>5605.0</td>\n",
       "      <td>3.0</td>\n",
       "      <td>484.0</td>\n",
       "      <td>1.0</td>\n",
       "      <td>305.0</td>\n",
       "      <td>259.0</td>\n",
       "    </tr>\n",
       "    <tr>\n",
       "      <th>20478</th>\n",
       "      <td>11</td>\n",
       "      <td>8000000</td>\n",
       "      <td>45.0</td>\n",
       "      <td>2017-07-18</td>\n",
       "      <td>1</td>\n",
       "      <td>27.0</td>\n",
       "      <td>4.0</td>\n",
       "      <td>22.0</td>\n",
       "      <td>2</td>\n",
       "      <td>False</td>\n",
       "      <td>...</td>\n",
       "      <td>10.0</td>\n",
       "      <td>1</td>\n",
       "      <td>Санкт-Петербург</td>\n",
       "      <td>18975.0</td>\n",
       "      <td>3246.0</td>\n",
       "      <td>0.0</td>\n",
       "      <td>NaN</td>\n",
       "      <td>3.0</td>\n",
       "      <td>449.0</td>\n",
       "      <td>429.0</td>\n",
       "    </tr>\n",
       "    <tr>\n",
       "      <th>20507</th>\n",
       "      <td>12</td>\n",
       "      <td>5950000</td>\n",
       "      <td>60.0</td>\n",
       "      <td>2018-02-19</td>\n",
       "      <td>2</td>\n",
       "      <td>22.6</td>\n",
       "      <td>14.0</td>\n",
       "      <td>35.0</td>\n",
       "      <td>11</td>\n",
       "      <td>False</td>\n",
       "      <td>...</td>\n",
       "      <td>13.0</td>\n",
       "      <td>1</td>\n",
       "      <td>Санкт-Петербург</td>\n",
       "      <td>27028.0</td>\n",
       "      <td>12570.0</td>\n",
       "      <td>0.0</td>\n",
       "      <td>NaN</td>\n",
       "      <td>0.0</td>\n",
       "      <td>NaN</td>\n",
       "      <td>40.0</td>\n",
       "    </tr>\n",
       "    <tr>\n",
       "      <th>21227</th>\n",
       "      <td>0</td>\n",
       "      <td>8200000</td>\n",
       "      <td>71.0</td>\n",
       "      <td>2017-07-21</td>\n",
       "      <td>0</td>\n",
       "      <td>5.8</td>\n",
       "      <td>5.0</td>\n",
       "      <td>68.0</td>\n",
       "      <td>5</td>\n",
       "      <td>False</td>\n",
       "      <td>...</td>\n",
       "      <td>NaN</td>\n",
       "      <td>0</td>\n",
       "      <td>Санкт-Петербург</td>\n",
       "      <td>20170.0</td>\n",
       "      <td>1261.0</td>\n",
       "      <td>2.0</td>\n",
       "      <td>295.0</td>\n",
       "      <td>3.0</td>\n",
       "      <td>366.0</td>\n",
       "      <td>30.0</td>\n",
       "    </tr>\n",
       "    <tr>\n",
       "      <th>21377</th>\n",
       "      <td>19</td>\n",
       "      <td>4900000</td>\n",
       "      <td>42.0</td>\n",
       "      <td>2017-04-18</td>\n",
       "      <td>1</td>\n",
       "      <td>27.5</td>\n",
       "      <td>24.0</td>\n",
       "      <td>37.7</td>\n",
       "      <td>19</td>\n",
       "      <td>False</td>\n",
       "      <td>...</td>\n",
       "      <td>11.0</td>\n",
       "      <td>2</td>\n",
       "      <td>Санкт-Петербург</td>\n",
       "      <td>42742.0</td>\n",
       "      <td>9760.0</td>\n",
       "      <td>0.0</td>\n",
       "      <td>NaN</td>\n",
       "      <td>0.0</td>\n",
       "      <td>NaN</td>\n",
       "      <td>61.0</td>\n",
       "    </tr>\n",
       "    <tr>\n",
       "      <th>21824</th>\n",
       "      <td>20</td>\n",
       "      <td>2450000</td>\n",
       "      <td>44.0</td>\n",
       "      <td>2019-02-12</td>\n",
       "      <td>2</td>\n",
       "      <td>27.0</td>\n",
       "      <td>2.0</td>\n",
       "      <td>38.0</td>\n",
       "      <td>2</td>\n",
       "      <td>False</td>\n",
       "      <td>...</td>\n",
       "      <td>8.6</td>\n",
       "      <td>2</td>\n",
       "      <td>городской поселок Большая Ижора</td>\n",
       "      <td>NaN</td>\n",
       "      <td>NaN</td>\n",
       "      <td>NaN</td>\n",
       "      <td>NaN</td>\n",
       "      <td>0.0</td>\n",
       "      <td>NaN</td>\n",
       "      <td>NaN</td>\n",
       "    </tr>\n",
       "    <tr>\n",
       "      <th>22309</th>\n",
       "      <td>20</td>\n",
       "      <td>5300000</td>\n",
       "      <td>45.0</td>\n",
       "      <td>2017-09-30</td>\n",
       "      <td>1</td>\n",
       "      <td>10.3</td>\n",
       "      <td>16.0</td>\n",
       "      <td>15.5</td>\n",
       "      <td>15</td>\n",
       "      <td>False</td>\n",
       "      <td>...</td>\n",
       "      <td>NaN</td>\n",
       "      <td>0</td>\n",
       "      <td>Санкт-Петербург</td>\n",
       "      <td>36353.0</td>\n",
       "      <td>11936.0</td>\n",
       "      <td>2.0</td>\n",
       "      <td>440.0</td>\n",
       "      <td>2.0</td>\n",
       "      <td>450.0</td>\n",
       "      <td>136.0</td>\n",
       "    </tr>\n",
       "    <tr>\n",
       "      <th>22336</th>\n",
       "      <td>19</td>\n",
       "      <td>9999000</td>\n",
       "      <td>92.4</td>\n",
       "      <td>2019-04-05</td>\n",
       "      <td>2</td>\n",
       "      <td>32.0</td>\n",
       "      <td>6.0</td>\n",
       "      <td>55.5</td>\n",
       "      <td>5</td>\n",
       "      <td>False</td>\n",
       "      <td>...</td>\n",
       "      <td>16.5</td>\n",
       "      <td>4</td>\n",
       "      <td>Санкт-Петербург</td>\n",
       "      <td>18838.0</td>\n",
       "      <td>3506.0</td>\n",
       "      <td>0.0</td>\n",
       "      <td>NaN</td>\n",
       "      <td>3.0</td>\n",
       "      <td>511.0</td>\n",
       "      <td>NaN</td>\n",
       "    </tr>\n",
       "    <tr>\n",
       "      <th>22869</th>\n",
       "      <td>0</td>\n",
       "      <td>15000000</td>\n",
       "      <td>25.0</td>\n",
       "      <td>2018-07-25</td>\n",
       "      <td>1</td>\n",
       "      <td>100.0</td>\n",
       "      <td>5.0</td>\n",
       "      <td>14.0</td>\n",
       "      <td>5</td>\n",
       "      <td>True</td>\n",
       "      <td>...</td>\n",
       "      <td>11.0</td>\n",
       "      <td>5</td>\n",
       "      <td>Санкт-Петербург</td>\n",
       "      <td>34963.0</td>\n",
       "      <td>8283.0</td>\n",
       "      <td>1.0</td>\n",
       "      <td>223.0</td>\n",
       "      <td>3.0</td>\n",
       "      <td>30.0</td>\n",
       "      <td>19.0</td>\n",
       "    </tr>\n",
       "    <tr>\n",
       "      <th>22938</th>\n",
       "      <td>14</td>\n",
       "      <td>4000000</td>\n",
       "      <td>98.0</td>\n",
       "      <td>2018-03-15</td>\n",
       "      <td>4</td>\n",
       "      <td>27.0</td>\n",
       "      <td>2.0</td>\n",
       "      <td>73.0</td>\n",
       "      <td>2</td>\n",
       "      <td>True</td>\n",
       "      <td>...</td>\n",
       "      <td>9.0</td>\n",
       "      <td>1</td>\n",
       "      <td>деревня Нижняя</td>\n",
       "      <td>NaN</td>\n",
       "      <td>NaN</td>\n",
       "      <td>NaN</td>\n",
       "      <td>NaN</td>\n",
       "      <td>0.0</td>\n",
       "      <td>NaN</td>\n",
       "      <td>27.0</td>\n",
       "    </tr>\n",
       "  </tbody>\n",
       "</table>\n",
       "<p>36 rows × 22 columns</p>\n",
       "</div>"
      ],
      "text/plain": [
       "       total_images  last_price  total_area first_day_exposition  rooms  \\\n",
       "355              17     3600000        55.2           2018-07-12      2   \n",
       "464              15    66571000       280.3           2015-06-11      6   \n",
       "1026             20   155000000       310.0           2018-10-12      5   \n",
       "1388             20    59800000       399.0           2015-01-21      5   \n",
       "3148             14     2900000        75.0           2018-11-12      3   \n",
       "3474              3     1400000        30.0           2018-03-16      1   \n",
       "4643              0     4300000        45.0           2018-02-01      2   \n",
       "4876              7     3000000        25.0           2017-09-27      0   \n",
       "5076              0     3850000        30.5           2018-10-03      1   \n",
       "5246              0     2500000        54.0           2017-10-13      2   \n",
       "5669              4     4400000        50.0           2017-08-08      2   \n",
       "5807             17     8150000        80.0           2019-01-09      2   \n",
       "5863             20     5650000        45.0           2018-08-15      1   \n",
       "6246              6     3300000        44.4           2019-03-25      2   \n",
       "7578             17    38000000       143.0           2017-11-02      3   \n",
       "9379              5     3950000        42.0           2017-03-26      3   \n",
       "10773             8     3800000        58.0           2017-10-13      2   \n",
       "11285             0     1950000        37.0           2019-03-20      1   \n",
       "12628            14     3900000        50.0           2018-03-29      1   \n",
       "14382             9     1700000        35.0           2015-12-04      1   \n",
       "15061            19     5600000        56.4           2018-05-11      2   \n",
       "15743            14     5600000        67.0           2016-11-11      3   \n",
       "17442             0     5350000        54.0           2015-06-16      2   \n",
       "17496            15     6700000        92.9           2019-02-19      3   \n",
       "17857             1     3900000        56.0           2017-12-22      3   \n",
       "18545             6     3750000        43.0           2019-03-18      2   \n",
       "20264            17   119000000       187.6           2017-07-10      4   \n",
       "20478            11     8000000        45.0           2017-07-18      1   \n",
       "20507            12     5950000        60.0           2018-02-19      2   \n",
       "21227             0     8200000        71.0           2017-07-21      0   \n",
       "21377            19     4900000        42.0           2017-04-18      1   \n",
       "21824            20     2450000        44.0           2019-02-12      2   \n",
       "22309            20     5300000        45.0           2017-09-30      1   \n",
       "22336            19     9999000        92.4           2019-04-05      2   \n",
       "22869             0    15000000        25.0           2018-07-25      1   \n",
       "22938            14     4000000        98.0           2018-03-15      4   \n",
       "\n",
       "       ceiling_height  floors_total  living_area  floor is_apartment  ...  \\\n",
       "355              25.0           5.0         32.0      2        False  ...   \n",
       "464               5.2           8.0        159.5      7        False  ...   \n",
       "1026              5.3           3.0        190.0      3        False  ...   \n",
       "1388              5.6           6.0          NaN      6        False  ...   \n",
       "3148             32.0           3.0         53.0      2        False  ...   \n",
       "3474              8.0           5.0         15.3      2        False  ...   \n",
       "4643             25.0           9.0         30.0      2        False  ...   \n",
       "4876             27.0          25.0         17.0     17        False  ...   \n",
       "5076             24.0           5.0         19.5      1         True  ...   \n",
       "5246             27.0           5.0         30.0      3        False  ...   \n",
       "5669             26.0           9.0         21.3      3        False  ...   \n",
       "5807             27.0          36.0         41.0     13        False  ...   \n",
       "5863              8.3          16.0         19.3     14        False  ...   \n",
       "6246             25.0           5.0         31.3      5        False  ...   \n",
       "7578              5.5           5.0         83.0      5        False  ...   \n",
       "9379             25.0           5.0         30.0      2        False  ...   \n",
       "10773            27.0          10.0         30.1      3        False  ...   \n",
       "11285            25.0           5.0         17.0      4        False  ...   \n",
       "12628             5.3           5.0          NaN      5        False  ...   \n",
       "14382            25.0           5.0         20.0      2        False  ...   \n",
       "15061            14.0          14.0         32.4      5        False  ...   \n",
       "15743             8.0          16.0         41.0      1        False  ...   \n",
       "17442             8.0           5.0         29.0      2        False  ...   \n",
       "17496            20.0          17.0         53.2     14        False  ...   \n",
       "17857            27.0           5.0         33.0      4        False  ...   \n",
       "18545            25.0           5.0         29.0      3        False  ...   \n",
       "20264             6.0           7.0        147.0      7        False  ...   \n",
       "20478            27.0           4.0         22.0      2        False  ...   \n",
       "20507            22.6          14.0         35.0     11        False  ...   \n",
       "21227             5.8           5.0         68.0      5        False  ...   \n",
       "21377            27.5          24.0         37.7     19        False  ...   \n",
       "21824            27.0           2.0         38.0      2        False  ...   \n",
       "22309            10.3          16.0         15.5     15        False  ...   \n",
       "22336            32.0           6.0         55.5      5        False  ...   \n",
       "22869           100.0           5.0         14.0      5         True  ...   \n",
       "22938            27.0           2.0         73.0      2         True  ...   \n",
       "\n",
       "       kitchen_area  balcony                    locality_name  \\\n",
       "355             NaN        2                          Гатчина   \n",
       "464            21.1        0                  Санкт-Петербург   \n",
       "1026           63.0        2                  Санкт-Петербург   \n",
       "1388            NaN        0                  Санкт-Петербург   \n",
       "3148            8.0        0                           Волхов   \n",
       "3474            7.3        0                    деревня Нурма   \n",
       "4643            7.0        1                  Санкт-Петербург   \n",
       "4876            NaN        2                   посёлок Мурино   \n",
       "5076            5.5        0                  Санкт-Петербург   \n",
       "5246            9.0        2                     деревня Мины   \n",
       "5669            7.0        2                  Санкт-Петербург   \n",
       "5807           12.0        5                  Санкт-Петербург   \n",
       "5863            8.3        1                  Санкт-Петербург   \n",
       "6246            5.7        0                        Кронштадт   \n",
       "7578           29.0        1                  Санкт-Петербург   \n",
       "9379            5.2        0                  Санкт-Петербург   \n",
       "10773           8.1        2                   посёлок Мурино   \n",
       "11285           9.0        2                             Луга   \n",
       "12628           NaN        0                  Санкт-Петербург   \n",
       "14382           8.0        1               посёлок Новый Свет   \n",
       "15061           9.1        2                  Санкт-Петербург   \n",
       "15743           8.0        0                  Санкт-Петербург   \n",
       "17442           NaN        1                     Красное Село   \n",
       "17496          12.0        5                  Санкт-Петербург   \n",
       "17857           NaN        0                  Санкт-Петербург   \n",
       "18545           NaN        0                  Санкт-Петербург   \n",
       "20264          15.6        0                  Санкт-Петербург   \n",
       "20478          10.0        1                  Санкт-Петербург   \n",
       "20507          13.0        1                  Санкт-Петербург   \n",
       "21227           NaN        0                  Санкт-Петербург   \n",
       "21377          11.0        2                  Санкт-Петербург   \n",
       "21824           8.6        2  городской поселок Большая Ижора   \n",
       "22309           NaN        0                  Санкт-Петербург   \n",
       "22336          16.5        4                  Санкт-Петербург   \n",
       "22869          11.0        5                  Санкт-Петербург   \n",
       "22938           9.0        1                   деревня Нижняя   \n",
       "\n",
       "       airports_nearest cityCenters_nearest  parks_around3000  parks_nearest  \\\n",
       "355                 NaN                 NaN               NaN            NaN   \n",
       "464             26316.0              6655.0               3.0          187.0   \n",
       "1026            24899.0              4785.0               0.0            NaN   \n",
       "1388            26204.0              6934.0               2.0          149.0   \n",
       "3148                NaN                 NaN               NaN            NaN   \n",
       "3474                NaN                 NaN               NaN            NaN   \n",
       "4643            12016.0             13256.0               1.0          658.0   \n",
       "4876                NaN                 NaN               NaN            NaN   \n",
       "5076            29686.0              8389.0               3.0          397.0   \n",
       "5246                NaN                 NaN               NaN            NaN   \n",
       "5669            28981.0             10912.0               1.0          305.0   \n",
       "5807            18732.0             20444.0               0.0            NaN   \n",
       "5863            13069.0             10763.0               0.0            NaN   \n",
       "6246            68923.0             50649.0               1.0          417.0   \n",
       "7578            26333.0              6448.0               3.0          479.0   \n",
       "9379            11647.0             13581.0               0.0            NaN   \n",
       "10773               NaN                 NaN               NaN            NaN   \n",
       "11285               NaN                 NaN               NaN            NaN   \n",
       "12628           19644.0              3918.0               1.0          505.0   \n",
       "14382               NaN                 NaN               NaN            NaN   \n",
       "15061           14814.0             13610.0               0.0            NaN   \n",
       "15743           32691.0             11035.0               1.0          723.0   \n",
       "17442           24638.0             28062.0               0.0            NaN   \n",
       "17496           16295.0             15092.0               1.0          967.0   \n",
       "17857           41030.0             15543.0               0.0            NaN   \n",
       "18545           27054.0              8033.0               1.0          540.0   \n",
       "20264           26902.0              5605.0               3.0          484.0   \n",
       "20478           18975.0              3246.0               0.0            NaN   \n",
       "20507           27028.0             12570.0               0.0            NaN   \n",
       "21227           20170.0              1261.0               2.0          295.0   \n",
       "21377           42742.0              9760.0               0.0            NaN   \n",
       "21824               NaN                 NaN               NaN            NaN   \n",
       "22309           36353.0             11936.0               2.0          440.0   \n",
       "22336           18838.0              3506.0               0.0            NaN   \n",
       "22869           34963.0              8283.0               1.0          223.0   \n",
       "22938               NaN                 NaN               NaN            NaN   \n",
       "\n",
       "       ponds_around3000  ponds_nearest  days_exposition  \n",
       "355                 0.0            NaN            259.0  \n",
       "464                 1.0          616.0            578.0  \n",
       "1026                1.0          603.0              NaN  \n",
       "1388                2.0          577.0            719.0  \n",
       "3148                0.0            NaN              NaN  \n",
       "3474                0.0            NaN            125.0  \n",
       "4643                1.0          331.0            181.0  \n",
       "4876                0.0            NaN             28.0  \n",
       "5076                1.0          578.0              7.0  \n",
       "5246                0.0            NaN            540.0  \n",
       "5669                0.0            NaN            267.0  \n",
       "5807                3.0           80.0             38.0  \n",
       "5863                1.0          613.0             14.0  \n",
       "6246                2.0           73.0              NaN  \n",
       "7578                0.0            NaN              NaN  \n",
       "9379                0.0            NaN              NaN  \n",
       "10773               0.0            NaN             71.0  \n",
       "11285               0.0            NaN             18.0  \n",
       "12628               1.0           92.0              8.0  \n",
       "14382               0.0            NaN            206.0  \n",
       "15061               0.0            NaN            315.0  \n",
       "15743               0.0            NaN            474.0  \n",
       "17442               0.0            NaN            469.0  \n",
       "17496               0.0            NaN              NaN  \n",
       "17857               0.0            NaN             73.0  \n",
       "18545               0.0            NaN             12.0  \n",
       "20264               1.0          305.0            259.0  \n",
       "20478               3.0          449.0            429.0  \n",
       "20507               0.0            NaN             40.0  \n",
       "21227               3.0          366.0             30.0  \n",
       "21377               0.0            NaN             61.0  \n",
       "21824               0.0            NaN              NaN  \n",
       "22309               2.0          450.0            136.0  \n",
       "22336               3.0          511.0              NaN  \n",
       "22869               3.0           30.0             19.0  \n",
       "22938               0.0            NaN             27.0  \n",
       "\n",
       "[36 rows x 22 columns]"
      ]
     },
     "execution_count": 22,
     "metadata": {},
     "output_type": "execute_result"
    }
   ],
   "source": [
    "data.loc[data['ceiling_height'] > 5]"
   ]
  },
  {
   "cell_type": "code",
   "execution_count": 23,
   "metadata": {},
   "outputs": [
    {
     "data": {
      "text/html": [
       "<div>\n",
       "<style scoped>\n",
       "    .dataframe tbody tr th:only-of-type {\n",
       "        vertical-align: middle;\n",
       "    }\n",
       "\n",
       "    .dataframe tbody tr th {\n",
       "        vertical-align: top;\n",
       "    }\n",
       "\n",
       "    .dataframe thead th {\n",
       "        text-align: right;\n",
       "    }\n",
       "</style>\n",
       "<table border=\"1\" class=\"dataframe\">\n",
       "  <thead>\n",
       "    <tr style=\"text-align: right;\">\n",
       "      <th></th>\n",
       "      <th>total_images</th>\n",
       "      <th>last_price</th>\n",
       "      <th>total_area</th>\n",
       "      <th>first_day_exposition</th>\n",
       "      <th>rooms</th>\n",
       "      <th>ceiling_height</th>\n",
       "      <th>floors_total</th>\n",
       "      <th>living_area</th>\n",
       "      <th>floor</th>\n",
       "      <th>is_apartment</th>\n",
       "      <th>...</th>\n",
       "      <th>kitchen_area</th>\n",
       "      <th>balcony</th>\n",
       "      <th>locality_name</th>\n",
       "      <th>airports_nearest</th>\n",
       "      <th>cityCenters_nearest</th>\n",
       "      <th>parks_around3000</th>\n",
       "      <th>parks_nearest</th>\n",
       "      <th>ponds_around3000</th>\n",
       "      <th>ponds_nearest</th>\n",
       "      <th>days_exposition</th>\n",
       "    </tr>\n",
       "  </thead>\n",
       "  <tbody>\n",
       "    <tr>\n",
       "      <th>355</th>\n",
       "      <td>17</td>\n",
       "      <td>3600000</td>\n",
       "      <td>55.2</td>\n",
       "      <td>2018-07-12</td>\n",
       "      <td>2</td>\n",
       "      <td>25.0</td>\n",
       "      <td>5.0</td>\n",
       "      <td>32.0</td>\n",
       "      <td>2</td>\n",
       "      <td>False</td>\n",
       "      <td>...</td>\n",
       "      <td>NaN</td>\n",
       "      <td>2</td>\n",
       "      <td>Гатчина</td>\n",
       "      <td>NaN</td>\n",
       "      <td>NaN</td>\n",
       "      <td>NaN</td>\n",
       "      <td>NaN</td>\n",
       "      <td>0.0</td>\n",
       "      <td>NaN</td>\n",
       "      <td>259.0</td>\n",
       "    </tr>\n",
       "    <tr>\n",
       "      <th>3148</th>\n",
       "      <td>14</td>\n",
       "      <td>2900000</td>\n",
       "      <td>75.0</td>\n",
       "      <td>2018-11-12</td>\n",
       "      <td>3</td>\n",
       "      <td>32.0</td>\n",
       "      <td>3.0</td>\n",
       "      <td>53.0</td>\n",
       "      <td>2</td>\n",
       "      <td>False</td>\n",
       "      <td>...</td>\n",
       "      <td>8.0</td>\n",
       "      <td>0</td>\n",
       "      <td>Волхов</td>\n",
       "      <td>NaN</td>\n",
       "      <td>NaN</td>\n",
       "      <td>NaN</td>\n",
       "      <td>NaN</td>\n",
       "      <td>0.0</td>\n",
       "      <td>NaN</td>\n",
       "      <td>NaN</td>\n",
       "    </tr>\n",
       "    <tr>\n",
       "      <th>4643</th>\n",
       "      <td>0</td>\n",
       "      <td>4300000</td>\n",
       "      <td>45.0</td>\n",
       "      <td>2018-02-01</td>\n",
       "      <td>2</td>\n",
       "      <td>25.0</td>\n",
       "      <td>9.0</td>\n",
       "      <td>30.0</td>\n",
       "      <td>2</td>\n",
       "      <td>False</td>\n",
       "      <td>...</td>\n",
       "      <td>7.0</td>\n",
       "      <td>1</td>\n",
       "      <td>Санкт-Петербург</td>\n",
       "      <td>12016.0</td>\n",
       "      <td>13256.0</td>\n",
       "      <td>1.0</td>\n",
       "      <td>658.0</td>\n",
       "      <td>1.0</td>\n",
       "      <td>331.0</td>\n",
       "      <td>181.0</td>\n",
       "    </tr>\n",
       "    <tr>\n",
       "      <th>4876</th>\n",
       "      <td>7</td>\n",
       "      <td>3000000</td>\n",
       "      <td>25.0</td>\n",
       "      <td>2017-09-27</td>\n",
       "      <td>0</td>\n",
       "      <td>27.0</td>\n",
       "      <td>25.0</td>\n",
       "      <td>17.0</td>\n",
       "      <td>17</td>\n",
       "      <td>False</td>\n",
       "      <td>...</td>\n",
       "      <td>NaN</td>\n",
       "      <td>2</td>\n",
       "      <td>посёлок Мурино</td>\n",
       "      <td>NaN</td>\n",
       "      <td>NaN</td>\n",
       "      <td>NaN</td>\n",
       "      <td>NaN</td>\n",
       "      <td>0.0</td>\n",
       "      <td>NaN</td>\n",
       "      <td>28.0</td>\n",
       "    </tr>\n",
       "    <tr>\n",
       "      <th>5076</th>\n",
       "      <td>0</td>\n",
       "      <td>3850000</td>\n",
       "      <td>30.5</td>\n",
       "      <td>2018-10-03</td>\n",
       "      <td>1</td>\n",
       "      <td>24.0</td>\n",
       "      <td>5.0</td>\n",
       "      <td>19.5</td>\n",
       "      <td>1</td>\n",
       "      <td>True</td>\n",
       "      <td>...</td>\n",
       "      <td>5.5</td>\n",
       "      <td>0</td>\n",
       "      <td>Санкт-Петербург</td>\n",
       "      <td>29686.0</td>\n",
       "      <td>8389.0</td>\n",
       "      <td>3.0</td>\n",
       "      <td>397.0</td>\n",
       "      <td>1.0</td>\n",
       "      <td>578.0</td>\n",
       "      <td>7.0</td>\n",
       "    </tr>\n",
       "    <tr>\n",
       "      <th>5246</th>\n",
       "      <td>0</td>\n",
       "      <td>2500000</td>\n",
       "      <td>54.0</td>\n",
       "      <td>2017-10-13</td>\n",
       "      <td>2</td>\n",
       "      <td>27.0</td>\n",
       "      <td>5.0</td>\n",
       "      <td>30.0</td>\n",
       "      <td>3</td>\n",
       "      <td>False</td>\n",
       "      <td>...</td>\n",
       "      <td>9.0</td>\n",
       "      <td>2</td>\n",
       "      <td>деревня Мины</td>\n",
       "      <td>NaN</td>\n",
       "      <td>NaN</td>\n",
       "      <td>NaN</td>\n",
       "      <td>NaN</td>\n",
       "      <td>0.0</td>\n",
       "      <td>NaN</td>\n",
       "      <td>540.0</td>\n",
       "    </tr>\n",
       "    <tr>\n",
       "      <th>5669</th>\n",
       "      <td>4</td>\n",
       "      <td>4400000</td>\n",
       "      <td>50.0</td>\n",
       "      <td>2017-08-08</td>\n",
       "      <td>2</td>\n",
       "      <td>26.0</td>\n",
       "      <td>9.0</td>\n",
       "      <td>21.3</td>\n",
       "      <td>3</td>\n",
       "      <td>False</td>\n",
       "      <td>...</td>\n",
       "      <td>7.0</td>\n",
       "      <td>2</td>\n",
       "      <td>Санкт-Петербург</td>\n",
       "      <td>28981.0</td>\n",
       "      <td>10912.0</td>\n",
       "      <td>1.0</td>\n",
       "      <td>305.0</td>\n",
       "      <td>0.0</td>\n",
       "      <td>NaN</td>\n",
       "      <td>267.0</td>\n",
       "    </tr>\n",
       "    <tr>\n",
       "      <th>5807</th>\n",
       "      <td>17</td>\n",
       "      <td>8150000</td>\n",
       "      <td>80.0</td>\n",
       "      <td>2019-01-09</td>\n",
       "      <td>2</td>\n",
       "      <td>27.0</td>\n",
       "      <td>36.0</td>\n",
       "      <td>41.0</td>\n",
       "      <td>13</td>\n",
       "      <td>False</td>\n",
       "      <td>...</td>\n",
       "      <td>12.0</td>\n",
       "      <td>5</td>\n",
       "      <td>Санкт-Петербург</td>\n",
       "      <td>18732.0</td>\n",
       "      <td>20444.0</td>\n",
       "      <td>0.0</td>\n",
       "      <td>NaN</td>\n",
       "      <td>3.0</td>\n",
       "      <td>80.0</td>\n",
       "      <td>38.0</td>\n",
       "    </tr>\n",
       "    <tr>\n",
       "      <th>6246</th>\n",
       "      <td>6</td>\n",
       "      <td>3300000</td>\n",
       "      <td>44.4</td>\n",
       "      <td>2019-03-25</td>\n",
       "      <td>2</td>\n",
       "      <td>25.0</td>\n",
       "      <td>5.0</td>\n",
       "      <td>31.3</td>\n",
       "      <td>5</td>\n",
       "      <td>False</td>\n",
       "      <td>...</td>\n",
       "      <td>5.7</td>\n",
       "      <td>0</td>\n",
       "      <td>Кронштадт</td>\n",
       "      <td>68923.0</td>\n",
       "      <td>50649.0</td>\n",
       "      <td>1.0</td>\n",
       "      <td>417.0</td>\n",
       "      <td>2.0</td>\n",
       "      <td>73.0</td>\n",
       "      <td>NaN</td>\n",
       "    </tr>\n",
       "    <tr>\n",
       "      <th>9379</th>\n",
       "      <td>5</td>\n",
       "      <td>3950000</td>\n",
       "      <td>42.0</td>\n",
       "      <td>2017-03-26</td>\n",
       "      <td>3</td>\n",
       "      <td>25.0</td>\n",
       "      <td>5.0</td>\n",
       "      <td>30.0</td>\n",
       "      <td>2</td>\n",
       "      <td>False</td>\n",
       "      <td>...</td>\n",
       "      <td>5.2</td>\n",
       "      <td>0</td>\n",
       "      <td>Санкт-Петербург</td>\n",
       "      <td>11647.0</td>\n",
       "      <td>13581.0</td>\n",
       "      <td>0.0</td>\n",
       "      <td>NaN</td>\n",
       "      <td>0.0</td>\n",
       "      <td>NaN</td>\n",
       "      <td>NaN</td>\n",
       "    </tr>\n",
       "    <tr>\n",
       "      <th>10773</th>\n",
       "      <td>8</td>\n",
       "      <td>3800000</td>\n",
       "      <td>58.0</td>\n",
       "      <td>2017-10-13</td>\n",
       "      <td>2</td>\n",
       "      <td>27.0</td>\n",
       "      <td>10.0</td>\n",
       "      <td>30.1</td>\n",
       "      <td>3</td>\n",
       "      <td>False</td>\n",
       "      <td>...</td>\n",
       "      <td>8.1</td>\n",
       "      <td>2</td>\n",
       "      <td>посёлок Мурино</td>\n",
       "      <td>NaN</td>\n",
       "      <td>NaN</td>\n",
       "      <td>NaN</td>\n",
       "      <td>NaN</td>\n",
       "      <td>0.0</td>\n",
       "      <td>NaN</td>\n",
       "      <td>71.0</td>\n",
       "    </tr>\n",
       "    <tr>\n",
       "      <th>11285</th>\n",
       "      <td>0</td>\n",
       "      <td>1950000</td>\n",
       "      <td>37.0</td>\n",
       "      <td>2019-03-20</td>\n",
       "      <td>1</td>\n",
       "      <td>25.0</td>\n",
       "      <td>5.0</td>\n",
       "      <td>17.0</td>\n",
       "      <td>4</td>\n",
       "      <td>False</td>\n",
       "      <td>...</td>\n",
       "      <td>9.0</td>\n",
       "      <td>2</td>\n",
       "      <td>Луга</td>\n",
       "      <td>NaN</td>\n",
       "      <td>NaN</td>\n",
       "      <td>NaN</td>\n",
       "      <td>NaN</td>\n",
       "      <td>0.0</td>\n",
       "      <td>NaN</td>\n",
       "      <td>18.0</td>\n",
       "    </tr>\n",
       "    <tr>\n",
       "      <th>14382</th>\n",
       "      <td>9</td>\n",
       "      <td>1700000</td>\n",
       "      <td>35.0</td>\n",
       "      <td>2015-12-04</td>\n",
       "      <td>1</td>\n",
       "      <td>25.0</td>\n",
       "      <td>5.0</td>\n",
       "      <td>20.0</td>\n",
       "      <td>2</td>\n",
       "      <td>False</td>\n",
       "      <td>...</td>\n",
       "      <td>8.0</td>\n",
       "      <td>1</td>\n",
       "      <td>посёлок Новый Свет</td>\n",
       "      <td>NaN</td>\n",
       "      <td>NaN</td>\n",
       "      <td>NaN</td>\n",
       "      <td>NaN</td>\n",
       "      <td>0.0</td>\n",
       "      <td>NaN</td>\n",
       "      <td>206.0</td>\n",
       "    </tr>\n",
       "    <tr>\n",
       "      <th>15061</th>\n",
       "      <td>19</td>\n",
       "      <td>5600000</td>\n",
       "      <td>56.4</td>\n",
       "      <td>2018-05-11</td>\n",
       "      <td>2</td>\n",
       "      <td>14.0</td>\n",
       "      <td>14.0</td>\n",
       "      <td>32.4</td>\n",
       "      <td>5</td>\n",
       "      <td>False</td>\n",
       "      <td>...</td>\n",
       "      <td>9.1</td>\n",
       "      <td>2</td>\n",
       "      <td>Санкт-Петербург</td>\n",
       "      <td>14814.0</td>\n",
       "      <td>13610.0</td>\n",
       "      <td>0.0</td>\n",
       "      <td>NaN</td>\n",
       "      <td>0.0</td>\n",
       "      <td>NaN</td>\n",
       "      <td>315.0</td>\n",
       "    </tr>\n",
       "    <tr>\n",
       "      <th>17496</th>\n",
       "      <td>15</td>\n",
       "      <td>6700000</td>\n",
       "      <td>92.9</td>\n",
       "      <td>2019-02-19</td>\n",
       "      <td>3</td>\n",
       "      <td>20.0</td>\n",
       "      <td>17.0</td>\n",
       "      <td>53.2</td>\n",
       "      <td>14</td>\n",
       "      <td>False</td>\n",
       "      <td>...</td>\n",
       "      <td>12.0</td>\n",
       "      <td>5</td>\n",
       "      <td>Санкт-Петербург</td>\n",
       "      <td>16295.0</td>\n",
       "      <td>15092.0</td>\n",
       "      <td>1.0</td>\n",
       "      <td>967.0</td>\n",
       "      <td>0.0</td>\n",
       "      <td>NaN</td>\n",
       "      <td>NaN</td>\n",
       "    </tr>\n",
       "    <tr>\n",
       "      <th>17857</th>\n",
       "      <td>1</td>\n",
       "      <td>3900000</td>\n",
       "      <td>56.0</td>\n",
       "      <td>2017-12-22</td>\n",
       "      <td>3</td>\n",
       "      <td>27.0</td>\n",
       "      <td>5.0</td>\n",
       "      <td>33.0</td>\n",
       "      <td>4</td>\n",
       "      <td>False</td>\n",
       "      <td>...</td>\n",
       "      <td>NaN</td>\n",
       "      <td>0</td>\n",
       "      <td>Санкт-Петербург</td>\n",
       "      <td>41030.0</td>\n",
       "      <td>15543.0</td>\n",
       "      <td>0.0</td>\n",
       "      <td>NaN</td>\n",
       "      <td>0.0</td>\n",
       "      <td>NaN</td>\n",
       "      <td>73.0</td>\n",
       "    </tr>\n",
       "    <tr>\n",
       "      <th>18545</th>\n",
       "      <td>6</td>\n",
       "      <td>3750000</td>\n",
       "      <td>43.0</td>\n",
       "      <td>2019-03-18</td>\n",
       "      <td>2</td>\n",
       "      <td>25.0</td>\n",
       "      <td>5.0</td>\n",
       "      <td>29.0</td>\n",
       "      <td>3</td>\n",
       "      <td>False</td>\n",
       "      <td>...</td>\n",
       "      <td>NaN</td>\n",
       "      <td>0</td>\n",
       "      <td>Санкт-Петербург</td>\n",
       "      <td>27054.0</td>\n",
       "      <td>8033.0</td>\n",
       "      <td>1.0</td>\n",
       "      <td>540.0</td>\n",
       "      <td>0.0</td>\n",
       "      <td>NaN</td>\n",
       "      <td>12.0</td>\n",
       "    </tr>\n",
       "    <tr>\n",
       "      <th>20478</th>\n",
       "      <td>11</td>\n",
       "      <td>8000000</td>\n",
       "      <td>45.0</td>\n",
       "      <td>2017-07-18</td>\n",
       "      <td>1</td>\n",
       "      <td>27.0</td>\n",
       "      <td>4.0</td>\n",
       "      <td>22.0</td>\n",
       "      <td>2</td>\n",
       "      <td>False</td>\n",
       "      <td>...</td>\n",
       "      <td>10.0</td>\n",
       "      <td>1</td>\n",
       "      <td>Санкт-Петербург</td>\n",
       "      <td>18975.0</td>\n",
       "      <td>3246.0</td>\n",
       "      <td>0.0</td>\n",
       "      <td>NaN</td>\n",
       "      <td>3.0</td>\n",
       "      <td>449.0</td>\n",
       "      <td>429.0</td>\n",
       "    </tr>\n",
       "    <tr>\n",
       "      <th>20507</th>\n",
       "      <td>12</td>\n",
       "      <td>5950000</td>\n",
       "      <td>60.0</td>\n",
       "      <td>2018-02-19</td>\n",
       "      <td>2</td>\n",
       "      <td>22.6</td>\n",
       "      <td>14.0</td>\n",
       "      <td>35.0</td>\n",
       "      <td>11</td>\n",
       "      <td>False</td>\n",
       "      <td>...</td>\n",
       "      <td>13.0</td>\n",
       "      <td>1</td>\n",
       "      <td>Санкт-Петербург</td>\n",
       "      <td>27028.0</td>\n",
       "      <td>12570.0</td>\n",
       "      <td>0.0</td>\n",
       "      <td>NaN</td>\n",
       "      <td>0.0</td>\n",
       "      <td>NaN</td>\n",
       "      <td>40.0</td>\n",
       "    </tr>\n",
       "    <tr>\n",
       "      <th>21377</th>\n",
       "      <td>19</td>\n",
       "      <td>4900000</td>\n",
       "      <td>42.0</td>\n",
       "      <td>2017-04-18</td>\n",
       "      <td>1</td>\n",
       "      <td>27.5</td>\n",
       "      <td>24.0</td>\n",
       "      <td>37.7</td>\n",
       "      <td>19</td>\n",
       "      <td>False</td>\n",
       "      <td>...</td>\n",
       "      <td>11.0</td>\n",
       "      <td>2</td>\n",
       "      <td>Санкт-Петербург</td>\n",
       "      <td>42742.0</td>\n",
       "      <td>9760.0</td>\n",
       "      <td>0.0</td>\n",
       "      <td>NaN</td>\n",
       "      <td>0.0</td>\n",
       "      <td>NaN</td>\n",
       "      <td>61.0</td>\n",
       "    </tr>\n",
       "    <tr>\n",
       "      <th>21824</th>\n",
       "      <td>20</td>\n",
       "      <td>2450000</td>\n",
       "      <td>44.0</td>\n",
       "      <td>2019-02-12</td>\n",
       "      <td>2</td>\n",
       "      <td>27.0</td>\n",
       "      <td>2.0</td>\n",
       "      <td>38.0</td>\n",
       "      <td>2</td>\n",
       "      <td>False</td>\n",
       "      <td>...</td>\n",
       "      <td>8.6</td>\n",
       "      <td>2</td>\n",
       "      <td>городской поселок Большая Ижора</td>\n",
       "      <td>NaN</td>\n",
       "      <td>NaN</td>\n",
       "      <td>NaN</td>\n",
       "      <td>NaN</td>\n",
       "      <td>0.0</td>\n",
       "      <td>NaN</td>\n",
       "      <td>NaN</td>\n",
       "    </tr>\n",
       "    <tr>\n",
       "      <th>22336</th>\n",
       "      <td>19</td>\n",
       "      <td>9999000</td>\n",
       "      <td>92.4</td>\n",
       "      <td>2019-04-05</td>\n",
       "      <td>2</td>\n",
       "      <td>32.0</td>\n",
       "      <td>6.0</td>\n",
       "      <td>55.5</td>\n",
       "      <td>5</td>\n",
       "      <td>False</td>\n",
       "      <td>...</td>\n",
       "      <td>16.5</td>\n",
       "      <td>4</td>\n",
       "      <td>Санкт-Петербург</td>\n",
       "      <td>18838.0</td>\n",
       "      <td>3506.0</td>\n",
       "      <td>0.0</td>\n",
       "      <td>NaN</td>\n",
       "      <td>3.0</td>\n",
       "      <td>511.0</td>\n",
       "      <td>NaN</td>\n",
       "    </tr>\n",
       "    <tr>\n",
       "      <th>22869</th>\n",
       "      <td>0</td>\n",
       "      <td>15000000</td>\n",
       "      <td>25.0</td>\n",
       "      <td>2018-07-25</td>\n",
       "      <td>1</td>\n",
       "      <td>100.0</td>\n",
       "      <td>5.0</td>\n",
       "      <td>14.0</td>\n",
       "      <td>5</td>\n",
       "      <td>True</td>\n",
       "      <td>...</td>\n",
       "      <td>11.0</td>\n",
       "      <td>5</td>\n",
       "      <td>Санкт-Петербург</td>\n",
       "      <td>34963.0</td>\n",
       "      <td>8283.0</td>\n",
       "      <td>1.0</td>\n",
       "      <td>223.0</td>\n",
       "      <td>3.0</td>\n",
       "      <td>30.0</td>\n",
       "      <td>19.0</td>\n",
       "    </tr>\n",
       "    <tr>\n",
       "      <th>22938</th>\n",
       "      <td>14</td>\n",
       "      <td>4000000</td>\n",
       "      <td>98.0</td>\n",
       "      <td>2018-03-15</td>\n",
       "      <td>4</td>\n",
       "      <td>27.0</td>\n",
       "      <td>2.0</td>\n",
       "      <td>73.0</td>\n",
       "      <td>2</td>\n",
       "      <td>True</td>\n",
       "      <td>...</td>\n",
       "      <td>9.0</td>\n",
       "      <td>1</td>\n",
       "      <td>деревня Нижняя</td>\n",
       "      <td>NaN</td>\n",
       "      <td>NaN</td>\n",
       "      <td>NaN</td>\n",
       "      <td>NaN</td>\n",
       "      <td>0.0</td>\n",
       "      <td>NaN</td>\n",
       "      <td>27.0</td>\n",
       "    </tr>\n",
       "  </tbody>\n",
       "</table>\n",
       "<p>24 rows × 22 columns</p>\n",
       "</div>"
      ],
      "text/plain": [
       "       total_images  last_price  total_area first_day_exposition  rooms  \\\n",
       "355              17     3600000        55.2           2018-07-12      2   \n",
       "3148             14     2900000        75.0           2018-11-12      3   \n",
       "4643              0     4300000        45.0           2018-02-01      2   \n",
       "4876              7     3000000        25.0           2017-09-27      0   \n",
       "5076              0     3850000        30.5           2018-10-03      1   \n",
       "5246              0     2500000        54.0           2017-10-13      2   \n",
       "5669              4     4400000        50.0           2017-08-08      2   \n",
       "5807             17     8150000        80.0           2019-01-09      2   \n",
       "6246              6     3300000        44.4           2019-03-25      2   \n",
       "9379              5     3950000        42.0           2017-03-26      3   \n",
       "10773             8     3800000        58.0           2017-10-13      2   \n",
       "11285             0     1950000        37.0           2019-03-20      1   \n",
       "14382             9     1700000        35.0           2015-12-04      1   \n",
       "15061            19     5600000        56.4           2018-05-11      2   \n",
       "17496            15     6700000        92.9           2019-02-19      3   \n",
       "17857             1     3900000        56.0           2017-12-22      3   \n",
       "18545             6     3750000        43.0           2019-03-18      2   \n",
       "20478            11     8000000        45.0           2017-07-18      1   \n",
       "20507            12     5950000        60.0           2018-02-19      2   \n",
       "21377            19     4900000        42.0           2017-04-18      1   \n",
       "21824            20     2450000        44.0           2019-02-12      2   \n",
       "22336            19     9999000        92.4           2019-04-05      2   \n",
       "22869             0    15000000        25.0           2018-07-25      1   \n",
       "22938            14     4000000        98.0           2018-03-15      4   \n",
       "\n",
       "       ceiling_height  floors_total  living_area  floor is_apartment  ...  \\\n",
       "355              25.0           5.0         32.0      2        False  ...   \n",
       "3148             32.0           3.0         53.0      2        False  ...   \n",
       "4643             25.0           9.0         30.0      2        False  ...   \n",
       "4876             27.0          25.0         17.0     17        False  ...   \n",
       "5076             24.0           5.0         19.5      1         True  ...   \n",
       "5246             27.0           5.0         30.0      3        False  ...   \n",
       "5669             26.0           9.0         21.3      3        False  ...   \n",
       "5807             27.0          36.0         41.0     13        False  ...   \n",
       "6246             25.0           5.0         31.3      5        False  ...   \n",
       "9379             25.0           5.0         30.0      2        False  ...   \n",
       "10773            27.0          10.0         30.1      3        False  ...   \n",
       "11285            25.0           5.0         17.0      4        False  ...   \n",
       "14382            25.0           5.0         20.0      2        False  ...   \n",
       "15061            14.0          14.0         32.4      5        False  ...   \n",
       "17496            20.0          17.0         53.2     14        False  ...   \n",
       "17857            27.0           5.0         33.0      4        False  ...   \n",
       "18545            25.0           5.0         29.0      3        False  ...   \n",
       "20478            27.0           4.0         22.0      2        False  ...   \n",
       "20507            22.6          14.0         35.0     11        False  ...   \n",
       "21377            27.5          24.0         37.7     19        False  ...   \n",
       "21824            27.0           2.0         38.0      2        False  ...   \n",
       "22336            32.0           6.0         55.5      5        False  ...   \n",
       "22869           100.0           5.0         14.0      5         True  ...   \n",
       "22938            27.0           2.0         73.0      2         True  ...   \n",
       "\n",
       "       kitchen_area  balcony                    locality_name  \\\n",
       "355             NaN        2                          Гатчина   \n",
       "3148            8.0        0                           Волхов   \n",
       "4643            7.0        1                  Санкт-Петербург   \n",
       "4876            NaN        2                   посёлок Мурино   \n",
       "5076            5.5        0                  Санкт-Петербург   \n",
       "5246            9.0        2                     деревня Мины   \n",
       "5669            7.0        2                  Санкт-Петербург   \n",
       "5807           12.0        5                  Санкт-Петербург   \n",
       "6246            5.7        0                        Кронштадт   \n",
       "9379            5.2        0                  Санкт-Петербург   \n",
       "10773           8.1        2                   посёлок Мурино   \n",
       "11285           9.0        2                             Луга   \n",
       "14382           8.0        1               посёлок Новый Свет   \n",
       "15061           9.1        2                  Санкт-Петербург   \n",
       "17496          12.0        5                  Санкт-Петербург   \n",
       "17857           NaN        0                  Санкт-Петербург   \n",
       "18545           NaN        0                  Санкт-Петербург   \n",
       "20478          10.0        1                  Санкт-Петербург   \n",
       "20507          13.0        1                  Санкт-Петербург   \n",
       "21377          11.0        2                  Санкт-Петербург   \n",
       "21824           8.6        2  городской поселок Большая Ижора   \n",
       "22336          16.5        4                  Санкт-Петербург   \n",
       "22869          11.0        5                  Санкт-Петербург   \n",
       "22938           9.0        1                   деревня Нижняя   \n",
       "\n",
       "       airports_nearest cityCenters_nearest  parks_around3000  parks_nearest  \\\n",
       "355                 NaN                 NaN               NaN            NaN   \n",
       "3148                NaN                 NaN               NaN            NaN   \n",
       "4643            12016.0             13256.0               1.0          658.0   \n",
       "4876                NaN                 NaN               NaN            NaN   \n",
       "5076            29686.0              8389.0               3.0          397.0   \n",
       "5246                NaN                 NaN               NaN            NaN   \n",
       "5669            28981.0             10912.0               1.0          305.0   \n",
       "5807            18732.0             20444.0               0.0            NaN   \n",
       "6246            68923.0             50649.0               1.0          417.0   \n",
       "9379            11647.0             13581.0               0.0            NaN   \n",
       "10773               NaN                 NaN               NaN            NaN   \n",
       "11285               NaN                 NaN               NaN            NaN   \n",
       "14382               NaN                 NaN               NaN            NaN   \n",
       "15061           14814.0             13610.0               0.0            NaN   \n",
       "17496           16295.0             15092.0               1.0          967.0   \n",
       "17857           41030.0             15543.0               0.0            NaN   \n",
       "18545           27054.0              8033.0               1.0          540.0   \n",
       "20478           18975.0              3246.0               0.0            NaN   \n",
       "20507           27028.0             12570.0               0.0            NaN   \n",
       "21377           42742.0              9760.0               0.0            NaN   \n",
       "21824               NaN                 NaN               NaN            NaN   \n",
       "22336           18838.0              3506.0               0.0            NaN   \n",
       "22869           34963.0              8283.0               1.0          223.0   \n",
       "22938               NaN                 NaN               NaN            NaN   \n",
       "\n",
       "       ponds_around3000  ponds_nearest  days_exposition  \n",
       "355                 0.0            NaN            259.0  \n",
       "3148                0.0            NaN              NaN  \n",
       "4643                1.0          331.0            181.0  \n",
       "4876                0.0            NaN             28.0  \n",
       "5076                1.0          578.0              7.0  \n",
       "5246                0.0            NaN            540.0  \n",
       "5669                0.0            NaN            267.0  \n",
       "5807                3.0           80.0             38.0  \n",
       "6246                2.0           73.0              NaN  \n",
       "9379                0.0            NaN              NaN  \n",
       "10773               0.0            NaN             71.0  \n",
       "11285               0.0            NaN             18.0  \n",
       "14382               0.0            NaN            206.0  \n",
       "15061               0.0            NaN            315.0  \n",
       "17496               0.0            NaN              NaN  \n",
       "17857               0.0            NaN             73.0  \n",
       "18545               0.0            NaN             12.0  \n",
       "20478               3.0          449.0            429.0  \n",
       "20507               0.0            NaN             40.0  \n",
       "21377               0.0            NaN             61.0  \n",
       "21824               0.0            NaN              NaN  \n",
       "22336               3.0          511.0              NaN  \n",
       "22869               3.0           30.0             19.0  \n",
       "22938               0.0            NaN             27.0  \n",
       "\n",
       "[24 rows x 22 columns]"
      ]
     },
     "execution_count": 23,
     "metadata": {},
     "output_type": "execute_result"
    }
   ],
   "source": [
    "data.loc[data['ceiling_height'] > 10.3]"
   ]
  },
  {
   "cell_type": "code",
   "execution_count": 24,
   "metadata": {},
   "outputs": [
    {
     "data": {
      "text/plain": [
       "2.65"
      ]
     },
     "execution_count": 24,
     "metadata": {},
     "output_type": "execute_result"
    }
   ],
   "source": [
    "data['ceiling_height'].median()"
   ]
  },
  {
   "cell_type": "code",
   "execution_count": 25,
   "metadata": {},
   "outputs": [],
   "source": [
    "data.loc[data['ceiling_height'] > 10.3, 'ceiling_height'] = 2.65 #заменил здесь условие"
   ]
  },
  {
   "cell_type": "code",
   "execution_count": 26,
   "metadata": {},
   "outputs": [
    {
     "name": "stdout",
     "output_type": "stream",
     "text": [
      "<class 'pandas.core.frame.DataFrame'>\n",
      "RangeIndex: 23699 entries, 0 to 23698\n",
      "Data columns (total 22 columns):\n",
      " #   Column                Non-Null Count  Dtype         \n",
      "---  ------                --------------  -----         \n",
      " 0   total_images          23699 non-null  int64         \n",
      " 1   last_price            23699 non-null  int64         \n",
      " 2   total_area            23699 non-null  float64       \n",
      " 3   first_day_exposition  23699 non-null  datetime64[ns]\n",
      " 4   rooms                 23699 non-null  int64         \n",
      " 5   ceiling_height        14504 non-null  float64       \n",
      " 6   floors_total          23613 non-null  float64       \n",
      " 7   living_area           21796 non-null  float64       \n",
      " 8   floor                 23699 non-null  int64         \n",
      " 9   is_apartment          23699 non-null  object        \n",
      " 10  studio                23699 non-null  bool          \n",
      " 11  open_plan             23699 non-null  bool          \n",
      " 12  kitchen_area          21421 non-null  float64       \n",
      " 13  balcony               23699 non-null  int64         \n",
      " 14  locality_name         23650 non-null  object        \n",
      " 15  airports_nearest      18157 non-null  float64       \n",
      " 16  cityCenters_nearest   18180 non-null  float64       \n",
      " 17  parks_around3000      18181 non-null  float64       \n",
      " 18  parks_nearest         8079 non-null   float64       \n",
      " 19  ponds_around3000      23699 non-null  float64       \n",
      " 20  ponds_nearest         9110 non-null   float64       \n",
      " 21  days_exposition       20518 non-null  float64       \n",
      "dtypes: bool(2), datetime64[ns](1), float64(12), int64(5), object(2)\n",
      "memory usage: 3.7+ MB\n"
     ]
    }
   ],
   "source": [
    "data.info()"
   ]
  },
  {
   "cell_type": "code",
   "execution_count": 28,
   "metadata": {},
   "outputs": [
    {
     "name": "stdout",
     "output_type": "stream",
     "text": [
      "<class 'pandas.core.frame.DataFrame'>\n",
      "RangeIndex: 23699 entries, 0 to 23698\n",
      "Data columns (total 22 columns):\n",
      " #   Column                Non-Null Count  Dtype         \n",
      "---  ------                --------------  -----         \n",
      " 0   total_images          23699 non-null  int64         \n",
      " 1   last_price            23699 non-null  int64         \n",
      " 2   total_area            23699 non-null  float64       \n",
      " 3   first_day_exposition  23699 non-null  datetime64[ns]\n",
      " 4   rooms                 23699 non-null  int64         \n",
      " 5   ceiling_height        14504 non-null  float64       \n",
      " 6   floors_total          23613 non-null  float64       \n",
      " 7   living_area           21796 non-null  float64       \n",
      " 8   floor                 23699 non-null  int64         \n",
      " 9   is_apartment          23699 non-null  object        \n",
      " 10  studio                23699 non-null  bool          \n",
      " 11  open_plan             23699 non-null  bool          \n",
      " 12  kitchen_area          21421 non-null  float64       \n",
      " 13  balcony               23699 non-null  int64         \n",
      " 14  locality_name         23650 non-null  object        \n",
      " 15  airports_nearest      18157 non-null  float64       \n",
      " 16  cityCenters_nearest   18180 non-null  float64       \n",
      " 17  parks_around3000      18181 non-null  float64       \n",
      " 18  parks_nearest         8079 non-null   float64       \n",
      " 19  ponds_around3000      23699 non-null  float64       \n",
      " 20  ponds_nearest         9110 non-null   float64       \n",
      " 21  days_exposition       20518 non-null  float64       \n",
      "dtypes: bool(2), datetime64[ns](1), float64(12), int64(5), object(2)\n",
      "memory usage: 3.7+ MB\n"
     ]
    }
   ],
   "source": [
    "data.info()"
   ]
  },
  {
   "cell_type": "markdown",
   "metadata": {},
   "source": [
    "Не бывает во многоэтажных домах квартир с высотой потолков 20 метров, 25 и тем более 32. Проверили, есть ли квартиры с высотой потолков больше 5 метров. Самое крайнее число, которое еще не считаем аномальным взяли равным 10.3 метра. Они есть. \n",
    "Далее нашли медиану, и перезаписали во все квартиры выше 10.3 метров медианное значение 2.65 м."
   ]
  },
  {
   "cell_type": "code",
   "execution_count": 29,
   "metadata": {},
   "outputs": [
    {
     "data": {
      "text/plain": [
       "count    20518.000000\n",
       "mean       180.888634\n",
       "std        219.727988\n",
       "min          1.000000\n",
       "25%         45.000000\n",
       "50%         95.000000\n",
       "75%        232.000000\n",
       "max       1580.000000\n",
       "Name: days_exposition, dtype: float64"
      ]
     },
     "execution_count": 29,
     "metadata": {},
     "output_type": "execute_result"
    }
   ],
   "source": [
    "data['days_exposition'].describe()# здесь я перебирал разные столбцы, смотрел на данные, есть ли какие-то аномалии "
   ]
  },
  {
   "cell_type": "code",
   "execution_count": 30,
   "metadata": {
    "scrolled": true
   },
   "outputs": [
    {
     "data": {
      "text/html": [
       "<div>\n",
       "<style scoped>\n",
       "    .dataframe tbody tr th:only-of-type {\n",
       "        vertical-align: middle;\n",
       "    }\n",
       "\n",
       "    .dataframe tbody tr th {\n",
       "        vertical-align: top;\n",
       "    }\n",
       "\n",
       "    .dataframe thead th {\n",
       "        text-align: right;\n",
       "    }\n",
       "</style>\n",
       "<table border=\"1\" class=\"dataframe\">\n",
       "  <thead>\n",
       "    <tr style=\"text-align: right;\">\n",
       "      <th></th>\n",
       "      <th>total_images</th>\n",
       "      <th>last_price</th>\n",
       "      <th>total_area</th>\n",
       "      <th>first_day_exposition</th>\n",
       "      <th>rooms</th>\n",
       "      <th>ceiling_height</th>\n",
       "      <th>floors_total</th>\n",
       "      <th>living_area</th>\n",
       "      <th>floor</th>\n",
       "      <th>is_apartment</th>\n",
       "      <th>...</th>\n",
       "      <th>kitchen_area</th>\n",
       "      <th>balcony</th>\n",
       "      <th>locality_name</th>\n",
       "      <th>airports_nearest</th>\n",
       "      <th>cityCenters_nearest</th>\n",
       "      <th>parks_around3000</th>\n",
       "      <th>parks_nearest</th>\n",
       "      <th>ponds_around3000</th>\n",
       "      <th>ponds_nearest</th>\n",
       "      <th>days_exposition</th>\n",
       "    </tr>\n",
       "  </thead>\n",
       "  <tbody>\n",
       "    <tr>\n",
       "      <th>42</th>\n",
       "      <td>13</td>\n",
       "      <td>22000000</td>\n",
       "      <td>161.80</td>\n",
       "      <td>2015-07-08</td>\n",
       "      <td>4</td>\n",
       "      <td>2.80</td>\n",
       "      <td>4.0</td>\n",
       "      <td>80.90</td>\n",
       "      <td>2</td>\n",
       "      <td>False</td>\n",
       "      <td>...</td>\n",
       "      <td>17.60</td>\n",
       "      <td>5</td>\n",
       "      <td>Петергоф</td>\n",
       "      <td>35416.0</td>\n",
       "      <td>30605.0</td>\n",
       "      <td>2.0</td>\n",
       "      <td>47.0</td>\n",
       "      <td>1.0</td>\n",
       "      <td>907.0</td>\n",
       "      <td>987.0</td>\n",
       "    </tr>\n",
       "    <tr>\n",
       "      <th>43</th>\n",
       "      <td>13</td>\n",
       "      <td>9330000</td>\n",
       "      <td>48.00</td>\n",
       "      <td>2017-01-10</td>\n",
       "      <td>2</td>\n",
       "      <td>3.00</td>\n",
       "      <td>4.0</td>\n",
       "      <td>28.00</td>\n",
       "      <td>4</td>\n",
       "      <td>False</td>\n",
       "      <td>...</td>\n",
       "      <td>7.50</td>\n",
       "      <td>0</td>\n",
       "      <td>Санкт-Петербург</td>\n",
       "      <td>15016.0</td>\n",
       "      <td>10822.0</td>\n",
       "      <td>0.0</td>\n",
       "      <td>NaN</td>\n",
       "      <td>1.0</td>\n",
       "      <td>492.0</td>\n",
       "      <td>763.0</td>\n",
       "    </tr>\n",
       "    <tr>\n",
       "      <th>98</th>\n",
       "      <td>11</td>\n",
       "      <td>11700000</td>\n",
       "      <td>80.00</td>\n",
       "      <td>2014-12-10</td>\n",
       "      <td>3</td>\n",
       "      <td>NaN</td>\n",
       "      <td>5.0</td>\n",
       "      <td>55.10</td>\n",
       "      <td>3</td>\n",
       "      <td>False</td>\n",
       "      <td>...</td>\n",
       "      <td>11.00</td>\n",
       "      <td>0</td>\n",
       "      <td>Санкт-Петербург</td>\n",
       "      <td>11248.0</td>\n",
       "      <td>8767.0</td>\n",
       "      <td>1.0</td>\n",
       "      <td>666.0</td>\n",
       "      <td>0.0</td>\n",
       "      <td>NaN</td>\n",
       "      <td>831.0</td>\n",
       "    </tr>\n",
       "    <tr>\n",
       "      <th>109</th>\n",
       "      <td>2</td>\n",
       "      <td>7497600</td>\n",
       "      <td>62.50</td>\n",
       "      <td>2015-12-08</td>\n",
       "      <td>2</td>\n",
       "      <td>NaN</td>\n",
       "      <td>5.0</td>\n",
       "      <td>35.50</td>\n",
       "      <td>5</td>\n",
       "      <td>False</td>\n",
       "      <td>...</td>\n",
       "      <td>9.50</td>\n",
       "      <td>0</td>\n",
       "      <td>Пушкин</td>\n",
       "      <td>14517.0</td>\n",
       "      <td>26670.0</td>\n",
       "      <td>1.0</td>\n",
       "      <td>517.0</td>\n",
       "      <td>0.0</td>\n",
       "      <td>NaN</td>\n",
       "      <td>1048.0</td>\n",
       "    </tr>\n",
       "    <tr>\n",
       "      <th>145</th>\n",
       "      <td>6</td>\n",
       "      <td>8290000</td>\n",
       "      <td>77.00</td>\n",
       "      <td>2015-09-21</td>\n",
       "      <td>2</td>\n",
       "      <td>2.77</td>\n",
       "      <td>16.0</td>\n",
       "      <td>40.00</td>\n",
       "      <td>5</td>\n",
       "      <td>False</td>\n",
       "      <td>...</td>\n",
       "      <td>10.00</td>\n",
       "      <td>1</td>\n",
       "      <td>Санкт-Петербург</td>\n",
       "      <td>30012.0</td>\n",
       "      <td>7384.0</td>\n",
       "      <td>0.0</td>\n",
       "      <td>NaN</td>\n",
       "      <td>1.0</td>\n",
       "      <td>260.0</td>\n",
       "      <td>807.0</td>\n",
       "    </tr>\n",
       "    <tr>\n",
       "      <th>...</th>\n",
       "      <td>...</td>\n",
       "      <td>...</td>\n",
       "      <td>...</td>\n",
       "      <td>...</td>\n",
       "      <td>...</td>\n",
       "      <td>...</td>\n",
       "      <td>...</td>\n",
       "      <td>...</td>\n",
       "      <td>...</td>\n",
       "      <td>...</td>\n",
       "      <td>...</td>\n",
       "      <td>...</td>\n",
       "      <td>...</td>\n",
       "      <td>...</td>\n",
       "      <td>...</td>\n",
       "      <td>...</td>\n",
       "      <td>...</td>\n",
       "      <td>...</td>\n",
       "      <td>...</td>\n",
       "      <td>...</td>\n",
       "      <td>...</td>\n",
       "    </tr>\n",
       "    <tr>\n",
       "      <th>23588</th>\n",
       "      <td>7</td>\n",
       "      <td>8100000</td>\n",
       "      <td>69.00</td>\n",
       "      <td>2015-10-14</td>\n",
       "      <td>2</td>\n",
       "      <td>NaN</td>\n",
       "      <td>10.0</td>\n",
       "      <td>NaN</td>\n",
       "      <td>8</td>\n",
       "      <td>False</td>\n",
       "      <td>...</td>\n",
       "      <td>10.00</td>\n",
       "      <td>2</td>\n",
       "      <td>Санкт-Петербург</td>\n",
       "      <td>23617.0</td>\n",
       "      <td>5223.0</td>\n",
       "      <td>0.0</td>\n",
       "      <td>NaN</td>\n",
       "      <td>1.0</td>\n",
       "      <td>874.0</td>\n",
       "      <td>823.0</td>\n",
       "    </tr>\n",
       "    <tr>\n",
       "      <th>23598</th>\n",
       "      <td>8</td>\n",
       "      <td>4300000</td>\n",
       "      <td>33.40</td>\n",
       "      <td>2016-03-29</td>\n",
       "      <td>1</td>\n",
       "      <td>2.58</td>\n",
       "      <td>20.0</td>\n",
       "      <td>15.10</td>\n",
       "      <td>6</td>\n",
       "      <td>False</td>\n",
       "      <td>...</td>\n",
       "      <td>8.60</td>\n",
       "      <td>0</td>\n",
       "      <td>Санкт-Петербург</td>\n",
       "      <td>33695.0</td>\n",
       "      <td>14794.0</td>\n",
       "      <td>0.0</td>\n",
       "      <td>NaN</td>\n",
       "      <td>0.0</td>\n",
       "      <td>NaN</td>\n",
       "      <td>971.0</td>\n",
       "    </tr>\n",
       "    <tr>\n",
       "      <th>23638</th>\n",
       "      <td>8</td>\n",
       "      <td>4920000</td>\n",
       "      <td>76.26</td>\n",
       "      <td>2014-12-25</td>\n",
       "      <td>3</td>\n",
       "      <td>NaN</td>\n",
       "      <td>15.0</td>\n",
       "      <td>42.55</td>\n",
       "      <td>13</td>\n",
       "      <td>False</td>\n",
       "      <td>...</td>\n",
       "      <td>10.18</td>\n",
       "      <td>0</td>\n",
       "      <td>посёлок Мурино</td>\n",
       "      <td>NaN</td>\n",
       "      <td>NaN</td>\n",
       "      <td>NaN</td>\n",
       "      <td>NaN</td>\n",
       "      <td>0.0</td>\n",
       "      <td>NaN</td>\n",
       "      <td>939.0</td>\n",
       "    </tr>\n",
       "    <tr>\n",
       "      <th>23664</th>\n",
       "      <td>5</td>\n",
       "      <td>9000000</td>\n",
       "      <td>110.00</td>\n",
       "      <td>2015-12-10</td>\n",
       "      <td>4</td>\n",
       "      <td>3.36</td>\n",
       "      <td>7.0</td>\n",
       "      <td>64.60</td>\n",
       "      <td>5</td>\n",
       "      <td>False</td>\n",
       "      <td>...</td>\n",
       "      <td>15.80</td>\n",
       "      <td>0</td>\n",
       "      <td>Санкт-Петербург</td>\n",
       "      <td>26313.0</td>\n",
       "      <td>5016.0</td>\n",
       "      <td>3.0</td>\n",
       "      <td>417.0</td>\n",
       "      <td>1.0</td>\n",
       "      <td>118.0</td>\n",
       "      <td>816.0</td>\n",
       "    </tr>\n",
       "    <tr>\n",
       "      <th>23672</th>\n",
       "      <td>5</td>\n",
       "      <td>3000000</td>\n",
       "      <td>30.80</td>\n",
       "      <td>2016-06-08</td>\n",
       "      <td>1</td>\n",
       "      <td>NaN</td>\n",
       "      <td>5.0</td>\n",
       "      <td>16.10</td>\n",
       "      <td>3</td>\n",
       "      <td>False</td>\n",
       "      <td>...</td>\n",
       "      <td>6.30</td>\n",
       "      <td>0</td>\n",
       "      <td>Санкт-Петербург</td>\n",
       "      <td>44614.0</td>\n",
       "      <td>14193.0</td>\n",
       "      <td>2.0</td>\n",
       "      <td>258.0</td>\n",
       "      <td>0.0</td>\n",
       "      <td>NaN</td>\n",
       "      <td>808.0</td>\n",
       "    </tr>\n",
       "  </tbody>\n",
       "</table>\n",
       "<p>751 rows × 22 columns</p>\n",
       "</div>"
      ],
      "text/plain": [
       "       total_images  last_price  total_area first_day_exposition  rooms  \\\n",
       "42               13    22000000      161.80           2015-07-08      4   \n",
       "43               13     9330000       48.00           2017-01-10      2   \n",
       "98               11    11700000       80.00           2014-12-10      3   \n",
       "109               2     7497600       62.50           2015-12-08      2   \n",
       "145               6     8290000       77.00           2015-09-21      2   \n",
       "...             ...         ...         ...                  ...    ...   \n",
       "23588             7     8100000       69.00           2015-10-14      2   \n",
       "23598             8     4300000       33.40           2016-03-29      1   \n",
       "23638             8     4920000       76.26           2014-12-25      3   \n",
       "23664             5     9000000      110.00           2015-12-10      4   \n",
       "23672             5     3000000       30.80           2016-06-08      1   \n",
       "\n",
       "       ceiling_height  floors_total  living_area  floor is_apartment  ...  \\\n",
       "42               2.80           4.0        80.90      2        False  ...   \n",
       "43               3.00           4.0        28.00      4        False  ...   \n",
       "98                NaN           5.0        55.10      3        False  ...   \n",
       "109               NaN           5.0        35.50      5        False  ...   \n",
       "145              2.77          16.0        40.00      5        False  ...   \n",
       "...               ...           ...          ...    ...          ...  ...   \n",
       "23588             NaN          10.0          NaN      8        False  ...   \n",
       "23598            2.58          20.0        15.10      6        False  ...   \n",
       "23638             NaN          15.0        42.55     13        False  ...   \n",
       "23664            3.36           7.0        64.60      5        False  ...   \n",
       "23672             NaN           5.0        16.10      3        False  ...   \n",
       "\n",
       "       kitchen_area  balcony    locality_name  airports_nearest  \\\n",
       "42            17.60        5         Петергоф           35416.0   \n",
       "43             7.50        0  Санкт-Петербург           15016.0   \n",
       "98            11.00        0  Санкт-Петербург           11248.0   \n",
       "109            9.50        0           Пушкин           14517.0   \n",
       "145           10.00        1  Санкт-Петербург           30012.0   \n",
       "...             ...      ...              ...               ...   \n",
       "23588         10.00        2  Санкт-Петербург           23617.0   \n",
       "23598          8.60        0  Санкт-Петербург           33695.0   \n",
       "23638         10.18        0   посёлок Мурино               NaN   \n",
       "23664         15.80        0  Санкт-Петербург           26313.0   \n",
       "23672          6.30        0  Санкт-Петербург           44614.0   \n",
       "\n",
       "      cityCenters_nearest  parks_around3000  parks_nearest  ponds_around3000  \\\n",
       "42                30605.0               2.0           47.0               1.0   \n",
       "43                10822.0               0.0            NaN               1.0   \n",
       "98                 8767.0               1.0          666.0               0.0   \n",
       "109               26670.0               1.0          517.0               0.0   \n",
       "145                7384.0               0.0            NaN               1.0   \n",
       "...                   ...               ...            ...               ...   \n",
       "23588              5223.0               0.0            NaN               1.0   \n",
       "23598             14794.0               0.0            NaN               0.0   \n",
       "23638                 NaN               NaN            NaN               0.0   \n",
       "23664              5016.0               3.0          417.0               1.0   \n",
       "23672             14193.0               2.0          258.0               0.0   \n",
       "\n",
       "       ponds_nearest  days_exposition  \n",
       "42             907.0            987.0  \n",
       "43             492.0            763.0  \n",
       "98               NaN            831.0  \n",
       "109              NaN           1048.0  \n",
       "145            260.0            807.0  \n",
       "...              ...              ...  \n",
       "23588          874.0            823.0  \n",
       "23598            NaN            971.0  \n",
       "23638            NaN            939.0  \n",
       "23664          118.0            816.0  \n",
       "23672            NaN            808.0  \n",
       "\n",
       "[751 rows x 22 columns]"
      ]
     },
     "execution_count": 30,
     "metadata": {},
     "output_type": "execute_result"
    }
   ],
   "source": [
    "data[data['days_exposition'] > 730]# объявления, которые висели больше 2 лет "
   ]
  },
  {
   "cell_type": "markdown",
   "metadata": {},
   "source": [
    "**Удалим квартиры, в которых больше 3 балконов**"
   ]
  },
  {
   "cell_type": "code",
   "execution_count": 31,
   "metadata": {},
   "outputs": [
    {
     "data": {
      "text/html": [
       "<div>\n",
       "<style scoped>\n",
       "    .dataframe tbody tr th:only-of-type {\n",
       "        vertical-align: middle;\n",
       "    }\n",
       "\n",
       "    .dataframe tbody tr th {\n",
       "        vertical-align: top;\n",
       "    }\n",
       "\n",
       "    .dataframe thead th {\n",
       "        text-align: right;\n",
       "    }\n",
       "</style>\n",
       "<table border=\"1\" class=\"dataframe\">\n",
       "  <thead>\n",
       "    <tr style=\"text-align: right;\">\n",
       "      <th></th>\n",
       "      <th>total_images</th>\n",
       "      <th>last_price</th>\n",
       "      <th>total_area</th>\n",
       "      <th>first_day_exposition</th>\n",
       "      <th>rooms</th>\n",
       "      <th>ceiling_height</th>\n",
       "      <th>floors_total</th>\n",
       "      <th>living_area</th>\n",
       "      <th>floor</th>\n",
       "      <th>is_apartment</th>\n",
       "      <th>...</th>\n",
       "      <th>kitchen_area</th>\n",
       "      <th>balcony</th>\n",
       "      <th>locality_name</th>\n",
       "      <th>airports_nearest</th>\n",
       "      <th>cityCenters_nearest</th>\n",
       "      <th>parks_around3000</th>\n",
       "      <th>parks_nearest</th>\n",
       "      <th>ponds_around3000</th>\n",
       "      <th>ponds_nearest</th>\n",
       "      <th>days_exposition</th>\n",
       "    </tr>\n",
       "  </thead>\n",
       "  <tbody>\n",
       "    <tr>\n",
       "      <th>41</th>\n",
       "      <td>16</td>\n",
       "      <td>7900000</td>\n",
       "      <td>74.00</td>\n",
       "      <td>2016-05-04</td>\n",
       "      <td>3</td>\n",
       "      <td>NaN</td>\n",
       "      <td>14.0</td>\n",
       "      <td>59.0</td>\n",
       "      <td>8</td>\n",
       "      <td>False</td>\n",
       "      <td>...</td>\n",
       "      <td>12.0</td>\n",
       "      <td>5</td>\n",
       "      <td>Санкт-Петербург</td>\n",
       "      <td>37715.0</td>\n",
       "      <td>12612.0</td>\n",
       "      <td>1.0</td>\n",
       "      <td>725.0</td>\n",
       "      <td>1.0</td>\n",
       "      <td>759.0</td>\n",
       "      <td>179.0</td>\n",
       "    </tr>\n",
       "    <tr>\n",
       "      <th>42</th>\n",
       "      <td>13</td>\n",
       "      <td>22000000</td>\n",
       "      <td>161.80</td>\n",
       "      <td>2015-07-08</td>\n",
       "      <td>4</td>\n",
       "      <td>2.80</td>\n",
       "      <td>4.0</td>\n",
       "      <td>80.9</td>\n",
       "      <td>2</td>\n",
       "      <td>False</td>\n",
       "      <td>...</td>\n",
       "      <td>17.6</td>\n",
       "      <td>5</td>\n",
       "      <td>Петергоф</td>\n",
       "      <td>35416.0</td>\n",
       "      <td>30605.0</td>\n",
       "      <td>2.0</td>\n",
       "      <td>47.0</td>\n",
       "      <td>1.0</td>\n",
       "      <td>907.0</td>\n",
       "      <td>987.0</td>\n",
       "    </tr>\n",
       "    <tr>\n",
       "      <th>116</th>\n",
       "      <td>18</td>\n",
       "      <td>10999000</td>\n",
       "      <td>97.20</td>\n",
       "      <td>2017-11-13</td>\n",
       "      <td>3</td>\n",
       "      <td>2.50</td>\n",
       "      <td>16.0</td>\n",
       "      <td>NaN</td>\n",
       "      <td>16</td>\n",
       "      <td>False</td>\n",
       "      <td>...</td>\n",
       "      <td>18.3</td>\n",
       "      <td>5</td>\n",
       "      <td>Санкт-Петербург</td>\n",
       "      <td>19426.0</td>\n",
       "      <td>21138.0</td>\n",
       "      <td>0.0</td>\n",
       "      <td>NaN</td>\n",
       "      <td>2.0</td>\n",
       "      <td>390.0</td>\n",
       "      <td>394.0</td>\n",
       "    </tr>\n",
       "    <tr>\n",
       "      <th>121</th>\n",
       "      <td>20</td>\n",
       "      <td>33000000</td>\n",
       "      <td>180.00</td>\n",
       "      <td>2017-02-17</td>\n",
       "      <td>3</td>\n",
       "      <td>2.90</td>\n",
       "      <td>9.0</td>\n",
       "      <td>86.0</td>\n",
       "      <td>8</td>\n",
       "      <td>False</td>\n",
       "      <td>...</td>\n",
       "      <td>24.0</td>\n",
       "      <td>4</td>\n",
       "      <td>Санкт-Петербург</td>\n",
       "      <td>25689.0</td>\n",
       "      <td>4264.0</td>\n",
       "      <td>1.0</td>\n",
       "      <td>633.0</td>\n",
       "      <td>0.0</td>\n",
       "      <td>NaN</td>\n",
       "      <td>144.0</td>\n",
       "    </tr>\n",
       "    <tr>\n",
       "      <th>250</th>\n",
       "      <td>13</td>\n",
       "      <td>3200000</td>\n",
       "      <td>51.70</td>\n",
       "      <td>2019-01-22</td>\n",
       "      <td>2</td>\n",
       "      <td>2.65</td>\n",
       "      <td>16.0</td>\n",
       "      <td>29.2</td>\n",
       "      <td>5</td>\n",
       "      <td>False</td>\n",
       "      <td>...</td>\n",
       "      <td>7.7</td>\n",
       "      <td>4</td>\n",
       "      <td>Всеволожск</td>\n",
       "      <td>NaN</td>\n",
       "      <td>NaN</td>\n",
       "      <td>NaN</td>\n",
       "      <td>NaN</td>\n",
       "      <td>0.0</td>\n",
       "      <td>NaN</td>\n",
       "      <td>21.0</td>\n",
       "    </tr>\n",
       "    <tr>\n",
       "      <th>...</th>\n",
       "      <td>...</td>\n",
       "      <td>...</td>\n",
       "      <td>...</td>\n",
       "      <td>...</td>\n",
       "      <td>...</td>\n",
       "      <td>...</td>\n",
       "      <td>...</td>\n",
       "      <td>...</td>\n",
       "      <td>...</td>\n",
       "      <td>...</td>\n",
       "      <td>...</td>\n",
       "      <td>...</td>\n",
       "      <td>...</td>\n",
       "      <td>...</td>\n",
       "      <td>...</td>\n",
       "      <td>...</td>\n",
       "      <td>...</td>\n",
       "      <td>...</td>\n",
       "      <td>...</td>\n",
       "      <td>...</td>\n",
       "      <td>...</td>\n",
       "    </tr>\n",
       "    <tr>\n",
       "      <th>23363</th>\n",
       "      <td>10</td>\n",
       "      <td>4300000</td>\n",
       "      <td>52.00</td>\n",
       "      <td>2019-04-21</td>\n",
       "      <td>1</td>\n",
       "      <td>2.70</td>\n",
       "      <td>16.0</td>\n",
       "      <td>28.0</td>\n",
       "      <td>8</td>\n",
       "      <td>False</td>\n",
       "      <td>...</td>\n",
       "      <td>11.0</td>\n",
       "      <td>5</td>\n",
       "      <td>посёлок Мурино</td>\n",
       "      <td>NaN</td>\n",
       "      <td>NaN</td>\n",
       "      <td>NaN</td>\n",
       "      <td>NaN</td>\n",
       "      <td>0.0</td>\n",
       "      <td>NaN</td>\n",
       "      <td>NaN</td>\n",
       "    </tr>\n",
       "    <tr>\n",
       "      <th>23474</th>\n",
       "      <td>16</td>\n",
       "      <td>5900000</td>\n",
       "      <td>40.50</td>\n",
       "      <td>2019-03-16</td>\n",
       "      <td>2</td>\n",
       "      <td>2.73</td>\n",
       "      <td>17.0</td>\n",
       "      <td>31.0</td>\n",
       "      <td>16</td>\n",
       "      <td>False</td>\n",
       "      <td>...</td>\n",
       "      <td>5.0</td>\n",
       "      <td>4</td>\n",
       "      <td>Санкт-Петербург</td>\n",
       "      <td>19901.0</td>\n",
       "      <td>21613.0</td>\n",
       "      <td>0.0</td>\n",
       "      <td>NaN</td>\n",
       "      <td>1.0</td>\n",
       "      <td>1003.0</td>\n",
       "      <td>NaN</td>\n",
       "    </tr>\n",
       "    <tr>\n",
       "      <th>23497</th>\n",
       "      <td>17</td>\n",
       "      <td>6150000</td>\n",
       "      <td>55.40</td>\n",
       "      <td>2019-04-22</td>\n",
       "      <td>2</td>\n",
       "      <td>2.80</td>\n",
       "      <td>20.0</td>\n",
       "      <td>29.4</td>\n",
       "      <td>16</td>\n",
       "      <td>False</td>\n",
       "      <td>...</td>\n",
       "      <td>9.6</td>\n",
       "      <td>4</td>\n",
       "      <td>Санкт-Петербург</td>\n",
       "      <td>16285.0</td>\n",
       "      <td>13873.0</td>\n",
       "      <td>0.0</td>\n",
       "      <td>NaN</td>\n",
       "      <td>1.0</td>\n",
       "      <td>481.0</td>\n",
       "      <td>NaN</td>\n",
       "    </tr>\n",
       "    <tr>\n",
       "      <th>23526</th>\n",
       "      <td>14</td>\n",
       "      <td>5800000</td>\n",
       "      <td>60.69</td>\n",
       "      <td>2018-03-13</td>\n",
       "      <td>3</td>\n",
       "      <td>2.50</td>\n",
       "      <td>9.0</td>\n",
       "      <td>39.7</td>\n",
       "      <td>2</td>\n",
       "      <td>False</td>\n",
       "      <td>...</td>\n",
       "      <td>6.2</td>\n",
       "      <td>5</td>\n",
       "      <td>Санкт-Петербург</td>\n",
       "      <td>51239.0</td>\n",
       "      <td>15954.0</td>\n",
       "      <td>0.0</td>\n",
       "      <td>NaN</td>\n",
       "      <td>0.0</td>\n",
       "      <td>NaN</td>\n",
       "      <td>30.0</td>\n",
       "    </tr>\n",
       "    <tr>\n",
       "      <th>23549</th>\n",
       "      <td>5</td>\n",
       "      <td>19600000</td>\n",
       "      <td>184.00</td>\n",
       "      <td>2016-04-21</td>\n",
       "      <td>3</td>\n",
       "      <td>3.00</td>\n",
       "      <td>19.0</td>\n",
       "      <td>55.7</td>\n",
       "      <td>19</td>\n",
       "      <td>False</td>\n",
       "      <td>...</td>\n",
       "      <td>24.5</td>\n",
       "      <td>5</td>\n",
       "      <td>Санкт-Петербург</td>\n",
       "      <td>18995.0</td>\n",
       "      <td>4837.0</td>\n",
       "      <td>0.0</td>\n",
       "      <td>NaN</td>\n",
       "      <td>0.0</td>\n",
       "      <td>NaN</td>\n",
       "      <td>205.0</td>\n",
       "    </tr>\n",
       "  </tbody>\n",
       "</table>\n",
       "<p>487 rows × 22 columns</p>\n",
       "</div>"
      ],
      "text/plain": [
       "       total_images  last_price  total_area first_day_exposition  rooms  \\\n",
       "41               16     7900000       74.00           2016-05-04      3   \n",
       "42               13    22000000      161.80           2015-07-08      4   \n",
       "116              18    10999000       97.20           2017-11-13      3   \n",
       "121              20    33000000      180.00           2017-02-17      3   \n",
       "250              13     3200000       51.70           2019-01-22      2   \n",
       "...             ...         ...         ...                  ...    ...   \n",
       "23363            10     4300000       52.00           2019-04-21      1   \n",
       "23474            16     5900000       40.50           2019-03-16      2   \n",
       "23497            17     6150000       55.40           2019-04-22      2   \n",
       "23526            14     5800000       60.69           2018-03-13      3   \n",
       "23549             5    19600000      184.00           2016-04-21      3   \n",
       "\n",
       "       ceiling_height  floors_total  living_area  floor is_apartment  ...  \\\n",
       "41                NaN          14.0         59.0      8        False  ...   \n",
       "42               2.80           4.0         80.9      2        False  ...   \n",
       "116              2.50          16.0          NaN     16        False  ...   \n",
       "121              2.90           9.0         86.0      8        False  ...   \n",
       "250              2.65          16.0         29.2      5        False  ...   \n",
       "...               ...           ...          ...    ...          ...  ...   \n",
       "23363            2.70          16.0         28.0      8        False  ...   \n",
       "23474            2.73          17.0         31.0     16        False  ...   \n",
       "23497            2.80          20.0         29.4     16        False  ...   \n",
       "23526            2.50           9.0         39.7      2        False  ...   \n",
       "23549            3.00          19.0         55.7     19        False  ...   \n",
       "\n",
       "       kitchen_area  balcony    locality_name  airports_nearest  \\\n",
       "41             12.0        5  Санкт-Петербург           37715.0   \n",
       "42             17.6        5         Петергоф           35416.0   \n",
       "116            18.3        5  Санкт-Петербург           19426.0   \n",
       "121            24.0        4  Санкт-Петербург           25689.0   \n",
       "250             7.7        4       Всеволожск               NaN   \n",
       "...             ...      ...              ...               ...   \n",
       "23363          11.0        5   посёлок Мурино               NaN   \n",
       "23474           5.0        4  Санкт-Петербург           19901.0   \n",
       "23497           9.6        4  Санкт-Петербург           16285.0   \n",
       "23526           6.2        5  Санкт-Петербург           51239.0   \n",
       "23549          24.5        5  Санкт-Петербург           18995.0   \n",
       "\n",
       "      cityCenters_nearest  parks_around3000  parks_nearest  ponds_around3000  \\\n",
       "41                12612.0               1.0          725.0               1.0   \n",
       "42                30605.0               2.0           47.0               1.0   \n",
       "116               21138.0               0.0            NaN               2.0   \n",
       "121                4264.0               1.0          633.0               0.0   \n",
       "250                   NaN               NaN            NaN               0.0   \n",
       "...                   ...               ...            ...               ...   \n",
       "23363                 NaN               NaN            NaN               0.0   \n",
       "23474             21613.0               0.0            NaN               1.0   \n",
       "23497             13873.0               0.0            NaN               1.0   \n",
       "23526             15954.0               0.0            NaN               0.0   \n",
       "23549              4837.0               0.0            NaN               0.0   \n",
       "\n",
       "       ponds_nearest  days_exposition  \n",
       "41             759.0            179.0  \n",
       "42             907.0            987.0  \n",
       "116            390.0            394.0  \n",
       "121              NaN            144.0  \n",
       "250              NaN             21.0  \n",
       "...              ...              ...  \n",
       "23363            NaN              NaN  \n",
       "23474         1003.0              NaN  \n",
       "23497          481.0              NaN  \n",
       "23526            NaN             30.0  \n",
       "23549            NaN            205.0  \n",
       "\n",
       "[487 rows x 22 columns]"
      ]
     },
     "execution_count": 31,
     "metadata": {},
     "output_type": "execute_result"
    }
   ],
   "source": [
    "data.loc[data['balcony'] > 3]"
   ]
  },
  {
   "cell_type": "code",
   "execution_count": 32,
   "metadata": {},
   "outputs": [
    {
     "data": {
      "text/plain": [
       "23699"
      ]
     },
     "execution_count": 32,
     "metadata": {},
     "output_type": "execute_result"
    }
   ],
   "source": [
    "len(data)"
   ]
  },
  {
   "cell_type": "code",
   "execution_count": 33,
   "metadata": {},
   "outputs": [],
   "source": [
    "data = data[data['balcony'] <= 3]"
   ]
  },
  {
   "cell_type": "code",
   "execution_count": 34,
   "metadata": {},
   "outputs": [
    {
     "data": {
      "text/plain": [
       "23212"
      ]
     },
     "execution_count": 34,
     "metadata": {},
     "output_type": "execute_result"
    }
   ],
   "source": [
    "len(data)"
   ]
  },
  {
   "cell_type": "code",
   "execution_count": 35,
   "metadata": {},
   "outputs": [
    {
     "data": {
      "text/plain": [
       "371"
      ]
     },
     "execution_count": 35,
     "metadata": {},
     "output_type": "execute_result"
    }
   ],
   "source": [
    "14492 - 14121 #проверка, не удалили ли чего лишнего \n",
    "#прошла успешно"
   ]
  },
  {
   "cell_type": "markdown",
   "metadata": {},
   "source": [
    "**Проверка на дубликаты**"
   ]
  },
  {
   "cell_type": "code",
   "execution_count": 36,
   "metadata": {},
   "outputs": [
    {
     "data": {
      "text/plain": [
       "0"
      ]
     },
     "execution_count": 36,
     "metadata": {},
     "output_type": "execute_result"
    }
   ],
   "source": [
    "data.duplicated().sum()"
   ]
  },
  {
   "cell_type": "markdown",
   "metadata": {},
   "source": [
    "**Особенности, которые удалось обнаружить:**\n",
    "\n",
    "- в столбце `locality_name` довольно много неявных дубликатов, от большей части которых удалось избавиться;\n",
    "- существует 230 квартиры с 5-ю балконами, приэтом далеко не все из этих квартир большие по площади. Природа этого явления не очень понятна, объекты с более чем 3-мя балконами удалили;\n",
    "- также были обнаружены аномалии с высотой потолка в столбце `ceiling_height`. Их высота 25, 26, 32 метра. Такие значения заменили на медианное;\n",
    "- существуют очень дорогие квартиры, чья стоимость превышает 200 миллионов рублей. На первый взгляд обнаружена корреляция с метражом и количеством комнат, поэтому данные не были изменены;\n",
    "- очень смущают квартиры, которые висели в объявлении больше двух лет (таких аж 488, это более 3% от всех), в то время как в среднем квартира продавалась за 248 дней. "
   ]
  },
  {
   "cell_type": "code",
   "execution_count": 37,
   "metadata": {},
   "outputs": [
    {
     "name": "stdout",
     "output_type": "stream",
     "text": [
      "<class 'pandas.core.frame.DataFrame'>\n",
      "Int64Index: 23212 entries, 0 to 23698\n",
      "Data columns (total 22 columns):\n",
      " #   Column                Non-Null Count  Dtype         \n",
      "---  ------                --------------  -----         \n",
      " 0   total_images          23212 non-null  int64         \n",
      " 1   last_price            23212 non-null  int64         \n",
      " 2   total_area            23212 non-null  float64       \n",
      " 3   first_day_exposition  23212 non-null  datetime64[ns]\n",
      " 4   rooms                 23212 non-null  int64         \n",
      " 5   ceiling_height        14132 non-null  float64       \n",
      " 6   floors_total          23126 non-null  float64       \n",
      " 7   living_area           21337 non-null  float64       \n",
      " 8   floor                 23212 non-null  int64         \n",
      " 9   is_apartment          23212 non-null  object        \n",
      " 10  studio                23212 non-null  bool          \n",
      " 11  open_plan             23212 non-null  bool          \n",
      " 12  kitchen_area          20947 non-null  float64       \n",
      " 13  balcony               23212 non-null  int64         \n",
      " 14  locality_name         23164 non-null  object        \n",
      " 15  airports_nearest      17770 non-null  float64       \n",
      " 16  cityCenters_nearest   17793 non-null  float64       \n",
      " 17  parks_around3000      17794 non-null  float64       \n",
      " 18  parks_nearest         7894 non-null   float64       \n",
      " 19  ponds_around3000      23212 non-null  float64       \n",
      " 20  ponds_nearest         8929 non-null   float64       \n",
      " 21  days_exposition       20126 non-null  float64       \n",
      "dtypes: bool(2), datetime64[ns](1), float64(12), int64(5), object(2)\n",
      "memory usage: 3.8+ MB\n"
     ]
    }
   ],
   "source": [
    "data.info()"
   ]
  },
  {
   "cell_type": "markdown",
   "metadata": {},
   "source": [
    "### Посчитаем и добавим в таблицу новые столбцы"
   ]
  },
  {
   "cell_type": "markdown",
   "metadata": {},
   "source": [
    "#### Цена одного квадратного метра"
   ]
  },
  {
   "cell_type": "code",
   "execution_count": 38,
   "metadata": {},
   "outputs": [],
   "source": [
    "data['cost_per_m^2'] = round(data['last_price'] / data['total_area'], 2) # добавили стоимость м^2 и \n",
    "#округлили до 2 знаков после точки "
   ]
  },
  {
   "cell_type": "code",
   "execution_count": 39,
   "metadata": {},
   "outputs": [
    {
     "data": {
      "text/html": [
       "<div>\n",
       "<style scoped>\n",
       "    .dataframe tbody tr th:only-of-type {\n",
       "        vertical-align: middle;\n",
       "    }\n",
       "\n",
       "    .dataframe tbody tr th {\n",
       "        vertical-align: top;\n",
       "    }\n",
       "\n",
       "    .dataframe thead th {\n",
       "        text-align: right;\n",
       "    }\n",
       "</style>\n",
       "<table border=\"1\" class=\"dataframe\">\n",
       "  <thead>\n",
       "    <tr style=\"text-align: right;\">\n",
       "      <th></th>\n",
       "      <th>total_images</th>\n",
       "      <th>last_price</th>\n",
       "      <th>total_area</th>\n",
       "      <th>first_day_exposition</th>\n",
       "      <th>rooms</th>\n",
       "      <th>ceiling_height</th>\n",
       "      <th>floors_total</th>\n",
       "      <th>living_area</th>\n",
       "      <th>floor</th>\n",
       "      <th>is_apartment</th>\n",
       "      <th>...</th>\n",
       "      <th>balcony</th>\n",
       "      <th>locality_name</th>\n",
       "      <th>airports_nearest</th>\n",
       "      <th>cityCenters_nearest</th>\n",
       "      <th>parks_around3000</th>\n",
       "      <th>parks_nearest</th>\n",
       "      <th>ponds_around3000</th>\n",
       "      <th>ponds_nearest</th>\n",
       "      <th>days_exposition</th>\n",
       "      <th>cost_per_m^2</th>\n",
       "    </tr>\n",
       "  </thead>\n",
       "  <tbody>\n",
       "    <tr>\n",
       "      <th>0</th>\n",
       "      <td>20</td>\n",
       "      <td>13000000</td>\n",
       "      <td>108.0</td>\n",
       "      <td>2019-03-07</td>\n",
       "      <td>3</td>\n",
       "      <td>2.70</td>\n",
       "      <td>16.0</td>\n",
       "      <td>51.0</td>\n",
       "      <td>8</td>\n",
       "      <td>False</td>\n",
       "      <td>...</td>\n",
       "      <td>0</td>\n",
       "      <td>Санкт-Петербург</td>\n",
       "      <td>18863.0</td>\n",
       "      <td>16028.0</td>\n",
       "      <td>1.0</td>\n",
       "      <td>482.0</td>\n",
       "      <td>2.0</td>\n",
       "      <td>755.0</td>\n",
       "      <td>NaN</td>\n",
       "      <td>120370.37</td>\n",
       "    </tr>\n",
       "    <tr>\n",
       "      <th>1</th>\n",
       "      <td>7</td>\n",
       "      <td>3350000</td>\n",
       "      <td>40.4</td>\n",
       "      <td>2018-12-04</td>\n",
       "      <td>1</td>\n",
       "      <td>NaN</td>\n",
       "      <td>11.0</td>\n",
       "      <td>18.6</td>\n",
       "      <td>1</td>\n",
       "      <td>False</td>\n",
       "      <td>...</td>\n",
       "      <td>2</td>\n",
       "      <td>посёлок Шушары</td>\n",
       "      <td>12817.0</td>\n",
       "      <td>18603.0</td>\n",
       "      <td>0.0</td>\n",
       "      <td>NaN</td>\n",
       "      <td>0.0</td>\n",
       "      <td>NaN</td>\n",
       "      <td>81.0</td>\n",
       "      <td>82920.79</td>\n",
       "    </tr>\n",
       "    <tr>\n",
       "      <th>2</th>\n",
       "      <td>10</td>\n",
       "      <td>5196000</td>\n",
       "      <td>56.0</td>\n",
       "      <td>2015-08-20</td>\n",
       "      <td>2</td>\n",
       "      <td>NaN</td>\n",
       "      <td>5.0</td>\n",
       "      <td>34.3</td>\n",
       "      <td>4</td>\n",
       "      <td>False</td>\n",
       "      <td>...</td>\n",
       "      <td>0</td>\n",
       "      <td>Санкт-Петербург</td>\n",
       "      <td>21741.0</td>\n",
       "      <td>13933.0</td>\n",
       "      <td>1.0</td>\n",
       "      <td>90.0</td>\n",
       "      <td>2.0</td>\n",
       "      <td>574.0</td>\n",
       "      <td>558.0</td>\n",
       "      <td>92785.71</td>\n",
       "    </tr>\n",
       "    <tr>\n",
       "      <th>3</th>\n",
       "      <td>0</td>\n",
       "      <td>64900000</td>\n",
       "      <td>159.0</td>\n",
       "      <td>2015-07-24</td>\n",
       "      <td>3</td>\n",
       "      <td>NaN</td>\n",
       "      <td>14.0</td>\n",
       "      <td>NaN</td>\n",
       "      <td>9</td>\n",
       "      <td>False</td>\n",
       "      <td>...</td>\n",
       "      <td>0</td>\n",
       "      <td>Санкт-Петербург</td>\n",
       "      <td>28098.0</td>\n",
       "      <td>6800.0</td>\n",
       "      <td>2.0</td>\n",
       "      <td>84.0</td>\n",
       "      <td>3.0</td>\n",
       "      <td>234.0</td>\n",
       "      <td>424.0</td>\n",
       "      <td>408176.10</td>\n",
       "    </tr>\n",
       "    <tr>\n",
       "      <th>4</th>\n",
       "      <td>2</td>\n",
       "      <td>10000000</td>\n",
       "      <td>100.0</td>\n",
       "      <td>2018-06-19</td>\n",
       "      <td>2</td>\n",
       "      <td>3.03</td>\n",
       "      <td>14.0</td>\n",
       "      <td>32.0</td>\n",
       "      <td>13</td>\n",
       "      <td>False</td>\n",
       "      <td>...</td>\n",
       "      <td>0</td>\n",
       "      <td>Санкт-Петербург</td>\n",
       "      <td>31856.0</td>\n",
       "      <td>8098.0</td>\n",
       "      <td>2.0</td>\n",
       "      <td>112.0</td>\n",
       "      <td>1.0</td>\n",
       "      <td>48.0</td>\n",
       "      <td>121.0</td>\n",
       "      <td>100000.00</td>\n",
       "    </tr>\n",
       "  </tbody>\n",
       "</table>\n",
       "<p>5 rows × 23 columns</p>\n",
       "</div>"
      ],
      "text/plain": [
       "   total_images  last_price  total_area first_day_exposition  rooms  \\\n",
       "0            20    13000000       108.0           2019-03-07      3   \n",
       "1             7     3350000        40.4           2018-12-04      1   \n",
       "2            10     5196000        56.0           2015-08-20      2   \n",
       "3             0    64900000       159.0           2015-07-24      3   \n",
       "4             2    10000000       100.0           2018-06-19      2   \n",
       "\n",
       "   ceiling_height  floors_total  living_area  floor is_apartment  ...  \\\n",
       "0            2.70          16.0         51.0      8        False  ...   \n",
       "1             NaN          11.0         18.6      1        False  ...   \n",
       "2             NaN           5.0         34.3      4        False  ...   \n",
       "3             NaN          14.0          NaN      9        False  ...   \n",
       "4            3.03          14.0         32.0     13        False  ...   \n",
       "\n",
       "   balcony    locality_name  airports_nearest  cityCenters_nearest  \\\n",
       "0        0  Санкт-Петербург           18863.0              16028.0   \n",
       "1        2   посёлок Шушары           12817.0              18603.0   \n",
       "2        0  Санкт-Петербург           21741.0              13933.0   \n",
       "3        0  Санкт-Петербург           28098.0               6800.0   \n",
       "4        0  Санкт-Петербург           31856.0               8098.0   \n",
       "\n",
       "  parks_around3000  parks_nearest  ponds_around3000  ponds_nearest  \\\n",
       "0              1.0          482.0               2.0          755.0   \n",
       "1              0.0            NaN               0.0            NaN   \n",
       "2              1.0           90.0               2.0          574.0   \n",
       "3              2.0           84.0               3.0          234.0   \n",
       "4              2.0          112.0               1.0           48.0   \n",
       "\n",
       "   days_exposition  cost_per_m^2  \n",
       "0              NaN     120370.37  \n",
       "1             81.0      82920.79  \n",
       "2            558.0      92785.71  \n",
       "3            424.0     408176.10  \n",
       "4            121.0     100000.00  \n",
       "\n",
       "[5 rows x 23 columns]"
      ]
     },
     "execution_count": 39,
     "metadata": {},
     "output_type": "execute_result"
    }
   ],
   "source": [
    "data.head()"
   ]
  },
  {
   "cell_type": "markdown",
   "metadata": {},
   "source": [
    "#### День недели публикации объявления (0 — понедельник, 1 — вторник и так далее)"
   ]
  },
  {
   "cell_type": "code",
   "execution_count": 40,
   "metadata": {},
   "outputs": [],
   "source": [
    "data['weekday'] = data['first_day_exposition'].dt.weekday"
   ]
  },
  {
   "cell_type": "code",
   "execution_count": 41,
   "metadata": {},
   "outputs": [
    {
     "data": {
      "text/html": [
       "<div>\n",
       "<style scoped>\n",
       "    .dataframe tbody tr th:only-of-type {\n",
       "        vertical-align: middle;\n",
       "    }\n",
       "\n",
       "    .dataframe tbody tr th {\n",
       "        vertical-align: top;\n",
       "    }\n",
       "\n",
       "    .dataframe thead th {\n",
       "        text-align: right;\n",
       "    }\n",
       "</style>\n",
       "<table border=\"1\" class=\"dataframe\">\n",
       "  <thead>\n",
       "    <tr style=\"text-align: right;\">\n",
       "      <th></th>\n",
       "      <th>total_images</th>\n",
       "      <th>last_price</th>\n",
       "      <th>total_area</th>\n",
       "      <th>first_day_exposition</th>\n",
       "      <th>rooms</th>\n",
       "      <th>ceiling_height</th>\n",
       "      <th>floors_total</th>\n",
       "      <th>living_area</th>\n",
       "      <th>floor</th>\n",
       "      <th>is_apartment</th>\n",
       "      <th>...</th>\n",
       "      <th>locality_name</th>\n",
       "      <th>airports_nearest</th>\n",
       "      <th>cityCenters_nearest</th>\n",
       "      <th>parks_around3000</th>\n",
       "      <th>parks_nearest</th>\n",
       "      <th>ponds_around3000</th>\n",
       "      <th>ponds_nearest</th>\n",
       "      <th>days_exposition</th>\n",
       "      <th>cost_per_m^2</th>\n",
       "      <th>weekday</th>\n",
       "    </tr>\n",
       "  </thead>\n",
       "  <tbody>\n",
       "    <tr>\n",
       "      <th>0</th>\n",
       "      <td>20</td>\n",
       "      <td>13000000</td>\n",
       "      <td>108.0</td>\n",
       "      <td>2019-03-07</td>\n",
       "      <td>3</td>\n",
       "      <td>2.70</td>\n",
       "      <td>16.0</td>\n",
       "      <td>51.0</td>\n",
       "      <td>8</td>\n",
       "      <td>False</td>\n",
       "      <td>...</td>\n",
       "      <td>Санкт-Петербург</td>\n",
       "      <td>18863.0</td>\n",
       "      <td>16028.0</td>\n",
       "      <td>1.0</td>\n",
       "      <td>482.0</td>\n",
       "      <td>2.0</td>\n",
       "      <td>755.0</td>\n",
       "      <td>NaN</td>\n",
       "      <td>120370.37</td>\n",
       "      <td>3</td>\n",
       "    </tr>\n",
       "    <tr>\n",
       "      <th>1</th>\n",
       "      <td>7</td>\n",
       "      <td>3350000</td>\n",
       "      <td>40.4</td>\n",
       "      <td>2018-12-04</td>\n",
       "      <td>1</td>\n",
       "      <td>NaN</td>\n",
       "      <td>11.0</td>\n",
       "      <td>18.6</td>\n",
       "      <td>1</td>\n",
       "      <td>False</td>\n",
       "      <td>...</td>\n",
       "      <td>посёлок Шушары</td>\n",
       "      <td>12817.0</td>\n",
       "      <td>18603.0</td>\n",
       "      <td>0.0</td>\n",
       "      <td>NaN</td>\n",
       "      <td>0.0</td>\n",
       "      <td>NaN</td>\n",
       "      <td>81.0</td>\n",
       "      <td>82920.79</td>\n",
       "      <td>1</td>\n",
       "    </tr>\n",
       "    <tr>\n",
       "      <th>2</th>\n",
       "      <td>10</td>\n",
       "      <td>5196000</td>\n",
       "      <td>56.0</td>\n",
       "      <td>2015-08-20</td>\n",
       "      <td>2</td>\n",
       "      <td>NaN</td>\n",
       "      <td>5.0</td>\n",
       "      <td>34.3</td>\n",
       "      <td>4</td>\n",
       "      <td>False</td>\n",
       "      <td>...</td>\n",
       "      <td>Санкт-Петербург</td>\n",
       "      <td>21741.0</td>\n",
       "      <td>13933.0</td>\n",
       "      <td>1.0</td>\n",
       "      <td>90.0</td>\n",
       "      <td>2.0</td>\n",
       "      <td>574.0</td>\n",
       "      <td>558.0</td>\n",
       "      <td>92785.71</td>\n",
       "      <td>3</td>\n",
       "    </tr>\n",
       "    <tr>\n",
       "      <th>3</th>\n",
       "      <td>0</td>\n",
       "      <td>64900000</td>\n",
       "      <td>159.0</td>\n",
       "      <td>2015-07-24</td>\n",
       "      <td>3</td>\n",
       "      <td>NaN</td>\n",
       "      <td>14.0</td>\n",
       "      <td>NaN</td>\n",
       "      <td>9</td>\n",
       "      <td>False</td>\n",
       "      <td>...</td>\n",
       "      <td>Санкт-Петербург</td>\n",
       "      <td>28098.0</td>\n",
       "      <td>6800.0</td>\n",
       "      <td>2.0</td>\n",
       "      <td>84.0</td>\n",
       "      <td>3.0</td>\n",
       "      <td>234.0</td>\n",
       "      <td>424.0</td>\n",
       "      <td>408176.10</td>\n",
       "      <td>4</td>\n",
       "    </tr>\n",
       "    <tr>\n",
       "      <th>4</th>\n",
       "      <td>2</td>\n",
       "      <td>10000000</td>\n",
       "      <td>100.0</td>\n",
       "      <td>2018-06-19</td>\n",
       "      <td>2</td>\n",
       "      <td>3.03</td>\n",
       "      <td>14.0</td>\n",
       "      <td>32.0</td>\n",
       "      <td>13</td>\n",
       "      <td>False</td>\n",
       "      <td>...</td>\n",
       "      <td>Санкт-Петербург</td>\n",
       "      <td>31856.0</td>\n",
       "      <td>8098.0</td>\n",
       "      <td>2.0</td>\n",
       "      <td>112.0</td>\n",
       "      <td>1.0</td>\n",
       "      <td>48.0</td>\n",
       "      <td>121.0</td>\n",
       "      <td>100000.00</td>\n",
       "      <td>1</td>\n",
       "    </tr>\n",
       "  </tbody>\n",
       "</table>\n",
       "<p>5 rows × 24 columns</p>\n",
       "</div>"
      ],
      "text/plain": [
       "   total_images  last_price  total_area first_day_exposition  rooms  \\\n",
       "0            20    13000000       108.0           2019-03-07      3   \n",
       "1             7     3350000        40.4           2018-12-04      1   \n",
       "2            10     5196000        56.0           2015-08-20      2   \n",
       "3             0    64900000       159.0           2015-07-24      3   \n",
       "4             2    10000000       100.0           2018-06-19      2   \n",
       "\n",
       "   ceiling_height  floors_total  living_area  floor is_apartment  ...  \\\n",
       "0            2.70          16.0         51.0      8        False  ...   \n",
       "1             NaN          11.0         18.6      1        False  ...   \n",
       "2             NaN           5.0         34.3      4        False  ...   \n",
       "3             NaN          14.0          NaN      9        False  ...   \n",
       "4            3.03          14.0         32.0     13        False  ...   \n",
       "\n",
       "     locality_name  airports_nearest  cityCenters_nearest  parks_around3000  \\\n",
       "0  Санкт-Петербург           18863.0              16028.0               1.0   \n",
       "1   посёлок Шушары           12817.0              18603.0               0.0   \n",
       "2  Санкт-Петербург           21741.0              13933.0               1.0   \n",
       "3  Санкт-Петербург           28098.0               6800.0               2.0   \n",
       "4  Санкт-Петербург           31856.0               8098.0               2.0   \n",
       "\n",
       "  parks_nearest  ponds_around3000  ponds_nearest  days_exposition  \\\n",
       "0         482.0               2.0          755.0              NaN   \n",
       "1           NaN               0.0            NaN             81.0   \n",
       "2          90.0               2.0          574.0            558.0   \n",
       "3          84.0               3.0          234.0            424.0   \n",
       "4         112.0               1.0           48.0            121.0   \n",
       "\n",
       "   cost_per_m^2  weekday  \n",
       "0     120370.37        3  \n",
       "1      82920.79        1  \n",
       "2      92785.71        3  \n",
       "3     408176.10        4  \n",
       "4     100000.00        1  \n",
       "\n",
       "[5 rows x 24 columns]"
      ]
     },
     "execution_count": 41,
     "metadata": {},
     "output_type": "execute_result"
    }
   ],
   "source": [
    "data.head()"
   ]
  },
  {
   "cell_type": "markdown",
   "metadata": {},
   "source": [
    "#### Месяц публикации объявления"
   ]
  },
  {
   "cell_type": "code",
   "execution_count": 42,
   "metadata": {},
   "outputs": [],
   "source": [
    "data['month'] = pd.DatetimeIndex(data['first_day_exposition']).month"
   ]
  },
  {
   "cell_type": "markdown",
   "metadata": {},
   "source": [
    "#### Год публикации объявления"
   ]
  },
  {
   "cell_type": "code",
   "execution_count": 43,
   "metadata": {},
   "outputs": [],
   "source": [
    "data['year'] = pd.DatetimeIndex(data['first_day_exposition']).year"
   ]
  },
  {
   "cell_type": "markdown",
   "metadata": {},
   "source": []
  },
  {
   "cell_type": "code",
   "execution_count": 44,
   "metadata": {},
   "outputs": [
    {
     "data": {
      "text/html": [
       "<div>\n",
       "<style scoped>\n",
       "    .dataframe tbody tr th:only-of-type {\n",
       "        vertical-align: middle;\n",
       "    }\n",
       "\n",
       "    .dataframe tbody tr th {\n",
       "        vertical-align: top;\n",
       "    }\n",
       "\n",
       "    .dataframe thead th {\n",
       "        text-align: right;\n",
       "    }\n",
       "</style>\n",
       "<table border=\"1\" class=\"dataframe\">\n",
       "  <thead>\n",
       "    <tr style=\"text-align: right;\">\n",
       "      <th></th>\n",
       "      <th>total_images</th>\n",
       "      <th>last_price</th>\n",
       "      <th>total_area</th>\n",
       "      <th>first_day_exposition</th>\n",
       "      <th>rooms</th>\n",
       "      <th>ceiling_height</th>\n",
       "      <th>floors_total</th>\n",
       "      <th>living_area</th>\n",
       "      <th>floor</th>\n",
       "      <th>is_apartment</th>\n",
       "      <th>...</th>\n",
       "      <th>cityCenters_nearest</th>\n",
       "      <th>parks_around3000</th>\n",
       "      <th>parks_nearest</th>\n",
       "      <th>ponds_around3000</th>\n",
       "      <th>ponds_nearest</th>\n",
       "      <th>days_exposition</th>\n",
       "      <th>cost_per_m^2</th>\n",
       "      <th>weekday</th>\n",
       "      <th>month</th>\n",
       "      <th>year</th>\n",
       "    </tr>\n",
       "  </thead>\n",
       "  <tbody>\n",
       "    <tr>\n",
       "      <th>0</th>\n",
       "      <td>20</td>\n",
       "      <td>13000000</td>\n",
       "      <td>108.0</td>\n",
       "      <td>2019-03-07</td>\n",
       "      <td>3</td>\n",
       "      <td>2.70</td>\n",
       "      <td>16.0</td>\n",
       "      <td>51.0</td>\n",
       "      <td>8</td>\n",
       "      <td>False</td>\n",
       "      <td>...</td>\n",
       "      <td>16028.0</td>\n",
       "      <td>1.0</td>\n",
       "      <td>482.0</td>\n",
       "      <td>2.0</td>\n",
       "      <td>755.0</td>\n",
       "      <td>NaN</td>\n",
       "      <td>120370.37</td>\n",
       "      <td>3</td>\n",
       "      <td>3</td>\n",
       "      <td>2019</td>\n",
       "    </tr>\n",
       "    <tr>\n",
       "      <th>1</th>\n",
       "      <td>7</td>\n",
       "      <td>3350000</td>\n",
       "      <td>40.4</td>\n",
       "      <td>2018-12-04</td>\n",
       "      <td>1</td>\n",
       "      <td>NaN</td>\n",
       "      <td>11.0</td>\n",
       "      <td>18.6</td>\n",
       "      <td>1</td>\n",
       "      <td>False</td>\n",
       "      <td>...</td>\n",
       "      <td>18603.0</td>\n",
       "      <td>0.0</td>\n",
       "      <td>NaN</td>\n",
       "      <td>0.0</td>\n",
       "      <td>NaN</td>\n",
       "      <td>81.0</td>\n",
       "      <td>82920.79</td>\n",
       "      <td>1</td>\n",
       "      <td>12</td>\n",
       "      <td>2018</td>\n",
       "    </tr>\n",
       "    <tr>\n",
       "      <th>2</th>\n",
       "      <td>10</td>\n",
       "      <td>5196000</td>\n",
       "      <td>56.0</td>\n",
       "      <td>2015-08-20</td>\n",
       "      <td>2</td>\n",
       "      <td>NaN</td>\n",
       "      <td>5.0</td>\n",
       "      <td>34.3</td>\n",
       "      <td>4</td>\n",
       "      <td>False</td>\n",
       "      <td>...</td>\n",
       "      <td>13933.0</td>\n",
       "      <td>1.0</td>\n",
       "      <td>90.0</td>\n",
       "      <td>2.0</td>\n",
       "      <td>574.0</td>\n",
       "      <td>558.0</td>\n",
       "      <td>92785.71</td>\n",
       "      <td>3</td>\n",
       "      <td>8</td>\n",
       "      <td>2015</td>\n",
       "    </tr>\n",
       "    <tr>\n",
       "      <th>3</th>\n",
       "      <td>0</td>\n",
       "      <td>64900000</td>\n",
       "      <td>159.0</td>\n",
       "      <td>2015-07-24</td>\n",
       "      <td>3</td>\n",
       "      <td>NaN</td>\n",
       "      <td>14.0</td>\n",
       "      <td>NaN</td>\n",
       "      <td>9</td>\n",
       "      <td>False</td>\n",
       "      <td>...</td>\n",
       "      <td>6800.0</td>\n",
       "      <td>2.0</td>\n",
       "      <td>84.0</td>\n",
       "      <td>3.0</td>\n",
       "      <td>234.0</td>\n",
       "      <td>424.0</td>\n",
       "      <td>408176.10</td>\n",
       "      <td>4</td>\n",
       "      <td>7</td>\n",
       "      <td>2015</td>\n",
       "    </tr>\n",
       "    <tr>\n",
       "      <th>4</th>\n",
       "      <td>2</td>\n",
       "      <td>10000000</td>\n",
       "      <td>100.0</td>\n",
       "      <td>2018-06-19</td>\n",
       "      <td>2</td>\n",
       "      <td>3.03</td>\n",
       "      <td>14.0</td>\n",
       "      <td>32.0</td>\n",
       "      <td>13</td>\n",
       "      <td>False</td>\n",
       "      <td>...</td>\n",
       "      <td>8098.0</td>\n",
       "      <td>2.0</td>\n",
       "      <td>112.0</td>\n",
       "      <td>1.0</td>\n",
       "      <td>48.0</td>\n",
       "      <td>121.0</td>\n",
       "      <td>100000.00</td>\n",
       "      <td>1</td>\n",
       "      <td>6</td>\n",
       "      <td>2018</td>\n",
       "    </tr>\n",
       "  </tbody>\n",
       "</table>\n",
       "<p>5 rows × 26 columns</p>\n",
       "</div>"
      ],
      "text/plain": [
       "   total_images  last_price  total_area first_day_exposition  rooms  \\\n",
       "0            20    13000000       108.0           2019-03-07      3   \n",
       "1             7     3350000        40.4           2018-12-04      1   \n",
       "2            10     5196000        56.0           2015-08-20      2   \n",
       "3             0    64900000       159.0           2015-07-24      3   \n",
       "4             2    10000000       100.0           2018-06-19      2   \n",
       "\n",
       "   ceiling_height  floors_total  living_area  floor is_apartment  ...  \\\n",
       "0            2.70          16.0         51.0      8        False  ...   \n",
       "1             NaN          11.0         18.6      1        False  ...   \n",
       "2             NaN           5.0         34.3      4        False  ...   \n",
       "3             NaN          14.0          NaN      9        False  ...   \n",
       "4            3.03          14.0         32.0     13        False  ...   \n",
       "\n",
       "   cityCenters_nearest  parks_around3000  parks_nearest  ponds_around3000  \\\n",
       "0              16028.0               1.0          482.0               2.0   \n",
       "1              18603.0               0.0            NaN               0.0   \n",
       "2              13933.0               1.0           90.0               2.0   \n",
       "3               6800.0               2.0           84.0               3.0   \n",
       "4               8098.0               2.0          112.0               1.0   \n",
       "\n",
       "  ponds_nearest  days_exposition  cost_per_m^2  weekday  month  year  \n",
       "0         755.0              NaN     120370.37        3      3  2019  \n",
       "1           NaN             81.0      82920.79        1     12  2018  \n",
       "2         574.0            558.0      92785.71        3      8  2015  \n",
       "3         234.0            424.0     408176.10        4      7  2015  \n",
       "4          48.0            121.0     100000.00        1      6  2018  \n",
       "\n",
       "[5 rows x 26 columns]"
      ]
     },
     "execution_count": 44,
     "metadata": {},
     "output_type": "execute_result"
    }
   ],
   "source": [
    "data.head()"
   ]
  },
  {
   "cell_type": "markdown",
   "metadata": {},
   "source": [
    "#### Тип этажа квартиры (значения — «первый», «последний», «другой»)"
   ]
  },
  {
   "cell_type": "code",
   "execution_count": 45,
   "metadata": {},
   "outputs": [],
   "source": [
    "def function_floor(row):\n",
    "    floor = row['floor']\n",
    "    floors_total = row['floors_total']\n",
    "    \n",
    "    if floor == 1:\n",
    "        return \"первый\"\n",
    "    \n",
    "    if floors_total == floor:\n",
    "        return \"последний\"\n",
    "    \n",
    "    return \"другой\""
   ]
  },
  {
   "cell_type": "code",
   "execution_count": 46,
   "metadata": {},
   "outputs": [],
   "source": [
    "data['floor_type'] = data.apply(function_floor, axis = 1)"
   ]
  },
  {
   "cell_type": "code",
   "execution_count": 47,
   "metadata": {},
   "outputs": [
    {
     "data": {
      "text/html": [
       "<div>\n",
       "<style scoped>\n",
       "    .dataframe tbody tr th:only-of-type {\n",
       "        vertical-align: middle;\n",
       "    }\n",
       "\n",
       "    .dataframe tbody tr th {\n",
       "        vertical-align: top;\n",
       "    }\n",
       "\n",
       "    .dataframe thead th {\n",
       "        text-align: right;\n",
       "    }\n",
       "</style>\n",
       "<table border=\"1\" class=\"dataframe\">\n",
       "  <thead>\n",
       "    <tr style=\"text-align: right;\">\n",
       "      <th></th>\n",
       "      <th>total_images</th>\n",
       "      <th>last_price</th>\n",
       "      <th>total_area</th>\n",
       "      <th>first_day_exposition</th>\n",
       "      <th>rooms</th>\n",
       "      <th>ceiling_height</th>\n",
       "      <th>floors_total</th>\n",
       "      <th>living_area</th>\n",
       "      <th>floor</th>\n",
       "      <th>is_apartment</th>\n",
       "      <th>...</th>\n",
       "      <th>parks_around3000</th>\n",
       "      <th>parks_nearest</th>\n",
       "      <th>ponds_around3000</th>\n",
       "      <th>ponds_nearest</th>\n",
       "      <th>days_exposition</th>\n",
       "      <th>cost_per_m^2</th>\n",
       "      <th>weekday</th>\n",
       "      <th>month</th>\n",
       "      <th>year</th>\n",
       "      <th>floor_type</th>\n",
       "    </tr>\n",
       "  </thead>\n",
       "  <tbody>\n",
       "    <tr>\n",
       "      <th>0</th>\n",
       "      <td>20</td>\n",
       "      <td>13000000</td>\n",
       "      <td>108.0</td>\n",
       "      <td>2019-03-07</td>\n",
       "      <td>3</td>\n",
       "      <td>2.70</td>\n",
       "      <td>16.0</td>\n",
       "      <td>51.0</td>\n",
       "      <td>8</td>\n",
       "      <td>False</td>\n",
       "      <td>...</td>\n",
       "      <td>1.0</td>\n",
       "      <td>482.0</td>\n",
       "      <td>2.0</td>\n",
       "      <td>755.0</td>\n",
       "      <td>NaN</td>\n",
       "      <td>120370.37</td>\n",
       "      <td>3</td>\n",
       "      <td>3</td>\n",
       "      <td>2019</td>\n",
       "      <td>другой</td>\n",
       "    </tr>\n",
       "    <tr>\n",
       "      <th>1</th>\n",
       "      <td>7</td>\n",
       "      <td>3350000</td>\n",
       "      <td>40.4</td>\n",
       "      <td>2018-12-04</td>\n",
       "      <td>1</td>\n",
       "      <td>NaN</td>\n",
       "      <td>11.0</td>\n",
       "      <td>18.6</td>\n",
       "      <td>1</td>\n",
       "      <td>False</td>\n",
       "      <td>...</td>\n",
       "      <td>0.0</td>\n",
       "      <td>NaN</td>\n",
       "      <td>0.0</td>\n",
       "      <td>NaN</td>\n",
       "      <td>81.0</td>\n",
       "      <td>82920.79</td>\n",
       "      <td>1</td>\n",
       "      <td>12</td>\n",
       "      <td>2018</td>\n",
       "      <td>первый</td>\n",
       "    </tr>\n",
       "    <tr>\n",
       "      <th>2</th>\n",
       "      <td>10</td>\n",
       "      <td>5196000</td>\n",
       "      <td>56.0</td>\n",
       "      <td>2015-08-20</td>\n",
       "      <td>2</td>\n",
       "      <td>NaN</td>\n",
       "      <td>5.0</td>\n",
       "      <td>34.3</td>\n",
       "      <td>4</td>\n",
       "      <td>False</td>\n",
       "      <td>...</td>\n",
       "      <td>1.0</td>\n",
       "      <td>90.0</td>\n",
       "      <td>2.0</td>\n",
       "      <td>574.0</td>\n",
       "      <td>558.0</td>\n",
       "      <td>92785.71</td>\n",
       "      <td>3</td>\n",
       "      <td>8</td>\n",
       "      <td>2015</td>\n",
       "      <td>другой</td>\n",
       "    </tr>\n",
       "    <tr>\n",
       "      <th>3</th>\n",
       "      <td>0</td>\n",
       "      <td>64900000</td>\n",
       "      <td>159.0</td>\n",
       "      <td>2015-07-24</td>\n",
       "      <td>3</td>\n",
       "      <td>NaN</td>\n",
       "      <td>14.0</td>\n",
       "      <td>NaN</td>\n",
       "      <td>9</td>\n",
       "      <td>False</td>\n",
       "      <td>...</td>\n",
       "      <td>2.0</td>\n",
       "      <td>84.0</td>\n",
       "      <td>3.0</td>\n",
       "      <td>234.0</td>\n",
       "      <td>424.0</td>\n",
       "      <td>408176.10</td>\n",
       "      <td>4</td>\n",
       "      <td>7</td>\n",
       "      <td>2015</td>\n",
       "      <td>другой</td>\n",
       "    </tr>\n",
       "    <tr>\n",
       "      <th>4</th>\n",
       "      <td>2</td>\n",
       "      <td>10000000</td>\n",
       "      <td>100.0</td>\n",
       "      <td>2018-06-19</td>\n",
       "      <td>2</td>\n",
       "      <td>3.03</td>\n",
       "      <td>14.0</td>\n",
       "      <td>32.0</td>\n",
       "      <td>13</td>\n",
       "      <td>False</td>\n",
       "      <td>...</td>\n",
       "      <td>2.0</td>\n",
       "      <td>112.0</td>\n",
       "      <td>1.0</td>\n",
       "      <td>48.0</td>\n",
       "      <td>121.0</td>\n",
       "      <td>100000.00</td>\n",
       "      <td>1</td>\n",
       "      <td>6</td>\n",
       "      <td>2018</td>\n",
       "      <td>другой</td>\n",
       "    </tr>\n",
       "  </tbody>\n",
       "</table>\n",
       "<p>5 rows × 27 columns</p>\n",
       "</div>"
      ],
      "text/plain": [
       "   total_images  last_price  total_area first_day_exposition  rooms  \\\n",
       "0            20    13000000       108.0           2019-03-07      3   \n",
       "1             7     3350000        40.4           2018-12-04      1   \n",
       "2            10     5196000        56.0           2015-08-20      2   \n",
       "3             0    64900000       159.0           2015-07-24      3   \n",
       "4             2    10000000       100.0           2018-06-19      2   \n",
       "\n",
       "   ceiling_height  floors_total  living_area  floor is_apartment  ...  \\\n",
       "0            2.70          16.0         51.0      8        False  ...   \n",
       "1             NaN          11.0         18.6      1        False  ...   \n",
       "2             NaN           5.0         34.3      4        False  ...   \n",
       "3             NaN          14.0          NaN      9        False  ...   \n",
       "4            3.03          14.0         32.0     13        False  ...   \n",
       "\n",
       "   parks_around3000  parks_nearest  ponds_around3000  ponds_nearest  \\\n",
       "0               1.0          482.0               2.0          755.0   \n",
       "1               0.0            NaN               0.0            NaN   \n",
       "2               1.0           90.0               2.0          574.0   \n",
       "3               2.0           84.0               3.0          234.0   \n",
       "4               2.0          112.0               1.0           48.0   \n",
       "\n",
       "  days_exposition  cost_per_m^2  weekday  month  year  floor_type  \n",
       "0             NaN     120370.37        3      3  2019      другой  \n",
       "1            81.0      82920.79        1     12  2018      первый  \n",
       "2           558.0      92785.71        3      8  2015      другой  \n",
       "3           424.0     408176.10        4      7  2015      другой  \n",
       "4           121.0     100000.00        1      6  2018      другой  \n",
       "\n",
       "[5 rows x 27 columns]"
      ]
     },
     "execution_count": 47,
     "metadata": {},
     "output_type": "execute_result"
    }
   ],
   "source": [
    "data.head()"
   ]
  },
  {
   "cell_type": "markdown",
   "metadata": {},
   "source": [
    "#### Расстояние до центра города в километрах (переведённое из метров в километры и округлённое до целых значений)"
   ]
  },
  {
   "cell_type": "code",
   "execution_count": 48,
   "metadata": {},
   "outputs": [],
   "source": [
    "data['cityCenters_nearest_KM'] = data['cityCenters_nearest'] // 1000"
   ]
  },
  {
   "cell_type": "code",
   "execution_count": 49,
   "metadata": {
    "scrolled": true
   },
   "outputs": [
    {
     "data": {
      "text/html": [
       "<div>\n",
       "<style scoped>\n",
       "    .dataframe tbody tr th:only-of-type {\n",
       "        vertical-align: middle;\n",
       "    }\n",
       "\n",
       "    .dataframe tbody tr th {\n",
       "        vertical-align: top;\n",
       "    }\n",
       "\n",
       "    .dataframe thead th {\n",
       "        text-align: right;\n",
       "    }\n",
       "</style>\n",
       "<table border=\"1\" class=\"dataframe\">\n",
       "  <thead>\n",
       "    <tr style=\"text-align: right;\">\n",
       "      <th></th>\n",
       "      <th>total_images</th>\n",
       "      <th>last_price</th>\n",
       "      <th>total_area</th>\n",
       "      <th>first_day_exposition</th>\n",
       "      <th>rooms</th>\n",
       "      <th>ceiling_height</th>\n",
       "      <th>floors_total</th>\n",
       "      <th>living_area</th>\n",
       "      <th>floor</th>\n",
       "      <th>is_apartment</th>\n",
       "      <th>...</th>\n",
       "      <th>parks_nearest</th>\n",
       "      <th>ponds_around3000</th>\n",
       "      <th>ponds_nearest</th>\n",
       "      <th>days_exposition</th>\n",
       "      <th>cost_per_m^2</th>\n",
       "      <th>weekday</th>\n",
       "      <th>month</th>\n",
       "      <th>year</th>\n",
       "      <th>floor_type</th>\n",
       "      <th>cityCenters_nearest_KM</th>\n",
       "    </tr>\n",
       "  </thead>\n",
       "  <tbody>\n",
       "    <tr>\n",
       "      <th>0</th>\n",
       "      <td>20</td>\n",
       "      <td>13000000</td>\n",
       "      <td>108.0</td>\n",
       "      <td>2019-03-07</td>\n",
       "      <td>3</td>\n",
       "      <td>2.70</td>\n",
       "      <td>16.0</td>\n",
       "      <td>51.0</td>\n",
       "      <td>8</td>\n",
       "      <td>False</td>\n",
       "      <td>...</td>\n",
       "      <td>482.0</td>\n",
       "      <td>2.0</td>\n",
       "      <td>755.0</td>\n",
       "      <td>NaN</td>\n",
       "      <td>120370.37</td>\n",
       "      <td>3</td>\n",
       "      <td>3</td>\n",
       "      <td>2019</td>\n",
       "      <td>другой</td>\n",
       "      <td>16.0</td>\n",
       "    </tr>\n",
       "    <tr>\n",
       "      <th>1</th>\n",
       "      <td>7</td>\n",
       "      <td>3350000</td>\n",
       "      <td>40.4</td>\n",
       "      <td>2018-12-04</td>\n",
       "      <td>1</td>\n",
       "      <td>NaN</td>\n",
       "      <td>11.0</td>\n",
       "      <td>18.6</td>\n",
       "      <td>1</td>\n",
       "      <td>False</td>\n",
       "      <td>...</td>\n",
       "      <td>NaN</td>\n",
       "      <td>0.0</td>\n",
       "      <td>NaN</td>\n",
       "      <td>81.0</td>\n",
       "      <td>82920.79</td>\n",
       "      <td>1</td>\n",
       "      <td>12</td>\n",
       "      <td>2018</td>\n",
       "      <td>первый</td>\n",
       "      <td>18.0</td>\n",
       "    </tr>\n",
       "    <tr>\n",
       "      <th>2</th>\n",
       "      <td>10</td>\n",
       "      <td>5196000</td>\n",
       "      <td>56.0</td>\n",
       "      <td>2015-08-20</td>\n",
       "      <td>2</td>\n",
       "      <td>NaN</td>\n",
       "      <td>5.0</td>\n",
       "      <td>34.3</td>\n",
       "      <td>4</td>\n",
       "      <td>False</td>\n",
       "      <td>...</td>\n",
       "      <td>90.0</td>\n",
       "      <td>2.0</td>\n",
       "      <td>574.0</td>\n",
       "      <td>558.0</td>\n",
       "      <td>92785.71</td>\n",
       "      <td>3</td>\n",
       "      <td>8</td>\n",
       "      <td>2015</td>\n",
       "      <td>другой</td>\n",
       "      <td>13.0</td>\n",
       "    </tr>\n",
       "    <tr>\n",
       "      <th>3</th>\n",
       "      <td>0</td>\n",
       "      <td>64900000</td>\n",
       "      <td>159.0</td>\n",
       "      <td>2015-07-24</td>\n",
       "      <td>3</td>\n",
       "      <td>NaN</td>\n",
       "      <td>14.0</td>\n",
       "      <td>NaN</td>\n",
       "      <td>9</td>\n",
       "      <td>False</td>\n",
       "      <td>...</td>\n",
       "      <td>84.0</td>\n",
       "      <td>3.0</td>\n",
       "      <td>234.0</td>\n",
       "      <td>424.0</td>\n",
       "      <td>408176.10</td>\n",
       "      <td>4</td>\n",
       "      <td>7</td>\n",
       "      <td>2015</td>\n",
       "      <td>другой</td>\n",
       "      <td>6.0</td>\n",
       "    </tr>\n",
       "    <tr>\n",
       "      <th>4</th>\n",
       "      <td>2</td>\n",
       "      <td>10000000</td>\n",
       "      <td>100.0</td>\n",
       "      <td>2018-06-19</td>\n",
       "      <td>2</td>\n",
       "      <td>3.03</td>\n",
       "      <td>14.0</td>\n",
       "      <td>32.0</td>\n",
       "      <td>13</td>\n",
       "      <td>False</td>\n",
       "      <td>...</td>\n",
       "      <td>112.0</td>\n",
       "      <td>1.0</td>\n",
       "      <td>48.0</td>\n",
       "      <td>121.0</td>\n",
       "      <td>100000.00</td>\n",
       "      <td>1</td>\n",
       "      <td>6</td>\n",
       "      <td>2018</td>\n",
       "      <td>другой</td>\n",
       "      <td>8.0</td>\n",
       "    </tr>\n",
       "  </tbody>\n",
       "</table>\n",
       "<p>5 rows × 28 columns</p>\n",
       "</div>"
      ],
      "text/plain": [
       "   total_images  last_price  total_area first_day_exposition  rooms  \\\n",
       "0            20    13000000       108.0           2019-03-07      3   \n",
       "1             7     3350000        40.4           2018-12-04      1   \n",
       "2            10     5196000        56.0           2015-08-20      2   \n",
       "3             0    64900000       159.0           2015-07-24      3   \n",
       "4             2    10000000       100.0           2018-06-19      2   \n",
       "\n",
       "   ceiling_height  floors_total  living_area  floor is_apartment  ...  \\\n",
       "0            2.70          16.0         51.0      8        False  ...   \n",
       "1             NaN          11.0         18.6      1        False  ...   \n",
       "2             NaN           5.0         34.3      4        False  ...   \n",
       "3             NaN          14.0          NaN      9        False  ...   \n",
       "4            3.03          14.0         32.0     13        False  ...   \n",
       "\n",
       "   parks_nearest  ponds_around3000  ponds_nearest  days_exposition  \\\n",
       "0          482.0               2.0          755.0              NaN   \n",
       "1            NaN               0.0            NaN             81.0   \n",
       "2           90.0               2.0          574.0            558.0   \n",
       "3           84.0               3.0          234.0            424.0   \n",
       "4          112.0               1.0           48.0            121.0   \n",
       "\n",
       "  cost_per_m^2  weekday  month  year  floor_type  cityCenters_nearest_KM  \n",
       "0    120370.37        3      3  2019      другой                    16.0  \n",
       "1     82920.79        1     12  2018      первый                    18.0  \n",
       "2     92785.71        3      8  2015      другой                    13.0  \n",
       "3    408176.10        4      7  2015      другой                     6.0  \n",
       "4    100000.00        1      6  2018      другой                     8.0  \n",
       "\n",
       "[5 rows x 28 columns]"
      ]
     },
     "execution_count": 49,
     "metadata": {},
     "output_type": "execute_result"
    }
   ],
   "source": [
    "data.head()"
   ]
  },
  {
   "cell_type": "markdown",
   "metadata": {},
   "source": [
    "### Проведём исследовательский анализ данных"
   ]
  },
  {
   "cell_type": "markdown",
   "metadata": {},
   "source": [
    "#### Построим и изучим гистограммы "
   ]
  },
  {
   "cell_type": "markdown",
   "metadata": {},
   "source": [
    "\n",
    "- общая площадь;\n",
    "- жилая площадь;\n",
    "- площадь кухни;\n",
    "- цена объекта;\n",
    "- количество комнат;\n",
    "- высота потолков;\n",
    "- этаж квартиры;\n",
    "- тип этажа квартиры («первый», «последний», «другой»);\n",
    "- общее количество этажей в доме;\n",
    "- расстояние до центра города в метрах;\n",
    "- расстояние до ближайшего аэропорта;\n",
    "- расстояние до ближайшего парка;\n",
    "- день и месяц публикации объявления.\n",
    "\n",
    "Построим отдельные гистограммы для каждого из этих параметров. Опишем все наблюдения по параметрам."
   ]
  },
  {
   "cell_type": "markdown",
   "metadata": {},
   "source": [
    "**Общая площадь**"
   ]
  },
  {
   "cell_type": "code",
   "execution_count": 50,
   "metadata": {},
   "outputs": [
    {
     "data": {
      "text/plain": [
       "<AxesSubplot:>"
      ]
     },
     "execution_count": 50,
     "metadata": {},
     "output_type": "execute_result"
    },
    {
     "data": {
      "image/png": "[encoded data removed]",
      "text/plain": [
       "<Figure size 432x288 with 1 Axes>"
      ]
     },
     "metadata": {
      "needs_background": "light"
     },
     "output_type": "display_data"
    }
   ],
   "source": [
    "data['total_area'].hist(bins=50, range=(0, 400))"
   ]
  },
  {
   "cell_type": "markdown",
   "metadata": {},
   "source": [
    "**Наблюдения**"
   ]
  },
  {
   "cell_type": "markdown",
   "metadata": {},
   "source": [
    "Большинство квартир около 40-90 м^2. Также встречаются большие квартиры по 300, 400, 600 и даже 900 квадратных метров."
   ]
  },
  {
   "cell_type": "markdown",
   "metadata": {},
   "source": [
    "**Жилая площадь**"
   ]
  },
  {
   "cell_type": "code",
   "execution_count": 51,
   "metadata": {},
   "outputs": [
    {
     "data": {
      "text/plain": [
       "<AxesSubplot:>"
      ]
     },
     "execution_count": 51,
     "metadata": {},
     "output_type": "execute_result"
    },
    {
     "data": {
      "image/png": "[encoded data removed]",
      "text/plain": [
       "<Figure size 432x288 with 1 Axes>"
      ]
     },
     "metadata": {
      "needs_background": "light"
     },
     "output_type": "display_data"
    }
   ],
   "source": [
    "data['living_area'].hist(bins=40, range=(0,200))"
   ]
  },
  {
   "cell_type": "markdown",
   "metadata": {},
   "source": [
    "**Наблюдения**"
   ]
  },
  {
   "cell_type": "markdown",
   "metadata": {},
   "source": [
    "Пик приходится примерно на 30-35 м^2. Максимальная 409 квадратных метров. Но при этом есть второй пик на уровне в 15-20 метров."
   ]
  },
  {
   "cell_type": "markdown",
   "metadata": {},
   "source": [
    "**Площадь кухни**"
   ]
  },
  {
   "cell_type": "code",
   "execution_count": 52,
   "metadata": {},
   "outputs": [
    {
     "data": {
      "text/plain": [
       "<AxesSubplot:>"
      ]
     },
     "execution_count": 52,
     "metadata": {},
     "output_type": "execute_result"
    },
    {
     "data": {
      "image/png": "[encoded data removed]",
      "text/plain": [
       "<Figure size 432x288 with 1 Axes>"
      ]
     },
     "metadata": {
      "needs_background": "light"
     },
     "output_type": "display_data"
    }
   ],
   "source": [
    "data['kitchen_area'].hist(bins=50, range=(0, 60))"
   ]
  },
  {
   "cell_type": "markdown",
   "metadata": {},
   "source": [
    "**Наблюдения**"
   ]
  },
  {
   "cell_type": "markdown",
   "metadata": {},
   "source": [
    "Пик приходится на значения от 6 до 11 метров. Есть и большие кухни в 40, 55 метров."
   ]
  },
  {
   "cell_type": "markdown",
   "metadata": {},
   "source": [
    "**Цена объекта**"
   ]
  },
  {
   "cell_type": "code",
   "execution_count": 53,
   "metadata": {},
   "outputs": [
    {
     "data": {
      "text/plain": [
       "<AxesSubplot:>"
      ]
     },
     "execution_count": 53,
     "metadata": {},
     "output_type": "execute_result"
    },
    {
     "data": {
      "image/png": "[encoded data removed]",
      "text/plain": [
       "<Figure size 432x288 with 1 Axes>"
      ]
     },
     "metadata": {
      "needs_background": "light"
     },
     "output_type": "display_data"
    }
   ],
   "source": [
    "data['last_price'].hist(bins=50, range=(1000000, 50000000))"
   ]
  },
  {
   "cell_type": "code",
   "execution_count": 54,
   "metadata": {},
   "outputs": [
    {
     "data": {
      "text/plain": [
       "4600000.0"
      ]
     },
     "execution_count": 54,
     "metadata": {},
     "output_type": "execute_result"
    }
   ],
   "source": [
    "data['last_price'].median()"
   ]
  },
  {
   "cell_type": "code",
   "execution_count": 55,
   "metadata": {},
   "outputs": [
    {
     "data": {
      "text/plain": [
       "6480258.746941238"
      ]
     },
     "execution_count": 55,
     "metadata": {},
     "output_type": "execute_result"
    }
   ],
   "source": [
    "data['last_price'].mean()"
   ]
  },
  {
   "cell_type": "markdown",
   "metadata": {},
   "source": [
    "**Наблюдения**"
   ]
  },
  {
   "cell_type": "markdown",
   "metadata": {},
   "source": [
    "Не смог подобрать удобные для просмотра значения, поэтому рассчитал медиану и среднее. По гистограмме видно, что есть пик в районе 3 - 5 миллионов, но есть и квартиры сило дороже, которые здесь можно назвать выбросами, из-за чего среднее сильно и поднимается."
   ]
  },
  {
   "cell_type": "markdown",
   "metadata": {},
   "source": [
    "**Количество комнат**"
   ]
  },
  {
   "cell_type": "code",
   "execution_count": 56,
   "metadata": {},
   "outputs": [
    {
     "data": {
      "text/plain": [
       "<AxesSubplot:>"
      ]
     },
     "execution_count": 56,
     "metadata": {},
     "output_type": "execute_result"
    },
    {
     "data": {
      "image/png": "[encoded data removed]",
      "text/plain": [
       "<Figure size 432x288 with 1 Axes>"
      ]
     },
     "metadata": {
      "needs_background": "light"
     },
     "output_type": "display_data"
    }
   ],
   "source": [
    "data['rooms'].hist(bins=50, range=(0, 16))"
   ]
  },
  {
   "cell_type": "code",
   "execution_count": 57,
   "metadata": {},
   "outputs": [
    {
     "data": {
      "text/plain": [
       "19"
      ]
     },
     "execution_count": 57,
     "metadata": {},
     "output_type": "execute_result"
    }
   ],
   "source": [
    "data['rooms'].max()"
   ]
  },
  {
   "cell_type": "markdown",
   "metadata": {},
   "source": [
    "**Наблюдения**"
   ]
  },
  {
   "cell_type": "markdown",
   "metadata": {},
   "source": [
    "Основная масса квартир однокомнатные, двухкомнатные или трёхкомнатные. Самая большая - 16-ти комнатная квартира."
   ]
  },
  {
   "cell_type": "markdown",
   "metadata": {},
   "source": [
    "**Высота потолков**"
   ]
  },
  {
   "cell_type": "code",
   "execution_count": 58,
   "metadata": {},
   "outputs": [
    {
     "data": {
      "text/plain": [
       "<AxesSubplot:>"
      ]
     },
     "execution_count": 58,
     "metadata": {},
     "output_type": "execute_result"
    },
    {
     "data": {
      "image/png": "[encoded data removed]",
      "text/plain": [
       "<Figure size 432x288 with 1 Axes>"
      ]
     },
     "metadata": {
      "needs_background": "light"
     },
     "output_type": "display_data"
    }
   ],
   "source": [
    "data['ceiling_height'].hist(bins=50, range=(2, 11))"
   ]
  },
  {
   "cell_type": "markdown",
   "metadata": {},
   "source": [
    "**Наблюдения**"
   ]
  },
  {
   "cell_type": "markdown",
   "metadata": {},
   "source": [
    "Из предобработки мы помним значение медианы, а теперь и видим его на гистограмме - 2.65 метра - средняя высота потолков."
   ]
  },
  {
   "cell_type": "markdown",
   "metadata": {},
   "source": [
    "**Этаж квартиры**"
   ]
  },
  {
   "cell_type": "code",
   "execution_count": 59,
   "metadata": {},
   "outputs": [
    {
     "data": {
      "text/plain": [
       "<AxesSubplot:>"
      ]
     },
     "execution_count": 59,
     "metadata": {},
     "output_type": "execute_result"
    },
    {
     "data": {
      "image/png": "[encoded data removed]",
      "text/plain": [
       "<Figure size 432x288 with 1 Axes>"
      ]
     },
     "metadata": {
      "needs_background": "light"
     },
     "output_type": "display_data"
    }
   ],
   "source": [
    "data['floor'].hist(bins=20, range=(1, 30))"
   ]
  },
  {
   "cell_type": "code",
   "execution_count": 60,
   "metadata": {},
   "outputs": [
    {
     "data": {
      "text/plain": [
       "33"
      ]
     },
     "execution_count": 60,
     "metadata": {},
     "output_type": "execute_result"
    }
   ],
   "source": [
    "data['floor'].max()"
   ]
  },
  {
   "cell_type": "markdown",
   "metadata": {},
   "source": [
    "**Наблюдения**"
   ]
  },
  {
   "cell_type": "markdown",
   "metadata": {},
   "source": [
    "Так как не все дома многоэтажные, пик приходится на 2-5 этажи. А дальше почти чем выше этаж, тем реже встречается. 7-8-ых этажей еще чуть больше, чем остальных соседних. Проверили максимальное значение этажа, чтобы выставить `range` комфортнее."
   ]
  },
  {
   "cell_type": "markdown",
   "metadata": {},
   "source": [
    "**Тип этажа квартиры («первый», «последний», «другой»)**"
   ]
  },
  {
   "cell_type": "code",
   "execution_count": 61,
   "metadata": {},
   "outputs": [
    {
     "data": {
      "text/plain": [
       "<AxesSubplot:>"
      ]
     },
     "execution_count": 61,
     "metadata": {},
     "output_type": "execute_result"
    },
    {
     "data": {
      "image/png": "[encoded data removed]",
      "text/plain": [
       "<Figure size 432x288 with 1 Axes>"
      ]
     },
     "metadata": {
      "needs_background": "light"
     },
     "output_type": "display_data"
    }
   ],
   "source": [
    "data['floor_type'].hist(bins=30)"
   ]
  },
  {
   "cell_type": "markdown",
   "metadata": {},
   "source": [
    "**Наблюдения**"
   ]
  },
  {
   "cell_type": "markdown",
   "metadata": {},
   "source": [
    "Первые и последние этажи встречаются довольно редко."
   ]
  },
  {
   "cell_type": "markdown",
   "metadata": {},
   "source": [
    "**Общее количество этажей в доме**"
   ]
  },
  {
   "cell_type": "code",
   "execution_count": 62,
   "metadata": {},
   "outputs": [
    {
     "data": {
      "text/plain": [
       "<AxesSubplot:>"
      ]
     },
     "execution_count": 62,
     "metadata": {},
     "output_type": "execute_result"
    },
    {
     "data": {
      "image/png": "[encoded data removed]",
      "text/plain": [
       "<Figure size 432x288 with 1 Axes>"
      ]
     },
     "metadata": {
      "needs_background": "light"
     },
     "output_type": "display_data"
    }
   ],
   "source": [
    "data['floors_total'].hist(bins=50, range=(1, 40))"
   ]
  },
  {
   "cell_type": "markdown",
   "metadata": {},
   "source": [
    "**Наблюдения**"
   ]
  },
  {
   "cell_type": "markdown",
   "metadata": {},
   "source": [
    "Не удивительно, что пяти и девятиэтажек больше всего."
   ]
  },
  {
   "cell_type": "markdown",
   "metadata": {},
   "source": [
    "**Расстояние до центра города в метрах**"
   ]
  },
  {
   "cell_type": "code",
   "execution_count": 63,
   "metadata": {},
   "outputs": [
    {
     "data": {
      "text/plain": [
       "<AxesSubplot:>"
      ]
     },
     "execution_count": 63,
     "metadata": {},
     "output_type": "execute_result"
    },
    {
     "data": {
      "image/png": "[encoded data removed]",
      "text/plain": [
       "<Figure size 432x288 with 1 Axes>"
      ]
     },
     "metadata": {
      "needs_background": "light"
     },
     "output_type": "display_data"
    }
   ],
   "source": [
    "data['cityCenters_nearest'].hist(bins=50, range=(0, 70000))"
   ]
  },
  {
   "cell_type": "markdown",
   "metadata": {},
   "source": [
    "**Наблюдения**"
   ]
  },
  {
   "cell_type": "markdown",
   "metadata": {},
   "source": [
    "В основном центр находится в пределах 18 км. Чаще всего это 11-15 километров."
   ]
  },
  {
   "cell_type": "markdown",
   "metadata": {},
   "source": [
    "**Расстояние до ближайшего аэропорта**"
   ]
  },
  {
   "cell_type": "code",
   "execution_count": 64,
   "metadata": {},
   "outputs": [
    {
     "data": {
      "text/plain": [
       "<AxesSubplot:>"
      ]
     },
     "execution_count": 64,
     "metadata": {},
     "output_type": "execute_result"
    },
    {
     "data": {
      "image/png": "[encoded data removed]",
      "text/plain": [
       "<Figure size 432x288 with 1 Axes>"
      ]
     },
     "metadata": {
      "needs_background": "light"
     },
     "output_type": "display_data"
    }
   ],
   "source": [
    "data['airports_nearest'].hist(bins=20, range=(100, 80000))"
   ]
  },
  {
   "cell_type": "markdown",
   "metadata": {},
   "source": [
    "**Наблюдения**"
   ]
  },
  {
   "cell_type": "markdown",
   "metadata": {},
   "source": [
    "Аэропорт находится далеко. Это и не так плохо, не будет большого потока машин и шума от самолетов. Точного пика на гистограмме нет, но большая часть значений приходятся на 13000-40000 метров."
   ]
  },
  {
   "cell_type": "markdown",
   "metadata": {},
   "source": [
    "**Расстояние до ближайшего парка**"
   ]
  },
  {
   "cell_type": "code",
   "execution_count": 65,
   "metadata": {},
   "outputs": [
    {
     "data": {
      "image/png": "[encoded data removed]",
      "text/plain": [
       "<Figure size 432x288 with 1 Axes>"
      ]
     },
     "metadata": {
      "needs_background": "light"
     },
     "output_type": "display_data"
    }
   ],
   "source": [
    "data['parks_nearest'].hist(bins=50)\n",
    "plt.show();"
   ]
  },
  {
   "cell_type": "markdown",
   "metadata": {},
   "source": [
    "**Наблюдения**"
   ]
  },
  {
   "cell_type": "markdown",
   "metadata": {},
   "source": [
    "А вот парки как раз находятся недалеко! У многих они прям рядом с домом, но всё же большинству придется пройтись до парка около 500 метров."
   ]
  },
  {
   "cell_type": "markdown",
   "metadata": {},
   "source": [
    "**Месяц публикации объявления**"
   ]
  },
  {
   "cell_type": "code",
   "execution_count": 66,
   "metadata": {},
   "outputs": [
    {
     "data": {
      "image/png": "[encoded data removed]",
      "text/plain": [
       "<Figure size 432x288 with 1 Axes>"
      ]
     },
     "metadata": {
      "needs_background": "light"
     },
     "output_type": "display_data"
    }
   ],
   "source": [
    "data['month'].hist(bins=20)\n",
    "plt.show();"
   ]
  },
  {
   "cell_type": "markdown",
   "metadata": {},
   "source": [
    "**Наблюдения**"
   ]
  },
  {
   "cell_type": "markdown",
   "metadata": {},
   "source": [
    "Явной зависимости от месяца выставления в продажу нет. Однако всё же чаще это делали после нового года в феврали и марте."
   ]
  },
  {
   "cell_type": "markdown",
   "metadata": {},
   "source": [
    "**День публикации объявления**"
   ]
  },
  {
   "cell_type": "code",
   "execution_count": 67,
   "metadata": {},
   "outputs": [
    {
     "data": {
      "image/png": "[encoded data removed]",
      "text/plain": [
       "<Figure size 432x288 with 1 Axes>"
      ]
     },
     "metadata": {
      "needs_background": "light"
     },
     "output_type": "display_data"
    }
   ],
   "source": [
    "data['weekday'].hist(bins=30)\n",
    "plt.show();"
   ]
  },
  {
   "cell_type": "markdown",
   "metadata": {},
   "source": [
    "**Наблюдения**"
   ]
  },
  {
   "cell_type": "markdown",
   "metadata": {},
   "source": [
    "Из этой гистограммы четко видно, что в рабочие дни люди, неудивительно, работают больше. На выходных гораздо реже выставляли квартиры на продажу."
   ]
  },
  {
   "cell_type": "markdown",
   "metadata": {},
   "source": [
    "#### Изучим, как быстро продавались квартиры. Посмотрим, сколько дней было размещено каждое объявление."
   ]
  },
  {
   "cell_type": "markdown",
   "metadata": {},
   "source": [
    "**Построим гистограмму**"
   ]
  },
  {
   "cell_type": "code",
   "execution_count": 93,
   "metadata": {},
   "outputs": [
    {
     "data": {
      "image/png": "[encoded data removed]",
      "text/plain": [
       "<Figure size 576x432 with 1 Axes>"
      ]
     },
     "metadata": {
      "needs_background": "light"
     },
     "output_type": "display_data"
    }
   ],
   "source": [
    "data['days_exposition'].hist(bins=100, range=(0, 100), figsize=(8, 6))\n",
    "plt.show();"
   ]
  },
  {
   "cell_type": "code",
   "execution_count": 69,
   "metadata": {},
   "outputs": [
    {
     "data": {
      "text/plain": [
       "95.0"
      ]
     },
     "execution_count": 69,
     "metadata": {},
     "output_type": "execute_result"
    }
   ],
   "source": [
    "data['days_exposition'].median()"
   ]
  },
  {
   "cell_type": "code",
   "execution_count": 70,
   "metadata": {},
   "outputs": [
    {
     "data": {
      "text/plain": [
       "count    20126.000000\n",
       "mean       180.838468\n",
       "std        219.835848\n",
       "min          1.000000\n",
       "25%         45.000000\n",
       "50%         95.000000\n",
       "75%        232.000000\n",
       "max       1580.000000\n",
       "Name: days_exposition, dtype: float64"
      ]
     },
     "execution_count": 70,
     "metadata": {},
     "output_type": "execute_result"
    }
   ],
   "source": [
    "data['days_exposition'].describe()"
   ]
  },
  {
   "cell_type": "markdown",
   "metadata": {},
   "source": [
    "**Наблюдения**\n",
    "\n",
    "Рассчитав медиану и посмотрев на гистограмму, мы видим, что обычно продажа занимает чуть больше 3-ёх месяцев, медианное значение равно 103 дням. Данные на графике показывает, что существуют продажи, осуществляемые намного дольше среднего. \n",
    "\n",
    "*Быстрыми продажами* будем считать те, которые меньше медианного значения или равны ему. *Необычно долгими* - продажи более 600 дней,это больше полутора лет! На гистограмме таких значений совсем мало, из чего можно смело выделить именно эту границу. \n",
    "\n",
    "Можем предположить, что с объявлениями тех квартир, которые продавались необычно долго, что-то не так. Возможно, была завышена цена, или же квартира не подходила под основные запросы пользователей, была \"на любителя\"."
   ]
  },
  {
   "cell_type": "markdown",
   "metadata": {},
   "source": [
    "#### Какие факторы больше всего влияют на общую (полную) стоимость объекта?"
   ]
  },
  {
   "cell_type": "markdown",
   "metadata": {},
   "source": [
    "**Изучим, зависит ли цена от:**\n",
    "\n",
    "**Общей площади**"
   ]
  },
  {
   "cell_type": "code",
   "execution_count": 71,
   "metadata": {},
   "outputs": [
    {
     "data": {
      "image/png": "[encoded data removed]",
      "text/plain": [
       "<Figure size 648x504 with 1 Axes>"
      ]
     },
     "metadata": {
      "needs_background": "light"
     },
     "output_type": "display_data"
    }
   ],
   "source": [
    "data.sort_values('total_area').plot(x='total_area', y='last_price', kind='scatter', figsize=(9, 7))\n",
    "plt.show();"
   ]
  },
  {
   "cell_type": "markdown",
   "metadata": {},
   "source": [
    "**Корреляция Пирсона**"
   ]
  },
  {
   "cell_type": "code",
   "execution_count": 72,
   "metadata": {},
   "outputs": [
    {
     "data": {
      "text/plain": [
       "0.650833011138003"
      ]
     },
     "execution_count": 72,
     "metadata": {},
     "output_type": "execute_result"
    }
   ],
   "source": [
    "data['total_area'].corr(data['last_price'])"
   ]
  },
  {
   "cell_type": "markdown",
   "metadata": {},
   "source": [
    "**Вывод**\n",
    "\n",
    "Корреляция положительная и довольно большая. Цена однозначно зависит от площади. "
   ]
  },
  {
   "cell_type": "markdown",
   "metadata": {},
   "source": [
    "**Жилой площади**"
   ]
  },
  {
   "cell_type": "code",
   "execution_count": 73,
   "metadata": {},
   "outputs": [
    {
     "data": {
      "image/png": "[encoded data removed]",
      "text/plain": [
       "<Figure size 648x504 with 1 Axes>"
      ]
     },
     "metadata": {
      "needs_background": "light"
     },
     "output_type": "display_data"
    }
   ],
   "source": [
    "data.sort_values('living_area').plot(x='living_area', y='last_price', kind='scatter', figsize=(9, 7))\n",
    "plt.show();"
   ]
  },
  {
   "cell_type": "markdown",
   "metadata": {},
   "source": [
    "**Корреляция Пирсона**"
   ]
  },
  {
   "cell_type": "code",
   "execution_count": 74,
   "metadata": {},
   "outputs": [
    {
     "data": {
      "text/plain": [
       "0.5641698836652032"
      ]
     },
     "execution_count": 74,
     "metadata": {},
     "output_type": "execute_result"
    }
   ],
   "source": [
    "data['living_area'].corr(data['last_price'])"
   ]
  },
  {
   "cell_type": "markdown",
   "metadata": {},
   "source": [
    "**Вывод**\n",
    "\n",
    "Корреляция положительная и средняя. Цена зависит от жилой площади, но всё же меньше, чем от общей."
   ]
  },
  {
   "cell_type": "markdown",
   "metadata": {},
   "source": [
    "**Площади кухни**"
   ]
  },
  {
   "cell_type": "code",
   "execution_count": 75,
   "metadata": {},
   "outputs": [
    {
     "data": {
      "image/png": "[encoded data removed]",
      "text/plain": [
       "<Figure size 648x504 with 1 Axes>"
      ]
     },
     "metadata": {
      "needs_background": "light"
     },
     "output_type": "display_data"
    }
   ],
   "source": [
    "data.sort_values('kitchen_area').plot(x='kitchen_area', y='last_price', kind='scatter', figsize=(9, 7))\n",
    "plt.show();"
   ]
  },
  {
   "cell_type": "markdown",
   "metadata": {},
   "source": [
    "**Корреляция Пирсона**"
   ]
  },
  {
   "cell_type": "code",
   "execution_count": 76,
   "metadata": {},
   "outputs": [
    {
     "data": {
      "text/plain": [
       "0.5194812715872276"
      ]
     },
     "execution_count": 76,
     "metadata": {},
     "output_type": "execute_result"
    }
   ],
   "source": [
    "data['kitchen_area'].corr(data['last_price'])"
   ]
  },
  {
   "cell_type": "markdown",
   "metadata": {},
   "source": [
    "**Вывод**\n",
    "\n",
    "Contrl+C Contrl+V. Корреляция положительная и средняя. Цена зависит от кухонной площади, но всё же меньше, чем от общей."
   ]
  },
  {
   "cell_type": "markdown",
   "metadata": {},
   "source": [
    "**Количества комнат**"
   ]
  },
  {
   "cell_type": "code",
   "execution_count": 77,
   "metadata": {},
   "outputs": [
    {
     "data": {
      "image/png": "[encoded data removed]",
      "text/plain": [
       "<Figure size 648x504 with 1 Axes>"
      ]
     },
     "metadata": {
      "needs_background": "light"
     },
     "output_type": "display_data"
    }
   ],
   "source": [
    "data.sort_values('rooms').plot(x='rooms', y='last_price', kind='scatter', figsize=(9, 7))\n",
    "plt.show();"
   ]
  },
  {
   "cell_type": "code",
   "execution_count": 78,
   "metadata": {},
   "outputs": [
    {
     "data": {
      "image/png": "[encoded data removed]",
      "text/plain": [
       "<Figure size 432x288 with 1 Axes>"
      ]
     },
     "metadata": {
      "needs_background": "light"
     },
     "output_type": "display_data"
    }
   ],
   "source": [
    "data.groupby('rooms')['last_price'].median().plot()\n",
    "plt.show();"
   ]
  },
  {
   "cell_type": "markdown",
   "metadata": {},
   "source": [
    "**Корреляция Пирсона**"
   ]
  },
  {
   "cell_type": "code",
   "execution_count": 79,
   "metadata": {},
   "outputs": [
    {
     "data": {
      "text/plain": [
       "0.3611108463901413"
      ]
     },
     "execution_count": 79,
     "metadata": {},
     "output_type": "execute_result"
    }
   ],
   "source": [
    "data['rooms'].corr(data['last_price'])"
   ]
  },
  {
   "cell_type": "markdown",
   "metadata": {},
   "source": [
    "**Вывод**\n",
    "\n",
    "Слабая корреляция. Цена мало зависит от количества комнат. 12-ти комнатная квартира здесь является выбросом. На нее не обращаем внимание, она такая одна."
   ]
  },
  {
   "cell_type": "markdown",
   "metadata": {},
   "source": [
    "**Этажа (\"первый\", \"другой\", \"последний\")**"
   ]
  },
  {
   "cell_type": "code",
   "execution_count": 80,
   "metadata": {},
   "outputs": [
    {
     "data": {
      "image/png": "[encoded data removed]",
      "text/plain": [
       "<Figure size 432x288 with 1 Axes>"
      ]
     },
     "metadata": {
      "needs_background": "light"
     },
     "output_type": "display_data"
    }
   ],
   "source": [
    "data.groupby('floor_type')['last_price'].median().plot(kind='bar')\n",
    "plt.show();"
   ]
  },
  {
   "cell_type": "markdown",
   "metadata": {},
   "source": [
    "**Вывод**\n",
    "\n",
    "Квартиры на первом этаже стоят дешевле, чем квартиры на последнем, а те в свою очередь дешевле, чем на \"других\". Такое может быть из-за того, что с первого этажа не открывается вид на бесконечный мир, а на последних иногда протекает крыша :("
   ]
  },
  {
   "cell_type": "markdown",
   "metadata": {},
   "source": [
    "**Дня недели размещения объявления**"
   ]
  },
  {
   "cell_type": "code",
   "execution_count": 81,
   "metadata": {},
   "outputs": [
    {
     "data": {
      "image/png": "[encoded data removed]",
      "text/plain": [
       "<Figure size 648x504 with 1 Axes>"
      ]
     },
     "metadata": {
      "needs_background": "light"
     },
     "output_type": "display_data"
    }
   ],
   "source": [
    "data.sort_values('weekday').plot(x='weekday', y='last_price', kind='scatter', figsize=(9, 7))\n",
    "plt.show();"
   ]
  },
  {
   "cell_type": "markdown",
   "metadata": {},
   "source": [
    "**Корреляция Пирсона**"
   ]
  },
  {
   "cell_type": "code",
   "execution_count": 82,
   "metadata": {},
   "outputs": [
    {
     "data": {
      "text/plain": [
       "0.0018751359229713385"
      ]
     },
     "execution_count": 82,
     "metadata": {},
     "output_type": "execute_result"
    }
   ],
   "source": [
    "data['weekday'].corr(data['last_price'])"
   ]
  },
  {
   "cell_type": "markdown",
   "metadata": {},
   "source": [
    "**Вывод**\n",
    "\n",
    "От дня недели цена не зависит. Не удивительно) Иначе бы все выкладывали в счастливые дни!"
   ]
  },
  {
   "cell_type": "markdown",
   "metadata": {},
   "source": [
    "**Месяца размещения объявления**"
   ]
  },
  {
   "cell_type": "code",
   "execution_count": 83,
   "metadata": {},
   "outputs": [
    {
     "data": {
      "image/png": "[encoded data removed]",
      "text/plain": [
       "<Figure size 648x504 with 1 Axes>"
      ]
     },
     "metadata": {
      "needs_background": "light"
     },
     "output_type": "display_data"
    }
   ],
   "source": [
    "data.sort_values('month').plot(x='month', y='last_price', kind='scatter', figsize=(9, 7))\n",
    "plt.show();"
   ]
  },
  {
   "cell_type": "markdown",
   "metadata": {},
   "source": [
    "**Корреляция Пирсона**"
   ]
  },
  {
   "cell_type": "code",
   "execution_count": 84,
   "metadata": {},
   "outputs": [
    {
     "data": {
      "text/plain": [
       "0.0013184287554615544"
      ]
     },
     "execution_count": 84,
     "metadata": {},
     "output_type": "execute_result"
    }
   ],
   "source": [
    "data['month'].corr(data['last_price'])"
   ]
  },
  {
   "cell_type": "markdown",
   "metadata": {},
   "source": [
    "**Вывод**\n",
    "\n",
    "И от месяца тоже цена не зависит. А вот я бы всё-таки выкладывал лучше летом, так фотки получатся более солнечными и привлекательными 🙂"
   ]
  },
  {
   "cell_type": "markdown",
   "metadata": {},
   "source": [
    "**Года размещения объявления**"
   ]
  },
  {
   "cell_type": "code",
   "execution_count": 85,
   "metadata": {},
   "outputs": [
    {
     "data": {
      "image/png": "[encoded data removed]",
      "text/plain": [
       "<Figure size 432x288 with 1 Axes>"
      ]
     },
     "metadata": {
      "needs_background": "light"
     },
     "output_type": "display_data"
    }
   ],
   "source": [
    "data.groupby('year')['last_price'].median().plot();"
   ]
  },
  {
   "cell_type": "markdown",
   "metadata": {},
   "source": [
    "**Корреляция Пирсона**"
   ]
  },
  {
   "cell_type": "code",
   "execution_count": 86,
   "metadata": {},
   "outputs": [
    {
     "data": {
      "text/plain": [
       "0.0013184287554615544"
      ]
     },
     "execution_count": 86,
     "metadata": {},
     "output_type": "execute_result"
    }
   ],
   "source": [
    "data['month'].corr(data['last_price'])"
   ]
  },
  {
   "cell_type": "markdown",
   "metadata": {},
   "source": [
    "**Вывод**\n",
    "\n",
    "От года цена не зависит."
   ]
  },
  {
   "cell_type": "markdown",
   "metadata": {},
   "source": [
    "**Общие наблюдения**\n",
    "\n",
    "Цена квартиры зависит от:\n",
    "- общей площади\n",
    "- кухонной и жилой площади\n",
    "- типа этажа\n",
    "- колчества комнат"
   ]
  },
  {
   "cell_type": "markdown",
   "metadata": {},
   "source": [
    "#### Посчитаем среднюю цену одного квадратного метра в 10 населённых пунктах с наибольшим числом объявлений"
   ]
  },
  {
   "cell_type": "markdown",
   "metadata": {},
   "source": [
    "Считаем среднюю цену одного квадратного метра в 10 населённых пунктах с наибольшим числом объявлений. Выделияем населённые пункты с самой высокой и низкой стоимостью квадратного метра."
   ]
  },
  {
   "cell_type": "code",
   "execution_count": 87,
   "metadata": {},
   "outputs": [
    {
     "data": {
      "text/html": [
       "<div>\n",
       "<style scoped>\n",
       "    .dataframe tbody tr th:only-of-type {\n",
       "        vertical-align: middle;\n",
       "    }\n",
       "\n",
       "    .dataframe tbody tr th {\n",
       "        vertical-align: top;\n",
       "    }\n",
       "\n",
       "    .dataframe thead th {\n",
       "        text-align: right;\n",
       "    }\n",
       "</style>\n",
       "<table border=\"1\" class=\"dataframe\">\n",
       "  <thead>\n",
       "    <tr style=\"text-align: right;\">\n",
       "      <th></th>\n",
       "      <th>cost_per_m^2</th>\n",
       "      <th>count</th>\n",
       "    </tr>\n",
       "    <tr>\n",
       "      <th>locality_name</th>\n",
       "      <th></th>\n",
       "      <th></th>\n",
       "    </tr>\n",
       "  </thead>\n",
       "  <tbody>\n",
       "    <tr>\n",
       "      <th>Санкт-Петербург</th>\n",
       "      <td>104627.770</td>\n",
       "      <td>15385</td>\n",
       "    </tr>\n",
       "    <tr>\n",
       "      <th>посёлок Мурино</th>\n",
       "      <td>86268.870</td>\n",
       "      <td>577</td>\n",
       "    </tr>\n",
       "    <tr>\n",
       "      <th>Кудрово</th>\n",
       "      <td>95791.450</td>\n",
       "      <td>466</td>\n",
       "    </tr>\n",
       "    <tr>\n",
       "      <th>посёлок Шушары</th>\n",
       "      <td>77049.180</td>\n",
       "      <td>431</td>\n",
       "    </tr>\n",
       "    <tr>\n",
       "      <th>Всеволожск</th>\n",
       "      <td>65789.470</td>\n",
       "      <td>386</td>\n",
       "    </tr>\n",
       "    <tr>\n",
       "      <th>Пушкин</th>\n",
       "      <td>100000.000</td>\n",
       "      <td>360</td>\n",
       "    </tr>\n",
       "    <tr>\n",
       "      <th>Колпино</th>\n",
       "      <td>74657.530</td>\n",
       "      <td>329</td>\n",
       "    </tr>\n",
       "    <tr>\n",
       "      <th>посёлок Парголово</th>\n",
       "      <td>91642.860</td>\n",
       "      <td>327</td>\n",
       "    </tr>\n",
       "    <tr>\n",
       "      <th>Гатчина</th>\n",
       "      <td>67671.510</td>\n",
       "      <td>296</td>\n",
       "    </tr>\n",
       "    <tr>\n",
       "      <th>Выборг</th>\n",
       "      <td>58233.005</td>\n",
       "      <td>236</td>\n",
       "    </tr>\n",
       "  </tbody>\n",
       "</table>\n",
       "</div>"
      ],
      "text/plain": [
       "                   cost_per_m^2  count\n",
       "locality_name                         \n",
       "Санкт-Петербург      104627.770  15385\n",
       "посёлок Мурино        86268.870    577\n",
       "Кудрово               95791.450    466\n",
       "посёлок Шушары        77049.180    431\n",
       "Всеволожск            65789.470    386\n",
       "Пушкин               100000.000    360\n",
       "Колпино               74657.530    329\n",
       "посёлок Парголово     91642.860    327\n",
       "Гатчина               67671.510    296\n",
       "Выборг                58233.005    236"
      ]
     },
     "execution_count": 87,
     "metadata": {},
     "output_type": "execute_result"
    }
   ],
   "source": [
    "data_m_cost = data.pivot_table(index='locality_name', values='cost_per_m^2', aggfunc=['median', 'count'])\n",
    "data_m_cost.columns = ['cost_per_m^2', 'count']\n",
    "data_m_cost = data_m_cost.sort_values(by='count', ascending=False)\n",
    "data_m_cost_top_10 = data_m_cost.head(10)\n",
    "data_m_cost_top_10"
   ]
  },
  {
   "cell_type": "code",
   "execution_count": 94,
   "metadata": {},
   "outputs": [
    {
     "data": {
      "text/html": [
       "<div>\n",
       "<style scoped>\n",
       "    .dataframe tbody tr th:only-of-type {\n",
       "        vertical-align: middle;\n",
       "    }\n",
       "\n",
       "    .dataframe tbody tr th {\n",
       "        vertical-align: top;\n",
       "    }\n",
       "\n",
       "    .dataframe thead th {\n",
       "        text-align: right;\n",
       "    }\n",
       "</style>\n",
       "<table border=\"1\" class=\"dataframe\">\n",
       "  <thead>\n",
       "    <tr style=\"text-align: right;\">\n",
       "      <th></th>\n",
       "      <th>balcony</th>\n",
       "      <th>last_price</th>\n",
       "    </tr>\n",
       "    <tr>\n",
       "      <th>locality_name</th>\n",
       "      <th></th>\n",
       "      <th></th>\n",
       "    </tr>\n",
       "  </thead>\n",
       "  <tbody>\n",
       "    <tr>\n",
       "      <th>Санкт-Петербург</th>\n",
       "      <td>15385</td>\n",
       "      <td>5500000.0</td>\n",
       "    </tr>\n",
       "    <tr>\n",
       "      <th>посёлок Мурино</th>\n",
       "      <td>577</td>\n",
       "      <td>3400000.0</td>\n",
       "    </tr>\n",
       "    <tr>\n",
       "      <th>Кудрово</th>\n",
       "      <td>466</td>\n",
       "      <td>3875000.0</td>\n",
       "    </tr>\n",
       "    <tr>\n",
       "      <th>посёлок Шушары</th>\n",
       "      <td>431</td>\n",
       "      <td>3950000.0</td>\n",
       "    </tr>\n",
       "    <tr>\n",
       "      <th>Всеволожск</th>\n",
       "      <td>386</td>\n",
       "      <td>3450000.0</td>\n",
       "    </tr>\n",
       "    <tr>\n",
       "      <th>Пушкин</th>\n",
       "      <td>360</td>\n",
       "      <td>5150000.0</td>\n",
       "    </tr>\n",
       "    <tr>\n",
       "      <th>Колпино</th>\n",
       "      <td>329</td>\n",
       "      <td>3600000.0</td>\n",
       "    </tr>\n",
       "    <tr>\n",
       "      <th>посёлок Парголово</th>\n",
       "      <td>327</td>\n",
       "      <td>4100000.0</td>\n",
       "    </tr>\n",
       "    <tr>\n",
       "      <th>Гатчина</th>\n",
       "      <td>296</td>\n",
       "      <td>3040000.0</td>\n",
       "    </tr>\n",
       "    <tr>\n",
       "      <th>Выборг</th>\n",
       "      <td>236</td>\n",
       "      <td>2873500.0</td>\n",
       "    </tr>\n",
       "  </tbody>\n",
       "</table>\n",
       "</div>"
      ],
      "text/plain": [
       "                   balcony  last_price\n",
       "locality_name                         \n",
       "Санкт-Петербург      15385   5500000.0\n",
       "посёлок Мурино         577   3400000.0\n",
       "Кудрово                466   3875000.0\n",
       "посёлок Шушары         431   3950000.0\n",
       "Всеволожск             386   3450000.0\n",
       "Пушкин                 360   5150000.0\n",
       "Колпино                329   3600000.0\n",
       "посёлок Парголово      327   4100000.0\n",
       "Гатчина                296   3040000.0\n",
       "Выборг                 236   2873500.0"
      ]
     },
     "execution_count": 94,
     "metadata": {},
     "output_type": "execute_result"
    }
   ],
   "source": [
    "data.groupby('locality_name').agg({'balcony':'count', 'last_price':'median'}) \\\n",
    "    .sort_values(by = 'balcony', ascending = False) \\\n",
    "    .head(10)"
   ]
  },
  {
   "cell_type": "markdown",
   "metadata": {},
   "source": [
    "Топ самых дорогих квартир за м^2"
   ]
  },
  {
   "cell_type": "code",
   "execution_count": 88,
   "metadata": {},
   "outputs": [
    {
     "data": {
      "text/html": [
       "<div>\n",
       "<style scoped>\n",
       "    .dataframe tbody tr th:only-of-type {\n",
       "        vertical-align: middle;\n",
       "    }\n",
       "\n",
       "    .dataframe tbody tr th {\n",
       "        vertical-align: top;\n",
       "    }\n",
       "\n",
       "    .dataframe thead th {\n",
       "        text-align: right;\n",
       "    }\n",
       "</style>\n",
       "<table border=\"1\" class=\"dataframe\">\n",
       "  <thead>\n",
       "    <tr style=\"text-align: right;\">\n",
       "      <th></th>\n",
       "      <th>cost_per_m^2</th>\n",
       "      <th>count</th>\n",
       "    </tr>\n",
       "    <tr>\n",
       "      <th>locality_name</th>\n",
       "      <th></th>\n",
       "      <th></th>\n",
       "    </tr>\n",
       "  </thead>\n",
       "  <tbody>\n",
       "    <tr>\n",
       "      <th>Санкт-Петербург</th>\n",
       "      <td>104627.77</td>\n",
       "      <td>15385</td>\n",
       "    </tr>\n",
       "    <tr>\n",
       "      <th>Пушкин</th>\n",
       "      <td>100000.00</td>\n",
       "      <td>360</td>\n",
       "    </tr>\n",
       "    <tr>\n",
       "      <th>Кудрово</th>\n",
       "      <td>95791.45</td>\n",
       "      <td>466</td>\n",
       "    </tr>\n",
       "  </tbody>\n",
       "</table>\n",
       "</div>"
      ],
      "text/plain": [
       "                 cost_per_m^2  count\n",
       "locality_name                       \n",
       "Санкт-Петербург     104627.77  15385\n",
       "Пушкин              100000.00    360\n",
       "Кудрово              95791.45    466"
      ]
     },
     "execution_count": 88,
     "metadata": {},
     "output_type": "execute_result"
    }
   ],
   "source": [
    "data_m_cost_top_10.sort_values(by='cost_per_m^2', ascending=False).head(3)"
   ]
  },
  {
   "cell_type": "markdown",
   "metadata": {},
   "source": [
    "Топ объектов с самыми недорогими ценами за квадратный метр"
   ]
  },
  {
   "cell_type": "code",
   "execution_count": 89,
   "metadata": {},
   "outputs": [
    {
     "data": {
      "text/html": [
       "<div>\n",
       "<style scoped>\n",
       "    .dataframe tbody tr th:only-of-type {\n",
       "        vertical-align: middle;\n",
       "    }\n",
       "\n",
       "    .dataframe tbody tr th {\n",
       "        vertical-align: top;\n",
       "    }\n",
       "\n",
       "    .dataframe thead th {\n",
       "        text-align: right;\n",
       "    }\n",
       "</style>\n",
       "<table border=\"1\" class=\"dataframe\">\n",
       "  <thead>\n",
       "    <tr style=\"text-align: right;\">\n",
       "      <th></th>\n",
       "      <th>cost_per_m^2</th>\n",
       "      <th>count</th>\n",
       "    </tr>\n",
       "    <tr>\n",
       "      <th>locality_name</th>\n",
       "      <th></th>\n",
       "      <th></th>\n",
       "    </tr>\n",
       "  </thead>\n",
       "  <tbody>\n",
       "    <tr>\n",
       "      <th>Выборг</th>\n",
       "      <td>58233.005</td>\n",
       "      <td>236</td>\n",
       "    </tr>\n",
       "    <tr>\n",
       "      <th>Всеволожск</th>\n",
       "      <td>65789.470</td>\n",
       "      <td>386</td>\n",
       "    </tr>\n",
       "    <tr>\n",
       "      <th>Гатчина</th>\n",
       "      <td>67671.510</td>\n",
       "      <td>296</td>\n",
       "    </tr>\n",
       "  </tbody>\n",
       "</table>\n",
       "</div>"
      ],
      "text/plain": [
       "               cost_per_m^2  count\n",
       "locality_name                     \n",
       "Выборг            58233.005    236\n",
       "Всеволожск        65789.470    386\n",
       "Гатчина           67671.510    296"
      ]
     },
     "execution_count": 89,
     "metadata": {},
     "output_type": "execute_result"
    }
   ],
   "source": [
    "data_m_cost_top_10.sort_values(by='cost_per_m^2').head(3)"
   ]
  },
  {
   "cell_type": "markdown",
   "metadata": {},
   "source": [
    "#### Стоимость квадратного метра в Санкт-Петербурге"
   ]
  },
  {
   "cell_type": "markdown",
   "metadata": {},
   "source": [
    "Теперь выделим квартиры в Санкт-Петербурге и вычислим среднюю цену каждого километра. "
   ]
  },
  {
   "cell_type": "code",
   "execution_count": 90,
   "metadata": {},
   "outputs": [],
   "source": [
    "data_spb = data.query('locality_name == \"Санкт-Петербург\"')"
   ]
  },
  {
   "cell_type": "code",
   "execution_count": 95,
   "metadata": {},
   "outputs": [
    {
     "data": {
      "image/png": "[encoded data removed]",
      "text/plain": [
       "<Figure size 432x288 with 1 Axes>"
      ]
     },
     "metadata": {
      "needs_background": "light"
     },
     "output_type": "display_data"
    }
   ],
   "source": [
    "dependence_price_on_KM = data_spb.pivot_table(index='cityCenters_nearest_KM', values='cost_per_m^2')\n",
    "dependence_price_on_KM.plot(grid = True, title = 'Заголовок')\n",
    "plt.show();"
   ]
  },
  {
   "cell_type": "markdown",
   "metadata": {},
   "source": [
    "**Вывод**\n",
    "\n",
    "Из сводной таблицы мы видим, что чем квартира ближе к центру, тем она дороже. С отдалением цена за квадратный метр снижается. Исключение составляют 6-ой и 27-ой километр, на котором цена за метр подскакивает. Это могут быть дорогие районы или же выбросы."
   ]
  },
  {
   "cell_type": "markdown",
   "metadata": {},
   "source": [
    "### Общий вывод"
   ]
  },
  {
   "cell_type": "markdown",
   "metadata": {},
   "source": [
    "В начале исследования были предоставлены данные сервиса Яндекс Недвижимость — архив объявлений за несколько лет о продаже квартир в Санкт-Петербурге и соседних населённых пунктах. В них входили:\n",
    "- `airports_nearest` — расстояние до ближайшего аэропорта в метрах (м)\n",
    "- `balcony` — число балконов\n",
    "- `ceiling_height` — высота потолков (м)\n",
    "- `cityCenters_nearest` — расстояние до центра города (м)\n",
    "- `days_exposition` — сколько дней было размещено объявление (от публикации до снятия)\n",
    "- `first_day_exposition` — дата публикации\n",
    "- `floor` — этаж\n",
    "- `floors_total` — всего этажей в доме\n",
    "- `is_apartment` — апартаменты (булев тип)\n",
    "- `kitchen_area` — площадь кухни в квадратных метрах (м²)\n",
    "- `last_price` — цена на момент снятия с публикации\n",
    "- `living_area` — жилая площадь в квадратных метрах (м²)\n",
    "- `locality_name` — название населённого пункта\n",
    "- `open_plan` — свободная планировка (булев тип)\n",
    "- `parks_around3000` — число парков в радиусе 3 км\n",
    "- `parks_nearest` — расстояние до ближайшего парка (м)\n",
    "- `ponds_around3000` — число водоёмов в радиусе 3 км\n",
    "- `ponds_nearest` — расстояние до ближайшего водоёма (м)\n",
    "- `rooms` — число комнат\n",
    "- `studio` — квартира-студия (булев тип)\n",
    "- `total_area` — общая площадь квартиры в квадратных метрах (м²)\n",
    "- `total_images` — число фотографий квартиры в объявлении\n",
    "\n",
    "В ходе предобработки были заменены пропуски в столбцах `ponds_around3000` и `balcony` на 0 и в стоблце `is_apartment` на `False`. Для дальнейшей более удобной работы со временем заменили тип данных в столбце `first_day_exposition` на `datetime`. \n",
    "\n",
    "Далее удалили неянвые дубликаты из `locality_name`, чтобы не было разных записей одного и того же населённого пункта. В высоте потолков `ceiling_height` были обнаружены слишком неправдоподобные записи в виде 25, 27, 32 метров, которые были заменены на медианное значение. В ходе проверки балконов так же удалили квартиры с более чем 3-мя балконами.\n",
    "\n",
    "Для более удобного анализа в таблицу добавили следующие столбцы:\n",
    "- цена квадратного метра\n",
    "- день недели публикации объявления (0 — понедельник, 1 — вторник и так далее)\n",
    "- месяц публикации объявления\n",
    "- год публикации объявления \n",
    "- тип этажа квартиры (значения — «первый», «последний», «другой»)\n",
    "- растояние до центра города в километрах\n",
    "\n",
    "\n",
    "После предобработки приступили к исследованию. Были поставлены задачи:\n",
    "1. Выполнить предобработку данных и изучить их, чтобы найти интересные особенности и зависимости, которые существуют на рынке недвижимости\n",
    "2. Установить параметры, что позволит построить автоматизированную систему, которая отследит аномалии и мошенническую деятельность\n",
    "3. Научиться определять рыночную стоимость объектов недвижимости\n",
    "\n",
    "\n",
    "\n",
    "Построили и изучили гистограммы следующих параметров:\n",
    "- общая площадь;\n",
    "- жилая площадь;\n",
    "- площадь кухни;\n",
    "- цена объекта;\n",
    "- количество комнат;\n",
    "- высота потолков;\n",
    "- этаж квартиры;\n",
    "- тип этажа квартиры («первый», «последний», «другой»);\n",
    "- общее количество этажей в доме;\n",
    "- расстояние до центра города в метрах;\n",
    "- расстояние до ближайшего аэропорта;\n",
    "- расстояние до ближайшего парка;\n",
    "- день и месяц публикации объявления\n",
    "\n",
    "где выяснили, что большинсво квартир от 40 до 60 метров, с жилой площадью в среднем 25-50 метров  с кухней 6-11 квадратных метров. Средняя стоимость квартиры составляет 4600000 рублей, куда в основном входят одна, двух или трехкомнатные квартиры. Чаще всего квартиры находятся не на первом и не на посоледнем этажах, а на 2-5. Медианное значение потолков составляет 2.65.\n",
    "\n",
    "Также в процессе исследования было выявленно, что квартиры на продажу выставляют в будние дни и ни день недели, ни месяц, ни год не влияют на стоимость продажи. В среднем объекты висят в объявлении 100-120 дней (3-4 месяца).\n",
    "\n",
    "Выявили, что больше всего на стоимость квартиры влияет общая площадь с коэффицентом корреляции 0.65. Чуть меньше, но также влияют жилая площадь, площадь кухни и количество комнат в квартире. Узначи, что квартиры на первом этаже стоят дешевле, чем квартиры на последнем, а те в свою очередь дешевле, чем на остальных.\n",
    "\n",
    "Помимо основных задач изучили стоимость квадратного метра в Санкт-Петербурге и ее зависимость от близости к центру города. Средняя цена за метр в СПб составляет ~ 104000 и с оттаделием от центра цена снижается, за исключением 6 и 27 километра. \n",
    "\n",
    "Также посчитали среднюю цену одного квадратного метра в 10 населённых пунктах с наибольшим числом объявлений и вывели топ самых дорогих и самых доступных населенных пунктах, где в числе дорогих оказались Санкт-Петербург, Пушкин и Кудрово, а во втором - Выборг, Всеволожск и Гатчина.  \n",
    "\n"
   ]
  }
 ],
 "metadata": {
  "ExecuteTimeLog": [
   {
    "duration": 48,
    "start_time": "2022-12-04T17:01:12.365Z"
   },
   {
    "duration": 373,
    "start_time": "2022-12-04T17:01:14.513Z"
   },
   {
    "duration": 150,
    "start_time": "2022-12-04T17:01:15.185Z"
   },
   {
    "duration": 17,
    "start_time": "2022-12-04T17:01:15.797Z"
   },
   {
    "duration": 69,
    "start_time": "2022-12-04T17:03:06.697Z"
   },
   {
    "duration": 6,
    "start_time": "2022-12-04T17:03:07.309Z"
   },
   {
    "duration": 88,
    "start_time": "2022-12-04T17:03:12.157Z"
   },
   {
    "duration": 39,
    "start_time": "2022-12-04T17:03:12.869Z"
   },
   {
    "duration": 14,
    "start_time": "2022-12-04T17:07:59.084Z"
   },
   {
    "duration": 1681,
    "start_time": "2022-12-04T17:11:03.064Z"
   },
   {
    "duration": 1370,
    "start_time": "2022-12-04T17:11:24.685Z"
   },
   {
    "duration": 1908,
    "start_time": "2022-12-04T17:11:44.628Z"
   },
   {
    "duration": 9,
    "start_time": "2022-12-04T17:26:40.836Z"
   },
   {
    "duration": 11,
    "start_time": "2022-12-04T17:34:35.084Z"
   },
   {
    "duration": 5,
    "start_time": "2022-12-04T17:36:36.016Z"
   },
   {
    "duration": 12,
    "start_time": "2022-12-04T17:36:36.676Z"
   },
   {
    "duration": 5,
    "start_time": "2022-12-04T17:37:38.612Z"
   },
   {
    "duration": 42,
    "start_time": "2022-12-04T17:38:12.889Z"
   },
   {
    "duration": 6,
    "start_time": "2022-12-04T17:39:13.983Z"
   },
   {
    "duration": 4,
    "start_time": "2022-12-04T17:39:16.288Z"
   },
   {
    "duration": 14,
    "start_time": "2022-12-04T17:39:30.084Z"
   },
   {
    "duration": 5,
    "start_time": "2022-12-04T17:39:42.704Z"
   },
   {
    "duration": 5,
    "start_time": "2022-12-04T17:53:22.956Z"
   },
   {
    "duration": 20,
    "start_time": "2022-12-04T17:53:24.886Z"
   },
   {
    "duration": 9,
    "start_time": "2022-12-04T17:53:55.010Z"
   },
   {
    "duration": 3,
    "start_time": "2022-12-04T18:04:39.889Z"
   },
   {
    "duration": 10,
    "start_time": "2022-12-04T18:06:56.710Z"
   },
   {
    "duration": 8,
    "start_time": "2022-12-04T18:11:48.462Z"
   },
   {
    "duration": 20,
    "start_time": "2022-12-04T18:12:01.979Z"
   },
   {
    "duration": 29,
    "start_time": "2022-12-04T18:12:19.750Z"
   },
   {
    "duration": 5,
    "start_time": "2022-12-04T18:15:19.030Z"
   },
   {
    "duration": 130,
    "start_time": "2022-12-04T18:15:20.274Z"
   },
   {
    "duration": 7,
    "start_time": "2022-12-04T18:20:08.707Z"
   },
   {
    "duration": 10,
    "start_time": "2022-12-04T18:21:04.722Z"
   },
   {
    "duration": 13,
    "start_time": "2022-12-04T18:21:20.787Z"
   },
   {
    "duration": 7,
    "start_time": "2022-12-04T18:21:26.338Z"
   },
   {
    "duration": 384,
    "start_time": "2022-12-04T19:53:42.913Z"
   },
   {
    "duration": 337,
    "start_time": "2022-12-04T19:53:43.299Z"
   },
   {
    "duration": 37,
    "start_time": "2022-12-04T19:53:43.638Z"
   },
   {
    "duration": 14,
    "start_time": "2022-12-04T19:53:43.677Z"
   },
   {
    "duration": 2353,
    "start_time": "2022-12-04T19:53:43.693Z"
   },
   {
    "duration": 10,
    "start_time": "2022-12-04T19:53:46.048Z"
   },
   {
    "duration": 3,
    "start_time": "2022-12-04T19:53:46.059Z"
   },
   {
    "duration": 13,
    "start_time": "2022-12-04T19:53:46.063Z"
   },
   {
    "duration": 10,
    "start_time": "2022-12-04T19:53:46.078Z"
   },
   {
    "duration": 4,
    "start_time": "2022-12-04T19:53:46.090Z"
   },
   {
    "duration": 9,
    "start_time": "2022-12-04T19:53:46.096Z"
   },
   {
    "duration": 16,
    "start_time": "2022-12-04T19:53:46.107Z"
   },
   {
    "duration": 21,
    "start_time": "2022-12-04T19:53:46.125Z"
   },
   {
    "duration": 5,
    "start_time": "2022-12-04T19:53:46.148Z"
   },
   {
    "duration": 20,
    "start_time": "2022-12-04T19:54:07.969Z"
   },
   {
    "duration": 5,
    "start_time": "2022-12-04T20:14:37.978Z"
   },
   {
    "duration": 19,
    "start_time": "2022-12-04T20:15:20.226Z"
   },
   {
    "duration": 73,
    "start_time": "2022-12-04T20:15:45.446Z"
   },
   {
    "duration": 9,
    "start_time": "2022-12-04T20:15:56.522Z"
   },
   {
    "duration": 4,
    "start_time": "2022-12-04T20:16:16.699Z"
   },
   {
    "duration": 5,
    "start_time": "2022-12-04T20:16:48.407Z"
   },
   {
    "duration": 54,
    "start_time": "2022-12-04T20:30:41.818Z"
   },
   {
    "duration": 36,
    "start_time": "2022-12-04T20:32:06.139Z"
   },
   {
    "duration": 48,
    "start_time": "2022-12-04T20:32:09.615Z"
   },
   {
    "duration": 5,
    "start_time": "2022-12-04T20:34:02.207Z"
   },
   {
    "duration": 4,
    "start_time": "2022-12-04T20:36:34.283Z"
   },
   {
    "duration": 4,
    "start_time": "2022-12-04T20:41:04.969Z"
   },
   {
    "duration": 29,
    "start_time": "2022-12-04T20:41:12.959Z"
   },
   {
    "duration": 29,
    "start_time": "2022-12-04T20:56:04.879Z"
   },
   {
    "duration": 28,
    "start_time": "2022-12-04T20:56:08.227Z"
   },
   {
    "duration": 28,
    "start_time": "2022-12-04T20:56:20.567Z"
   },
   {
    "duration": 37,
    "start_time": "2022-12-04T20:57:23.483Z"
   },
   {
    "duration": 51,
    "start_time": "2022-12-04T20:57:46.419Z"
   },
   {
    "duration": 5,
    "start_time": "2022-12-04T20:58:17.299Z"
   },
   {
    "duration": 36,
    "start_time": "2022-12-04T20:58:44.487Z"
   },
   {
    "duration": 6,
    "start_time": "2022-12-04T20:59:22.215Z"
   },
   {
    "duration": 13,
    "start_time": "2022-12-04T20:59:25.019Z"
   },
   {
    "duration": 17,
    "start_time": "2022-12-04T21:39:05.935Z"
   },
   {
    "duration": 6,
    "start_time": "2022-12-04T21:39:10.394Z"
   },
   {
    "duration": 4,
    "start_time": "2022-12-04T21:39:13.067Z"
   },
   {
    "duration": 7,
    "start_time": "2022-12-04T21:39:25.226Z"
   },
   {
    "duration": 36,
    "start_time": "2022-12-04T21:43:17.330Z"
   },
   {
    "duration": 35,
    "start_time": "2022-12-04T21:43:36.282Z"
   },
   {
    "duration": 38,
    "start_time": "2022-12-04T21:43:44.486Z"
   },
   {
    "duration": 38,
    "start_time": "2022-12-04T21:44:45.335Z"
   },
   {
    "duration": 35,
    "start_time": "2022-12-04T21:44:53.014Z"
   },
   {
    "duration": 14,
    "start_time": "2022-12-04T21:45:39.470Z"
   },
   {
    "duration": 15,
    "start_time": "2022-12-04T21:45:59.699Z"
   },
   {
    "duration": 35,
    "start_time": "2022-12-04T21:46:19.746Z"
   },
   {
    "duration": 14,
    "start_time": "2022-12-04T21:46:36.138Z"
   },
   {
    "duration": 39,
    "start_time": "2022-12-04T21:46:43.970Z"
   },
   {
    "duration": 5,
    "start_time": "2022-12-04T21:50:51.886Z"
   },
   {
    "duration": 18,
    "start_time": "2022-12-04T21:51:16.540Z"
   },
   {
    "duration": 9,
    "start_time": "2022-12-04T21:51:57.270Z"
   },
   {
    "duration": 20,
    "start_time": "2022-12-04T21:52:25.409Z"
   },
   {
    "duration": 8,
    "start_time": "2022-12-04T21:52:39.299Z"
   },
   {
    "duration": 9,
    "start_time": "2022-12-04T21:53:06.570Z"
   },
   {
    "duration": 7,
    "start_time": "2022-12-04T21:53:35.523Z"
   },
   {
    "duration": 5,
    "start_time": "2022-12-04T21:54:10.686Z"
   },
   {
    "duration": 5,
    "start_time": "2022-12-04T21:55:40.811Z"
   },
   {
    "duration": 6,
    "start_time": "2022-12-04T21:56:01.207Z"
   },
   {
    "duration": 3,
    "start_time": "2022-12-04T21:56:22.151Z"
   },
   {
    "duration": 3,
    "start_time": "2022-12-04T21:56:24.435Z"
   },
   {
    "duration": 4,
    "start_time": "2022-12-04T21:56:34.319Z"
   },
   {
    "duration": 3,
    "start_time": "2022-12-04T21:57:20.635Z"
   },
   {
    "duration": 5,
    "start_time": "2022-12-04T21:57:21.951Z"
   },
   {
    "duration": 4,
    "start_time": "2022-12-04T21:57:41.391Z"
   },
   {
    "duration": 5,
    "start_time": "2022-12-04T21:57:42.034Z"
   },
   {
    "duration": 5,
    "start_time": "2022-12-04T21:58:00.479Z"
   },
   {
    "duration": 5,
    "start_time": "2022-12-04T21:58:37.831Z"
   },
   {
    "duration": 5,
    "start_time": "2022-12-04T21:58:42.423Z"
   },
   {
    "duration": 3,
    "start_time": "2022-12-04T21:58:47.875Z"
   },
   {
    "duration": 5,
    "start_time": "2022-12-04T21:59:46.386Z"
   },
   {
    "duration": 3,
    "start_time": "2022-12-04T21:59:47.279Z"
   },
   {
    "duration": 8,
    "start_time": "2022-12-04T22:00:27.187Z"
   },
   {
    "duration": 4,
    "start_time": "2022-12-04T22:04:05.646Z"
   },
   {
    "duration": 12,
    "start_time": "2022-12-04T22:04:25.395Z"
   },
   {
    "duration": 3,
    "start_time": "2022-12-04T22:04:44.043Z"
   },
   {
    "duration": 15,
    "start_time": "2022-12-04T22:05:26.787Z"
   },
   {
    "duration": 37,
    "start_time": "2022-12-04T22:15:55.364Z"
   },
   {
    "duration": 31,
    "start_time": "2022-12-04T22:16:34.747Z"
   },
   {
    "duration": 37,
    "start_time": "2022-12-04T22:17:54.651Z"
   },
   {
    "duration": 52,
    "start_time": "2022-12-05T20:50:26.839Z"
   },
   {
    "duration": 427,
    "start_time": "2022-12-05T20:50:32.539Z"
   },
   {
    "duration": 324,
    "start_time": "2022-12-05T20:50:32.968Z"
   },
   {
    "duration": 41,
    "start_time": "2022-12-05T20:50:33.294Z"
   },
   {
    "duration": 19,
    "start_time": "2022-12-05T20:50:33.337Z"
   },
   {
    "duration": 2633,
    "start_time": "2022-12-05T20:50:33.357Z"
   },
   {
    "duration": 10,
    "start_time": "2022-12-05T20:50:35.991Z"
   },
   {
    "duration": 4,
    "start_time": "2022-12-05T20:50:36.012Z"
   },
   {
    "duration": 6,
    "start_time": "2022-12-05T20:50:36.018Z"
   },
   {
    "duration": 11,
    "start_time": "2022-12-05T20:50:36.026Z"
   },
   {
    "duration": 5,
    "start_time": "2022-12-05T20:50:36.040Z"
   },
   {
    "duration": 5,
    "start_time": "2022-12-05T20:50:36.046Z"
   },
   {
    "duration": 7,
    "start_time": "2022-12-05T20:50:36.052Z"
   },
   {
    "duration": 53,
    "start_time": "2022-12-05T20:50:36.061Z"
   },
   {
    "duration": 17,
    "start_time": "2022-12-05T20:50:36.117Z"
   },
   {
    "duration": 29,
    "start_time": "2022-12-05T20:50:36.136Z"
   },
   {
    "duration": 60,
    "start_time": "2022-12-05T20:50:36.167Z"
   },
   {
    "duration": 9,
    "start_time": "2022-12-05T20:50:36.229Z"
   },
   {
    "duration": 36,
    "start_time": "2022-12-05T20:50:36.240Z"
   },
   {
    "duration": 61,
    "start_time": "2022-12-05T20:50:36.278Z"
   },
   {
    "duration": 72,
    "start_time": "2022-12-05T20:50:36.342Z"
   },
   {
    "duration": 5,
    "start_time": "2022-12-05T20:50:36.416Z"
   },
   {
    "duration": 17,
    "start_time": "2022-12-05T20:50:36.424Z"
   },
   {
    "duration": 21,
    "start_time": "2022-12-05T20:50:36.443Z"
   },
   {
    "duration": 18,
    "start_time": "2022-12-05T20:50:36.467Z"
   },
   {
    "duration": 58,
    "start_time": "2022-12-05T20:50:36.488Z"
   },
   {
    "duration": 23,
    "start_time": "2022-12-05T20:50:36.548Z"
   },
   {
    "duration": 5,
    "start_time": "2022-12-05T20:50:36.573Z"
   },
   {
    "duration": 59,
    "start_time": "2022-12-05T20:50:36.581Z"
   },
   {
    "duration": 4,
    "start_time": "2022-12-05T20:51:27.327Z"
   },
   {
    "duration": 26,
    "start_time": "2022-12-05T20:51:29.743Z"
   },
   {
    "duration": 5,
    "start_time": "2022-12-05T20:51:59.855Z"
   },
   {
    "duration": 29,
    "start_time": "2022-12-05T20:52:00.692Z"
   },
   {
    "duration": 4,
    "start_time": "2022-12-05T20:56:05.667Z"
   },
   {
    "duration": 6,
    "start_time": "2022-12-05T21:01:17.695Z"
   },
   {
    "duration": 32,
    "start_time": "2022-12-05T21:01:39.491Z"
   },
   {
    "duration": 38,
    "start_time": "2022-12-05T21:05:16.927Z"
   },
   {
    "duration": 11,
    "start_time": "2022-12-05T21:08:55.640Z"
   },
   {
    "duration": 10,
    "start_time": "2022-12-05T21:09:49.124Z"
   },
   {
    "duration": 10,
    "start_time": "2022-12-05T21:11:31.335Z"
   },
   {
    "duration": 6,
    "start_time": "2022-12-05T21:13:06.507Z"
   },
   {
    "duration": 5,
    "start_time": "2022-12-05T21:14:01.396Z"
   },
   {
    "duration": 28,
    "start_time": "2022-12-05T21:14:19.660Z"
   },
   {
    "duration": 4,
    "start_time": "2022-12-05T21:39:59.649Z"
   },
   {
    "duration": 781,
    "start_time": "2022-12-05T21:40:12.048Z"
   },
   {
    "duration": 3,
    "start_time": "2022-12-05T22:15:13.832Z"
   },
   {
    "duration": 274,
    "start_time": "2022-12-05T22:15:14.619Z"
   },
   {
    "duration": 27,
    "start_time": "2022-12-05T22:15:27.165Z"
   },
   {
    "duration": 5,
    "start_time": "2022-12-05T22:18:59.151Z"
   },
   {
    "duration": 25,
    "start_time": "2022-12-05T22:19:11.141Z"
   },
   {
    "duration": 130,
    "start_time": "2022-12-05T22:24:00.060Z"
   },
   {
    "duration": 177,
    "start_time": "2022-12-05T22:24:18.517Z"
   },
   {
    "duration": 172,
    "start_time": "2022-12-05T22:24:34.572Z"
   },
   {
    "duration": 181,
    "start_time": "2022-12-05T22:24:49.124Z"
   },
   {
    "duration": 170,
    "start_time": "2022-12-05T22:24:55.981Z"
   },
   {
    "duration": 157,
    "start_time": "2022-12-05T22:25:10.657Z"
   },
   {
    "duration": 239,
    "start_time": "2022-12-05T22:25:17.348Z"
   },
   {
    "duration": 131,
    "start_time": "2022-12-05T22:25:26.019Z"
   },
   {
    "duration": 171,
    "start_time": "2022-12-05T22:25:33.521Z"
   },
   {
    "duration": 121,
    "start_time": "2022-12-05T22:25:45.424Z"
   },
   {
    "duration": 277,
    "start_time": "2022-12-05T22:25:51.716Z"
   },
   {
    "duration": 174,
    "start_time": "2022-12-05T22:28:07.421Z"
   },
   {
    "duration": 179,
    "start_time": "2022-12-05T22:28:20.901Z"
   },
   {
    "duration": 186,
    "start_time": "2022-12-05T22:28:24.653Z"
   },
   {
    "duration": 203,
    "start_time": "2022-12-05T22:28:34.087Z"
   },
   {
    "duration": 221,
    "start_time": "2022-12-05T22:28:46.813Z"
   },
   {
    "duration": 174,
    "start_time": "2022-12-05T22:28:55.057Z"
   },
   {
    "duration": 199,
    "start_time": "2022-12-05T22:29:07.349Z"
   },
   {
    "duration": 187,
    "start_time": "2022-12-05T22:29:14.089Z"
   },
   {
    "duration": 182,
    "start_time": "2022-12-05T22:29:18.577Z"
   },
   {
    "duration": 172,
    "start_time": "2022-12-05T22:29:28.624Z"
   },
   {
    "duration": 317,
    "start_time": "2022-12-05T22:29:32.808Z"
   },
   {
    "duration": 189,
    "start_time": "2022-12-05T22:29:38.177Z"
   },
   {
    "duration": 174,
    "start_time": "2022-12-05T22:29:49.361Z"
   },
   {
    "duration": 239,
    "start_time": "2022-12-05T22:30:04.081Z"
   },
   {
    "duration": 146,
    "start_time": "2022-12-05T23:28:50.084Z"
   },
   {
    "duration": 142,
    "start_time": "2022-12-05T23:29:00.121Z"
   },
   {
    "duration": 155,
    "start_time": "2022-12-05T23:29:04.321Z"
   },
   {
    "duration": 169,
    "start_time": "2022-12-05T23:29:08.304Z"
   },
   {
    "duration": 244,
    "start_time": "2022-12-05T23:29:24.032Z"
   },
   {
    "duration": 170,
    "start_time": "2022-12-05T23:29:49.552Z"
   },
   {
    "duration": 141,
    "start_time": "2022-12-05T23:29:54.049Z"
   },
   {
    "duration": 1463,
    "start_time": "2022-12-05T23:29:59.292Z"
   },
   {
    "duration": 886,
    "start_time": "2022-12-05T23:30:08.384Z"
   },
   {
    "duration": 253,
    "start_time": "2022-12-05T23:30:17.116Z"
   },
   {
    "duration": 172,
    "start_time": "2022-12-05T23:30:22.752Z"
   },
   {
    "duration": 165,
    "start_time": "2022-12-05T23:31:43.136Z"
   },
   {
    "duration": 180,
    "start_time": "2022-12-05T23:31:50.264Z"
   },
   {
    "duration": 179,
    "start_time": "2022-12-05T23:31:56.732Z"
   },
   {
    "duration": 5,
    "start_time": "2022-12-05T23:32:20.984Z"
   },
   {
    "duration": 175,
    "start_time": "2022-12-05T23:32:40.956Z"
   },
   {
    "duration": 165,
    "start_time": "2022-12-05T23:32:50.604Z"
   },
   {
    "duration": 174,
    "start_time": "2022-12-05T23:34:39.464Z"
   },
   {
    "duration": 173,
    "start_time": "2022-12-05T23:34:53.568Z"
   },
   {
    "duration": 397,
    "start_time": "2022-12-05T23:36:07.836Z"
   },
   {
    "duration": 180,
    "start_time": "2022-12-05T23:36:42.216Z"
   },
   {
    "duration": 14,
    "start_time": "2022-12-05T23:38:05.844Z"
   },
   {
    "duration": 126,
    "start_time": "2022-12-05T23:38:21.572Z"
   },
   {
    "duration": 182,
    "start_time": "2022-12-05T23:38:29.392Z"
   },
   {
    "duration": 175,
    "start_time": "2022-12-05T23:38:55.768Z"
   },
   {
    "duration": 63,
    "start_time": "2022-12-05T23:40:31.060Z"
   },
   {
    "duration": 140,
    "start_time": "2022-12-05T23:41:49.464Z"
   },
   {
    "duration": 172,
    "start_time": "2022-12-05T23:42:01.776Z"
   },
   {
    "duration": 183,
    "start_time": "2022-12-05T23:42:29.464Z"
   },
   {
    "duration": 195,
    "start_time": "2022-12-05T23:42:40.578Z"
   },
   {
    "duration": 181,
    "start_time": "2022-12-05T23:43:07.040Z"
   },
   {
    "duration": 195,
    "start_time": "2022-12-05T23:43:17.436Z"
   },
   {
    "duration": 181,
    "start_time": "2022-12-05T23:43:34.640Z"
   },
   {
    "duration": 173,
    "start_time": "2022-12-05T23:43:45.255Z"
   },
   {
    "duration": 179,
    "start_time": "2022-12-05T23:43:59.992Z"
   },
   {
    "duration": 192,
    "start_time": "2022-12-05T23:44:14.120Z"
   },
   {
    "duration": 176,
    "start_time": "2022-12-05T23:44:19.439Z"
   },
   {
    "duration": 189,
    "start_time": "2022-12-05T23:44:23.372Z"
   },
   {
    "duration": 9,
    "start_time": "2022-12-05T23:44:58.003Z"
   },
   {
    "duration": 5,
    "start_time": "2022-12-05T23:46:59.188Z"
   },
   {
    "duration": 187,
    "start_time": "2022-12-05T23:47:29.616Z"
   },
   {
    "duration": 180,
    "start_time": "2022-12-05T23:47:38.400Z"
   },
   {
    "duration": 194,
    "start_time": "2022-12-05T23:47:45.880Z"
   },
   {
    "duration": 181,
    "start_time": "2022-12-05T23:48:21.635Z"
   },
   {
    "duration": 440,
    "start_time": "2022-12-05T23:48:38.175Z"
   },
   {
    "duration": 172,
    "start_time": "2022-12-05T23:48:45.880Z"
   },
   {
    "duration": 180,
    "start_time": "2022-12-05T23:48:52.916Z"
   },
   {
    "duration": 172,
    "start_time": "2022-12-05T23:49:22.691Z"
   },
   {
    "duration": 169,
    "start_time": "2022-12-05T23:49:27.127Z"
   },
   {
    "duration": 175,
    "start_time": "2022-12-05T23:49:32.015Z"
   },
   {
    "duration": 179,
    "start_time": "2022-12-05T23:49:40.424Z"
   },
   {
    "duration": 177,
    "start_time": "2022-12-05T23:49:46.384Z"
   },
   {
    "duration": 6,
    "start_time": "2022-12-05T23:50:43.756Z"
   },
   {
    "duration": 6,
    "start_time": "2022-12-05T23:50:50.024Z"
   },
   {
    "duration": 4,
    "start_time": "2022-12-05T23:51:03.352Z"
   },
   {
    "duration": 5,
    "start_time": "2022-12-05T23:51:09.931Z"
   },
   {
    "duration": 5,
    "start_time": "2022-12-05T23:51:15.231Z"
   },
   {
    "duration": 5,
    "start_time": "2022-12-05T23:51:17.267Z"
   },
   {
    "duration": 128,
    "start_time": "2022-12-05T23:53:46.820Z"
   },
   {
    "duration": 181,
    "start_time": "2022-12-05T23:54:04.060Z"
   },
   {
    "duration": 4,
    "start_time": "2022-12-05T23:54:42.172Z"
   },
   {
    "duration": 183,
    "start_time": "2022-12-05T23:54:46.589Z"
   },
   {
    "duration": 53,
    "start_time": "2022-12-05T23:55:49.936Z"
   },
   {
    "duration": 150,
    "start_time": "2022-12-05T23:56:56.223Z"
   },
   {
    "duration": 177,
    "start_time": "2022-12-05T23:57:03.068Z"
   },
   {
    "duration": 167,
    "start_time": "2022-12-05T23:57:26.828Z"
   },
   {
    "duration": 126,
    "start_time": "2022-12-05T23:59:39.476Z"
   },
   {
    "duration": 184,
    "start_time": "2022-12-06T00:00:22.800Z"
   },
   {
    "duration": 136,
    "start_time": "2022-12-06T00:00:29.716Z"
   },
   {
    "duration": 176,
    "start_time": "2022-12-06T00:00:32.896Z"
   },
   {
    "duration": 158,
    "start_time": "2022-12-06T00:00:52.196Z"
   },
   {
    "duration": 166,
    "start_time": "2022-12-06T00:01:50.104Z"
   },
   {
    "duration": 148,
    "start_time": "2022-12-06T00:01:58.484Z"
   },
   {
    "duration": 159,
    "start_time": "2022-12-06T00:02:05.248Z"
   },
   {
    "duration": 5,
    "start_time": "2022-12-06T00:02:23.134Z"
   },
   {
    "duration": 159,
    "start_time": "2022-12-06T00:02:32.204Z"
   },
   {
    "duration": 115,
    "start_time": "2022-12-06T00:06:10.448Z"
   },
   {
    "duration": 135,
    "start_time": "2022-12-06T00:06:24.109Z"
   },
   {
    "duration": 130,
    "start_time": "2022-12-06T00:08:28.324Z"
   },
   {
    "duration": 194,
    "start_time": "2022-12-06T00:08:36.680Z"
   },
   {
    "duration": 188,
    "start_time": "2022-12-06T00:08:58.077Z"
   },
   {
    "duration": 173,
    "start_time": "2022-12-06T00:09:04.244Z"
   },
   {
    "duration": 174,
    "start_time": "2022-12-06T00:09:13.659Z"
   },
   {
    "duration": 532,
    "start_time": "2022-12-06T00:09:20.552Z"
   },
   {
    "duration": 146,
    "start_time": "2022-12-06T00:14:32.276Z"
   },
   {
    "duration": 162,
    "start_time": "2022-12-06T00:14:39.976Z"
   },
   {
    "duration": 172,
    "start_time": "2022-12-06T00:14:43.240Z"
   },
   {
    "duration": 177,
    "start_time": "2022-12-06T00:15:03.688Z"
   },
   {
    "duration": 183,
    "start_time": "2022-12-06T00:15:13.232Z"
   },
   {
    "duration": 112,
    "start_time": "2022-12-06T00:17:40.584Z"
   },
   {
    "duration": 136,
    "start_time": "2022-12-06T00:17:48.252Z"
   },
   {
    "duration": 166,
    "start_time": "2022-12-06T00:17:52.201Z"
   },
   {
    "duration": 160,
    "start_time": "2022-12-06T00:17:57.504Z"
   },
   {
    "duration": 148,
    "start_time": "2022-12-06T00:18:04.005Z"
   },
   {
    "duration": 163,
    "start_time": "2022-12-06T00:19:01.136Z"
   },
   {
    "duration": 141,
    "start_time": "2022-12-06T00:19:10.800Z"
   },
   {
    "duration": 143,
    "start_time": "2022-12-06T00:19:15.269Z"
   },
   {
    "duration": 227,
    "start_time": "2022-12-06T00:19:22.879Z"
   },
   {
    "duration": 140,
    "start_time": "2022-12-06T00:19:28.256Z"
   },
   {
    "duration": 156,
    "start_time": "2022-12-06T00:19:34.588Z"
   },
   {
    "duration": 135,
    "start_time": "2022-12-06T00:22:04.096Z"
   },
   {
    "duration": 176,
    "start_time": "2022-12-06T00:22:15.012Z"
   },
   {
    "duration": 199,
    "start_time": "2022-12-06T00:22:18.944Z"
   },
   {
    "duration": 120,
    "start_time": "2022-12-06T00:24:31.948Z"
   },
   {
    "duration": 146,
    "start_time": "2022-12-06T00:24:42.824Z"
   },
   {
    "duration": 143,
    "start_time": "2022-12-06T00:24:46.925Z"
   },
   {
    "duration": 148,
    "start_time": "2022-12-06T00:24:55.908Z"
   },
   {
    "duration": 132,
    "start_time": "2022-12-06T00:27:13.009Z"
   },
   {
    "duration": 159,
    "start_time": "2022-12-06T00:27:22.212Z"
   },
   {
    "duration": 44,
    "start_time": "2022-12-06T10:52:42.276Z"
   },
   {
    "duration": 369,
    "start_time": "2022-12-06T10:52:46.853Z"
   },
   {
    "duration": 315,
    "start_time": "2022-12-06T10:52:47.224Z"
   },
   {
    "duration": 39,
    "start_time": "2022-12-06T10:52:47.540Z"
   },
   {
    "duration": 14,
    "start_time": "2022-12-06T10:52:47.580Z"
   },
   {
    "duration": 2368,
    "start_time": "2022-12-06T10:52:47.596Z"
   },
   {
    "duration": 10,
    "start_time": "2022-12-06T10:52:49.966Z"
   },
   {
    "duration": 30,
    "start_time": "2022-12-06T10:52:49.978Z"
   },
   {
    "duration": 58,
    "start_time": "2022-12-06T10:52:50.009Z"
   },
   {
    "duration": 26,
    "start_time": "2022-12-06T10:52:50.069Z"
   },
   {
    "duration": 10,
    "start_time": "2022-12-06T10:52:50.098Z"
   },
   {
    "duration": 15,
    "start_time": "2022-12-06T10:52:50.110Z"
   },
   {
    "duration": 53,
    "start_time": "2022-12-06T10:52:50.127Z"
   },
   {
    "duration": 13,
    "start_time": "2022-12-06T10:52:50.181Z"
   },
   {
    "duration": 20,
    "start_time": "2022-12-06T10:52:50.196Z"
   },
   {
    "duration": 28,
    "start_time": "2022-12-06T10:52:50.218Z"
   },
   {
    "duration": 43,
    "start_time": "2022-12-06T10:52:50.247Z"
   },
   {
    "duration": 6,
    "start_time": "2022-12-06T10:52:50.292Z"
   },
   {
    "duration": 108,
    "start_time": "2022-12-06T10:52:50.300Z"
   },
   {
    "duration": 75,
    "start_time": "2022-12-06T10:52:50.410Z"
   },
   {
    "duration": 60,
    "start_time": "2022-12-06T10:52:50.487Z"
   },
   {
    "duration": 7,
    "start_time": "2022-12-06T10:52:50.550Z"
   },
   {
    "duration": 15,
    "start_time": "2022-12-06T10:52:50.559Z"
   },
   {
    "duration": 20,
    "start_time": "2022-12-06T10:52:50.576Z"
   },
   {
    "duration": 25,
    "start_time": "2022-12-06T10:52:50.598Z"
   },
   {
    "duration": 49,
    "start_time": "2022-12-06T10:52:50.625Z"
   },
   {
    "duration": 17,
    "start_time": "2022-12-06T10:52:50.676Z"
   },
   {
    "duration": 4,
    "start_time": "2022-12-06T10:52:50.694Z"
   },
   {
    "duration": 42,
    "start_time": "2022-12-06T10:52:50.702Z"
   },
   {
    "duration": 12,
    "start_time": "2022-12-06T10:52:50.746Z"
   },
   {
    "duration": 26,
    "start_time": "2022-12-06T10:52:50.760Z"
   },
   {
    "duration": 5,
    "start_time": "2022-12-06T10:52:50.788Z"
   },
   {
    "duration": 13,
    "start_time": "2022-12-06T10:52:50.795Z"
   },
   {
    "duration": 29,
    "start_time": "2022-12-06T10:52:50.809Z"
   },
   {
    "duration": 3,
    "start_time": "2022-12-06T10:52:50.840Z"
   },
   {
    "duration": 178,
    "start_time": "2022-12-06T10:52:50.845Z"
   },
   {
    "duration": 21,
    "start_time": "2022-12-06T10:52:51.025Z"
   },
   {
    "duration": 34,
    "start_time": "2022-12-06T10:52:51.047Z"
   },
   {
    "duration": 32,
    "start_time": "2022-12-06T10:52:51.083Z"
   },
   {
    "duration": 176,
    "start_time": "2022-12-06T10:52:51.117Z"
   },
   {
    "duration": 174,
    "start_time": "2022-12-06T10:52:51.295Z"
   },
   {
    "duration": 209,
    "start_time": "2022-12-06T10:52:51.470Z"
   },
   {
    "duration": 227,
    "start_time": "2022-12-06T10:52:51.681Z"
   },
   {
    "duration": 12,
    "start_time": "2022-12-06T10:52:51.909Z"
   },
   {
    "duration": 4,
    "start_time": "2022-12-06T10:52:51.923Z"
   },
   {
    "duration": 180,
    "start_time": "2022-12-06T10:52:51.928Z"
   },
   {
    "duration": 14,
    "start_time": "2022-12-06T10:52:52.109Z"
   },
   {
    "duration": 164,
    "start_time": "2022-12-06T10:52:52.124Z"
   },
   {
    "duration": 155,
    "start_time": "2022-12-06T10:52:52.290Z"
   },
   {
    "duration": 5,
    "start_time": "2022-12-06T10:52:52.446Z"
   },
   {
    "duration": 157,
    "start_time": "2022-12-06T10:52:52.452Z"
   },
   {
    "duration": 193,
    "start_time": "2022-12-06T10:52:52.610Z"
   },
   {
    "duration": 189,
    "start_time": "2022-12-06T10:52:52.804Z"
   },
   {
    "duration": 150,
    "start_time": "2022-12-06T10:52:52.994Z"
   },
   {
    "duration": 186,
    "start_time": "2022-12-06T10:52:53.147Z"
   },
   {
    "duration": 140,
    "start_time": "2022-12-06T10:52:53.334Z"
   },
   {
    "duration": 245,
    "start_time": "2022-12-06T10:52:53.476Z"
   },
   {
    "duration": 152,
    "start_time": "2022-12-06T10:52:53.723Z"
   },
   {
    "duration": 163,
    "start_time": "2022-12-06T10:55:02.556Z"
   },
   {
    "duration": 158,
    "start_time": "2022-12-06T10:55:19.268Z"
   },
   {
    "duration": 6,
    "start_time": "2022-12-06T10:59:20.352Z"
   },
   {
    "duration": 6,
    "start_time": "2022-12-06T10:59:30.563Z"
   },
   {
    "duration": 167,
    "start_time": "2022-12-06T11:01:15.548Z"
   },
   {
    "duration": 158,
    "start_time": "2022-12-06T11:01:32.456Z"
   },
   {
    "duration": 156,
    "start_time": "2022-12-06T11:01:47.133Z"
   },
   {
    "duration": 221,
    "start_time": "2022-12-06T12:12:02.616Z"
   },
   {
    "duration": 134,
    "start_time": "2022-12-06T12:13:56.209Z"
   },
   {
    "duration": 142,
    "start_time": "2022-12-06T12:14:47.829Z"
   },
   {
    "duration": 3,
    "start_time": "2022-12-06T12:20:54.854Z"
   },
   {
    "duration": 93,
    "start_time": "2022-12-06T12:20:54.859Z"
   },
   {
    "duration": 42,
    "start_time": "2022-12-06T12:20:54.955Z"
   },
   {
    "duration": 28,
    "start_time": "2022-12-06T12:20:54.999Z"
   },
   {
    "duration": 2096,
    "start_time": "2022-12-06T12:20:55.028Z"
   },
   {
    "duration": 11,
    "start_time": "2022-12-06T12:20:57.125Z"
   },
   {
    "duration": 15,
    "start_time": "2022-12-06T12:20:57.138Z"
   },
   {
    "duration": 13,
    "start_time": "2022-12-06T12:20:57.155Z"
   },
   {
    "duration": 16,
    "start_time": "2022-12-06T12:20:57.169Z"
   },
   {
    "duration": 5,
    "start_time": "2022-12-06T12:20:57.187Z"
   },
   {
    "duration": 14,
    "start_time": "2022-12-06T12:20:57.194Z"
   },
   {
    "duration": 11,
    "start_time": "2022-12-06T12:20:57.214Z"
   },
   {
    "duration": 15,
    "start_time": "2022-12-06T12:20:57.226Z"
   },
   {
    "duration": 21,
    "start_time": "2022-12-06T12:20:57.243Z"
   },
   {
    "duration": 23,
    "start_time": "2022-12-06T12:20:57.266Z"
   },
   {
    "duration": 31,
    "start_time": "2022-12-06T12:20:57.291Z"
   },
   {
    "duration": 6,
    "start_time": "2022-12-06T12:20:57.324Z"
   },
   {
    "duration": 33,
    "start_time": "2022-12-06T12:20:57.332Z"
   },
   {
    "duration": 58,
    "start_time": "2022-12-06T12:20:57.368Z"
   },
   {
    "duration": 61,
    "start_time": "2022-12-06T12:20:57.428Z"
   },
   {
    "duration": 6,
    "start_time": "2022-12-06T12:20:57.492Z"
   },
   {
    "duration": 6,
    "start_time": "2022-12-06T12:20:57.521Z"
   },
   {
    "duration": 9,
    "start_time": "2022-12-06T12:20:57.529Z"
   },
   {
    "duration": 16,
    "start_time": "2022-12-06T12:20:57.540Z"
   },
   {
    "duration": 43,
    "start_time": "2022-12-06T12:20:57.557Z"
   },
   {
    "duration": 26,
    "start_time": "2022-12-06T12:20:57.602Z"
   },
   {
    "duration": 4,
    "start_time": "2022-12-06T12:20:57.630Z"
   },
   {
    "duration": 27,
    "start_time": "2022-12-06T12:20:57.636Z"
   },
   {
    "duration": 7,
    "start_time": "2022-12-06T12:20:57.666Z"
   },
   {
    "duration": 69,
    "start_time": "2022-12-06T12:20:57.675Z"
   },
   {
    "duration": 4,
    "start_time": "2022-12-06T12:20:57.746Z"
   },
   {
    "duration": 7,
    "start_time": "2022-12-06T12:20:57.752Z"
   },
   {
    "duration": 23,
    "start_time": "2022-12-06T12:20:57.761Z"
   },
   {
    "duration": 8,
    "start_time": "2022-12-06T12:20:57.786Z"
   },
   {
    "duration": 1928,
    "start_time": "2022-12-06T12:20:57.795Z"
   },
   {
    "duration": 25,
    "start_time": "2022-12-06T12:20:59.725Z"
   },
   {
    "duration": 5,
    "start_time": "2022-12-06T12:20:59.753Z"
   },
   {
    "duration": 31,
    "start_time": "2022-12-06T12:20:59.760Z"
   },
   {
    "duration": 191,
    "start_time": "2022-12-06T12:20:59.792Z"
   },
   {
    "duration": 184,
    "start_time": "2022-12-06T12:20:59.984Z"
   },
   {
    "duration": 215,
    "start_time": "2022-12-06T12:21:00.169Z"
   },
   {
    "duration": 203,
    "start_time": "2022-12-06T12:21:00.385Z"
   },
   {
    "duration": 5,
    "start_time": "2022-12-06T12:21:00.590Z"
   },
   {
    "duration": 32,
    "start_time": "2022-12-06T12:21:00.597Z"
   },
   {
    "duration": 246,
    "start_time": "2022-12-06T12:21:00.630Z"
   },
   {
    "duration": 4,
    "start_time": "2022-12-06T12:21:00.877Z"
   },
   {
    "duration": 201,
    "start_time": "2022-12-06T12:21:00.883Z"
   },
   {
    "duration": 188,
    "start_time": "2022-12-06T12:21:01.085Z"
   },
   {
    "duration": 5,
    "start_time": "2022-12-06T12:21:01.275Z"
   },
   {
    "duration": 172,
    "start_time": "2022-12-06T12:21:01.281Z"
   },
   {
    "duration": 247,
    "start_time": "2022-12-06T12:21:01.455Z"
   },
   {
    "duration": 213,
    "start_time": "2022-12-06T12:21:01.704Z"
   },
   {
    "duration": 198,
    "start_time": "2022-12-06T12:21:01.921Z"
   },
   {
    "duration": 198,
    "start_time": "2022-12-06T12:21:02.123Z"
   },
   {
    "duration": 175,
    "start_time": "2022-12-06T12:21:02.324Z"
   },
   {
    "duration": 221,
    "start_time": "2022-12-06T12:21:02.668Z"
   },
   {
    "duration": 6,
    "start_time": "2022-12-06T12:21:02.891Z"
   },
   {
    "duration": 23,
    "start_time": "2022-12-06T12:21:02.898Z"
   },
   {
    "duration": 161,
    "start_time": "2022-12-06T12:21:02.923Z"
   },
   {
    "duration": 155,
    "start_time": "2022-12-06T12:21:03.086Z"
   },
   {
    "duration": 155,
    "start_time": "2022-12-06T12:21:32.631Z"
   },
   {
    "duration": 168,
    "start_time": "2022-12-06T12:21:50.396Z"
   },
   {
    "duration": 168,
    "start_time": "2022-12-06T12:21:58.353Z"
   },
   {
    "duration": 58,
    "start_time": "2022-12-06T12:33:18.244Z"
   },
   {
    "duration": 260,
    "start_time": "2022-12-06T12:33:28.928Z"
   },
   {
    "duration": 231,
    "start_time": "2022-12-06T12:33:35.479Z"
   },
   {
    "duration": 181,
    "start_time": "2022-12-06T12:33:40.644Z"
   },
   {
    "duration": 214,
    "start_time": "2022-12-06T12:34:11.007Z"
   },
   {
    "duration": 204,
    "start_time": "2022-12-06T12:35:54.685Z"
   },
   {
    "duration": 190,
    "start_time": "2022-12-06T12:36:30.168Z"
   },
   {
    "duration": 18,
    "start_time": "2022-12-06T12:37:34.190Z"
   },
   {
    "duration": 159,
    "start_time": "2022-12-06T12:38:09.832Z"
   },
   {
    "duration": 942,
    "start_time": "2022-12-06T12:42:46.384Z"
   },
   {
    "duration": 991,
    "start_time": "2022-12-06T12:43:45.232Z"
   },
   {
    "duration": 184,
    "start_time": "2022-12-06T12:44:36.884Z"
   },
   {
    "duration": 228,
    "start_time": "2022-12-06T13:11:15.446Z"
   },
   {
    "duration": 164,
    "start_time": "2022-12-06T13:11:40.712Z"
   },
   {
    "duration": 192,
    "start_time": "2022-12-06T13:12:01.000Z"
   },
   {
    "duration": 145,
    "start_time": "2022-12-06T13:13:29.957Z"
   },
   {
    "duration": 9,
    "start_time": "2022-12-06T13:14:16.264Z"
   },
   {
    "duration": 960,
    "start_time": "2022-12-06T13:14:42.245Z"
   },
   {
    "duration": 996,
    "start_time": "2022-12-06T13:14:52.629Z"
   },
   {
    "duration": 13,
    "start_time": "2022-12-06T13:16:29.201Z"
   },
   {
    "duration": 175,
    "start_time": "2022-12-06T13:22:12.873Z"
   },
   {
    "duration": 171,
    "start_time": "2022-12-06T13:23:15.893Z"
   },
   {
    "duration": 156,
    "start_time": "2022-12-06T13:23:19.513Z"
   },
   {
    "duration": 13,
    "start_time": "2022-12-06T13:36:27.553Z"
   },
   {
    "duration": 23,
    "start_time": "2022-12-06T13:38:17.217Z"
   },
   {
    "duration": 9,
    "start_time": "2022-12-06T13:38:48.901Z"
   },
   {
    "duration": 14,
    "start_time": "2022-12-06T13:39:00.997Z"
   },
   {
    "duration": 14,
    "start_time": "2022-12-06T13:39:27.265Z"
   },
   {
    "duration": 5,
    "start_time": "2022-12-06T13:43:28.461Z"
   },
   {
    "duration": 183,
    "start_time": "2022-12-06T13:43:31.205Z"
   },
   {
    "duration": 5,
    "start_time": "2022-12-06T13:44:55.921Z"
   },
   {
    "duration": 11,
    "start_time": "2022-12-06T13:44:58.397Z"
   },
   {
    "duration": 48,
    "start_time": "2022-12-06T13:45:11.313Z"
   },
   {
    "duration": 6,
    "start_time": "2022-12-06T13:46:02.077Z"
   },
   {
    "duration": 5,
    "start_time": "2022-12-06T13:47:23.301Z"
   },
   {
    "duration": 11,
    "start_time": "2022-12-06T13:47:24.314Z"
   },
   {
    "duration": 5,
    "start_time": "2022-12-06T13:47:27.189Z"
   },
   {
    "duration": 29,
    "start_time": "2022-12-06T13:47:33.709Z"
   },
   {
    "duration": 5,
    "start_time": "2022-12-06T13:47:56.062Z"
   },
   {
    "duration": 5,
    "start_time": "2022-12-06T13:48:05.317Z"
   },
   {
    "duration": 11,
    "start_time": "2022-12-06T13:48:07.618Z"
   },
   {
    "duration": 7,
    "start_time": "2022-12-06T13:48:08.397Z"
   },
   {
    "duration": 5,
    "start_time": "2022-12-06T13:50:15.078Z"
   },
   {
    "duration": 11,
    "start_time": "2022-12-06T13:50:27.265Z"
   },
   {
    "duration": 5,
    "start_time": "2022-12-06T13:50:28.117Z"
   },
   {
    "duration": 5,
    "start_time": "2022-12-06T13:55:39.285Z"
   },
   {
    "duration": 10,
    "start_time": "2022-12-06T13:55:40.294Z"
   },
   {
    "duration": 5,
    "start_time": "2022-12-06T13:55:41.069Z"
   },
   {
    "duration": 7,
    "start_time": "2022-12-06T13:56:45.338Z"
   },
   {
    "duration": 951,
    "start_time": "2022-12-06T13:56:46.850Z"
   },
   {
    "duration": 5,
    "start_time": "2022-12-06T13:56:47.937Z"
   },
   {
    "duration": 6,
    "start_time": "2022-12-06T13:58:05.049Z"
   },
   {
    "duration": 11,
    "start_time": "2022-12-06T13:58:05.573Z"
   },
   {
    "duration": 5,
    "start_time": "2022-12-06T13:58:07.314Z"
   },
   {
    "duration": 6,
    "start_time": "2022-12-06T13:58:32.210Z"
   },
   {
    "duration": 10,
    "start_time": "2022-12-06T13:58:33.304Z"
   },
   {
    "duration": 4,
    "start_time": "2022-12-06T13:58:34.063Z"
   },
   {
    "duration": 6,
    "start_time": "2022-12-06T13:59:00.033Z"
   },
   {
    "duration": 11,
    "start_time": "2022-12-06T13:59:00.526Z"
   },
   {
    "duration": 5,
    "start_time": "2022-12-06T13:59:01.290Z"
   },
   {
    "duration": 5,
    "start_time": "2022-12-06T13:59:19.318Z"
   },
   {
    "duration": 10,
    "start_time": "2022-12-06T13:59:19.973Z"
   },
   {
    "duration": 5,
    "start_time": "2022-12-06T13:59:20.536Z"
   },
   {
    "duration": 104,
    "start_time": "2022-12-06T14:00:10.349Z"
   },
   {
    "duration": 5,
    "start_time": "2022-12-06T14:00:21.438Z"
   },
   {
    "duration": 254,
    "start_time": "2022-12-06T14:00:23.166Z"
   },
   {
    "duration": 6,
    "start_time": "2022-12-06T14:00:55.937Z"
   },
   {
    "duration": 11,
    "start_time": "2022-12-06T14:00:57.189Z"
   },
   {
    "duration": 6,
    "start_time": "2022-12-06T14:00:58.190Z"
   },
   {
    "duration": 5,
    "start_time": "2022-12-06T14:01:02.054Z"
   },
   {
    "duration": 6,
    "start_time": "2022-12-06T14:01:18.453Z"
   },
   {
    "duration": 11,
    "start_time": "2022-12-06T14:01:19.729Z"
   },
   {
    "duration": 5,
    "start_time": "2022-12-06T14:01:20.677Z"
   },
   {
    "duration": 26,
    "start_time": "2022-12-06T14:03:25.534Z"
   },
   {
    "duration": 20,
    "start_time": "2022-12-06T14:03:43.606Z"
   },
   {
    "duration": 19,
    "start_time": "2022-12-06T14:03:52.693Z"
   },
   {
    "duration": 19,
    "start_time": "2022-12-06T14:04:14.027Z"
   },
   {
    "duration": 20,
    "start_time": "2022-12-06T14:05:36.038Z"
   },
   {
    "duration": 19,
    "start_time": "2022-12-06T14:05:53.790Z"
   },
   {
    "duration": 19,
    "start_time": "2022-12-06T14:06:00.802Z"
   },
   {
    "duration": 19,
    "start_time": "2022-12-06T14:06:13.593Z"
   },
   {
    "duration": 14,
    "start_time": "2022-12-06T14:07:54.806Z"
   },
   {
    "duration": 19,
    "start_time": "2022-12-06T14:08:16.918Z"
   },
   {
    "duration": 20,
    "start_time": "2022-12-06T14:08:40.332Z"
   },
   {
    "duration": 19,
    "start_time": "2022-12-06T14:09:43.678Z"
   },
   {
    "duration": 9,
    "start_time": "2022-12-06T14:12:40.742Z"
   },
   {
    "duration": 8,
    "start_time": "2022-12-06T14:12:56.602Z"
   },
   {
    "duration": 11,
    "start_time": "2022-12-06T14:14:49.185Z"
   },
   {
    "duration": 8,
    "start_time": "2022-12-06T14:15:43.367Z"
   },
   {
    "duration": 59,
    "start_time": "2022-12-06T14:17:19.751Z"
   },
   {
    "duration": 4,
    "start_time": "2022-12-06T14:22:04.561Z"
   },
   {
    "duration": 807,
    "start_time": "2022-12-06T14:24:58.843Z"
   },
   {
    "duration": 7,
    "start_time": "2022-12-06T14:25:30.191Z"
   },
   {
    "duration": 10,
    "start_time": "2022-12-06T14:26:21.347Z"
   },
   {
    "duration": 8,
    "start_time": "2022-12-06T14:30:34.239Z"
   },
   {
    "duration": 513,
    "start_time": "2022-12-06T23:12:15.426Z"
   },
   {
    "duration": 176,
    "start_time": "2022-12-06T23:12:15.942Z"
   },
   {
    "duration": 43,
    "start_time": "2022-12-06T23:12:16.120Z"
   },
   {
    "duration": 23,
    "start_time": "2022-12-06T23:12:16.166Z"
   },
   {
    "duration": 2793,
    "start_time": "2022-12-06T23:12:16.191Z"
   },
   {
    "duration": 14,
    "start_time": "2022-12-06T23:12:18.987Z"
   },
   {
    "duration": 11,
    "start_time": "2022-12-06T23:12:19.003Z"
   },
   {
    "duration": 18,
    "start_time": "2022-12-06T23:12:19.017Z"
   },
   {
    "duration": 14,
    "start_time": "2022-12-06T23:12:19.038Z"
   },
   {
    "duration": 7,
    "start_time": "2022-12-06T23:12:19.058Z"
   },
   {
    "duration": 14,
    "start_time": "2022-12-06T23:12:19.067Z"
   },
   {
    "duration": 14,
    "start_time": "2022-12-06T23:12:19.084Z"
   },
   {
    "duration": 27,
    "start_time": "2022-12-06T23:12:19.100Z"
   },
   {
    "duration": 26,
    "start_time": "2022-12-06T23:12:19.130Z"
   },
   {
    "duration": 32,
    "start_time": "2022-12-06T23:12:19.158Z"
   },
   {
    "duration": 42,
    "start_time": "2022-12-06T23:12:19.192Z"
   },
   {
    "duration": 9,
    "start_time": "2022-12-06T23:12:19.236Z"
   },
   {
    "duration": 46,
    "start_time": "2022-12-06T23:12:19.247Z"
   },
   {
    "duration": 8,
    "start_time": "2022-12-06T23:12:19.296Z"
   },
   {
    "duration": 65,
    "start_time": "2022-12-06T23:12:19.306Z"
   },
   {
    "duration": 59,
    "start_time": "2022-12-06T23:12:19.374Z"
   },
   {
    "duration": 14,
    "start_time": "2022-12-06T23:12:19.435Z"
   },
   {
    "duration": 11,
    "start_time": "2022-12-06T23:12:19.451Z"
   },
   {
    "duration": 14,
    "start_time": "2022-12-06T23:12:19.464Z"
   },
   {
    "duration": 14,
    "start_time": "2022-12-06T23:12:19.480Z"
   },
   {
    "duration": 82,
    "start_time": "2022-12-06T23:12:19.496Z"
   },
   {
    "duration": 48,
    "start_time": "2022-12-06T23:12:19.579Z"
   },
   {
    "duration": 5,
    "start_time": "2022-12-06T23:12:19.633Z"
   },
   {
    "duration": 30,
    "start_time": "2022-12-06T23:12:19.640Z"
   },
   {
    "duration": 5,
    "start_time": "2022-12-06T23:12:19.672Z"
   },
   {
    "duration": 49,
    "start_time": "2022-12-06T23:12:19.679Z"
   },
   {
    "duration": 5,
    "start_time": "2022-12-06T23:12:19.729Z"
   },
   {
    "duration": 9,
    "start_time": "2022-12-06T23:12:19.736Z"
   },
   {
    "duration": 25,
    "start_time": "2022-12-06T23:12:19.748Z"
   },
   {
    "duration": 4,
    "start_time": "2022-12-06T23:12:19.775Z"
   },
   {
    "duration": 228,
    "start_time": "2022-12-06T23:12:19.781Z"
   },
   {
    "duration": 32,
    "start_time": "2022-12-06T23:12:20.011Z"
   },
   {
    "duration": 7,
    "start_time": "2022-12-06T23:12:20.045Z"
   },
   {
    "duration": 30,
    "start_time": "2022-12-06T23:12:20.053Z"
   },
   {
    "duration": 196,
    "start_time": "2022-12-06T23:12:20.084Z"
   },
   {
    "duration": 200,
    "start_time": "2022-12-06T23:12:20.282Z"
   },
   {
    "duration": 362,
    "start_time": "2022-12-06T23:12:20.485Z"
   },
   {
    "duration": 206,
    "start_time": "2022-12-06T23:12:20.849Z"
   },
   {
    "duration": 7,
    "start_time": "2022-12-06T23:12:21.056Z"
   },
   {
    "duration": 13,
    "start_time": "2022-12-06T23:12:21.066Z"
   },
   {
    "duration": 204,
    "start_time": "2022-12-06T23:12:21.080Z"
   },
   {
    "duration": 6,
    "start_time": "2022-12-06T23:12:21.286Z"
   },
   {
    "duration": 253,
    "start_time": "2022-12-06T23:12:21.295Z"
   },
   {
    "duration": 196,
    "start_time": "2022-12-06T23:12:21.549Z"
   },
   {
    "duration": 6,
    "start_time": "2022-12-06T23:12:21.747Z"
   },
   {
    "duration": 169,
    "start_time": "2022-12-06T23:12:21.756Z"
   },
   {
    "duration": 207,
    "start_time": "2022-12-06T23:12:21.928Z"
   },
   {
    "duration": 227,
    "start_time": "2022-12-06T23:12:22.137Z"
   },
   {
    "duration": 172,
    "start_time": "2022-12-06T23:12:22.367Z"
   },
   {
    "duration": 196,
    "start_time": "2022-12-06T23:12:22.541Z"
   },
   {
    "duration": 266,
    "start_time": "2022-12-06T23:12:22.738Z"
   },
   {
    "duration": 219,
    "start_time": "2022-12-06T23:12:23.006Z"
   },
   {
    "duration": 196,
    "start_time": "2022-12-06T23:12:23.228Z"
   },
   {
    "duration": 6,
    "start_time": "2022-12-06T23:12:23.426Z"
   },
   {
    "duration": 9,
    "start_time": "2022-12-06T23:12:23.434Z"
   },
   {
    "duration": 199,
    "start_time": "2022-12-06T23:12:23.446Z"
   },
   {
    "duration": 180,
    "start_time": "2022-12-06T23:12:23.646Z"
   },
   {
    "duration": 180,
    "start_time": "2022-12-06T23:12:23.828Z"
   },
   {
    "duration": 253,
    "start_time": "2022-12-06T23:12:24.010Z"
   },
   {
    "duration": 260,
    "start_time": "2022-12-06T23:12:24.265Z"
   },
   {
    "duration": 237,
    "start_time": "2022-12-06T23:12:24.527Z"
   },
   {
    "duration": 271,
    "start_time": "2022-12-06T23:12:24.766Z"
   },
   {
    "duration": 262,
    "start_time": "2022-12-06T23:12:25.040Z"
   },
   {
    "duration": 36,
    "start_time": "2022-12-06T23:12:25.305Z"
   },
   {
    "duration": 9,
    "start_time": "2022-12-06T23:12:25.343Z"
   },
   {
    "duration": 21,
    "start_time": "2022-12-06T23:12:25.354Z"
   },
   {
    "duration": 9,
    "start_time": "2022-12-06T23:16:01.608Z"
   },
   {
    "duration": 15,
    "start_time": "2022-12-06T23:23:03.982Z"
   },
   {
    "duration": 16,
    "start_time": "2022-12-06T23:31:58.628Z"
   },
   {
    "duration": 14,
    "start_time": "2022-12-06T23:32:38.089Z"
   },
   {
    "duration": 364,
    "start_time": "2022-12-06T23:35:52.180Z"
   },
   {
    "duration": 310,
    "start_time": "2022-12-06T23:36:06.340Z"
   },
   {
    "duration": 10,
    "start_time": "2022-12-06T23:36:12.608Z"
   },
   {
    "duration": 323,
    "start_time": "2022-12-06T23:36:43.717Z"
   },
   {
    "duration": 14,
    "start_time": "2022-12-06T23:37:23.377Z"
   },
   {
    "duration": 246,
    "start_time": "2022-12-06T23:40:59.345Z"
   },
   {
    "duration": 418,
    "start_time": "2022-12-07T00:02:23.671Z"
   },
   {
    "duration": 152,
    "start_time": "2022-12-07T00:02:24.091Z"
   },
   {
    "duration": 35,
    "start_time": "2022-12-07T00:02:24.245Z"
   },
   {
    "duration": 13,
    "start_time": "2022-12-07T00:02:24.282Z"
   },
   {
    "duration": 2109,
    "start_time": "2022-12-07T00:02:24.296Z"
   },
   {
    "duration": 9,
    "start_time": "2022-12-07T00:02:26.407Z"
   },
   {
    "duration": 4,
    "start_time": "2022-12-07T00:02:26.417Z"
   },
   {
    "duration": 7,
    "start_time": "2022-12-07T00:02:26.422Z"
   },
   {
    "duration": 12,
    "start_time": "2022-12-07T00:02:26.430Z"
   },
   {
    "duration": 4,
    "start_time": "2022-12-07T00:02:26.444Z"
   },
   {
    "duration": 5,
    "start_time": "2022-12-07T00:02:26.450Z"
   },
   {
    "duration": 12,
    "start_time": "2022-12-07T00:02:26.456Z"
   },
   {
    "duration": 35,
    "start_time": "2022-12-07T00:02:26.470Z"
   },
   {
    "duration": 13,
    "start_time": "2022-12-07T00:02:26.506Z"
   },
   {
    "duration": 24,
    "start_time": "2022-12-07T00:02:26.521Z"
   },
   {
    "duration": 17,
    "start_time": "2022-12-07T00:02:26.547Z"
   },
   {
    "duration": 5,
    "start_time": "2022-12-07T00:02:26.566Z"
   },
   {
    "duration": 19,
    "start_time": "2022-12-07T00:02:26.604Z"
   },
   {
    "duration": 12,
    "start_time": "2022-12-07T00:02:26.624Z"
   },
   {
    "duration": 50,
    "start_time": "2022-12-07T00:02:26.638Z"
   },
   {
    "duration": 51,
    "start_time": "2022-12-07T00:02:26.690Z"
   },
   {
    "duration": 7,
    "start_time": "2022-12-07T00:02:26.743Z"
   },
   {
    "duration": 4,
    "start_time": "2022-12-07T00:02:26.751Z"
   },
   {
    "duration": 14,
    "start_time": "2022-12-07T00:02:26.756Z"
   },
   {
    "duration": 8,
    "start_time": "2022-12-07T00:02:26.771Z"
   },
   {
    "duration": 51,
    "start_time": "2022-12-07T00:02:26.781Z"
   },
   {
    "duration": 19,
    "start_time": "2022-12-07T00:02:26.833Z"
   },
   {
    "duration": 4,
    "start_time": "2022-12-07T00:02:26.856Z"
   },
   {
    "duration": 44,
    "start_time": "2022-12-07T00:02:26.861Z"
   },
   {
    "duration": 4,
    "start_time": "2022-12-07T00:02:26.906Z"
   },
   {
    "duration": 24,
    "start_time": "2022-12-07T00:02:26.911Z"
   },
   {
    "duration": 4,
    "start_time": "2022-12-07T00:02:26.936Z"
   },
   {
    "duration": 15,
    "start_time": "2022-12-07T00:02:26.941Z"
   },
   {
    "duration": 25,
    "start_time": "2022-12-07T00:02:26.957Z"
   },
   {
    "duration": 22,
    "start_time": "2022-12-07T00:02:26.983Z"
   },
   {
    "duration": 197,
    "start_time": "2022-12-07T00:02:27.007Z"
   },
   {
    "duration": 20,
    "start_time": "2022-12-07T00:02:27.206Z"
   },
   {
    "duration": 3,
    "start_time": "2022-12-07T00:02:27.228Z"
   },
   {
    "duration": 21,
    "start_time": "2022-12-07T00:02:27.233Z"
   },
   {
    "duration": 193,
    "start_time": "2022-12-07T00:02:27.256Z"
   },
   {
    "duration": 168,
    "start_time": "2022-12-07T00:02:27.450Z"
   },
   {
    "duration": 170,
    "start_time": "2022-12-07T00:02:27.620Z"
   },
   {
    "duration": 234,
    "start_time": "2022-12-07T00:02:27.792Z"
   },
   {
    "duration": 5,
    "start_time": "2022-12-07T00:02:28.028Z"
   },
   {
    "duration": 7,
    "start_time": "2022-12-07T00:02:28.034Z"
   },
   {
    "duration": 250,
    "start_time": "2022-12-07T00:02:28.043Z"
   },
   {
    "duration": 9,
    "start_time": "2022-12-07T00:02:28.295Z"
   },
   {
    "duration": 319,
    "start_time": "2022-12-07T00:02:28.306Z"
   },
   {
    "duration": 304,
    "start_time": "2022-12-07T00:02:28.627Z"
   },
   {
    "duration": 4,
    "start_time": "2022-12-07T00:02:28.933Z"
   },
   {
    "duration": 188,
    "start_time": "2022-12-07T00:02:28.939Z"
   },
   {
    "duration": 251,
    "start_time": "2022-12-07T00:02:29.129Z"
   },
   {
    "duration": 184,
    "start_time": "2022-12-07T00:02:29.382Z"
   },
   {
    "duration": 152,
    "start_time": "2022-12-07T00:02:29.568Z"
   },
   {
    "duration": 171,
    "start_time": "2022-12-07T00:02:29.722Z"
   },
   {
    "duration": 146,
    "start_time": "2022-12-07T00:02:29.895Z"
   },
   {
    "duration": 252,
    "start_time": "2022-12-07T00:02:30.043Z"
   },
   {
    "duration": 176,
    "start_time": "2022-12-07T00:02:30.297Z"
   },
   {
    "duration": 5,
    "start_time": "2022-12-07T00:02:30.474Z"
   },
   {
    "duration": 26,
    "start_time": "2022-12-07T00:02:30.480Z"
   },
   {
    "duration": 187,
    "start_time": "2022-12-07T00:02:30.508Z"
   },
   {
    "duration": 168,
    "start_time": "2022-12-07T00:02:30.704Z"
   },
   {
    "duration": 163,
    "start_time": "2022-12-07T00:02:30.874Z"
   },
   {
    "duration": 171,
    "start_time": "2022-12-07T00:02:31.039Z"
   },
   {
    "duration": 152,
    "start_time": "2022-12-07T00:02:31.211Z"
   },
   {
    "duration": 165,
    "start_time": "2022-12-07T00:02:31.364Z"
   },
   {
    "duration": 154,
    "start_time": "2022-12-07T00:02:31.531Z"
   },
   {
    "duration": 158,
    "start_time": "2022-12-07T00:02:31.686Z"
   },
   {
    "duration": 20,
    "start_time": "2022-12-07T00:02:31.845Z"
   },
   {
    "duration": 21,
    "start_time": "2022-12-07T00:02:31.867Z"
   },
   {
    "duration": 35,
    "start_time": "2022-12-07T00:02:31.889Z"
   },
   {
    "duration": 32,
    "start_time": "2022-12-07T00:02:31.925Z"
   },
   {
    "duration": 38,
    "start_time": "2022-12-07T00:02:31.958Z"
   },
   {
    "duration": 6,
    "start_time": "2022-12-07T00:04:36.646Z"
   },
   {
    "duration": 72,
    "start_time": "2022-12-07T00:09:44.154Z"
   },
   {
    "duration": 113,
    "start_time": "2022-12-07T00:09:48.733Z"
   },
   {
    "duration": 14,
    "start_time": "2022-12-07T00:10:17.356Z"
   },
   {
    "duration": 370,
    "start_time": "2022-12-07T00:10:36.834Z"
   },
   {
    "duration": 163,
    "start_time": "2022-12-07T00:10:37.206Z"
   },
   {
    "duration": 37,
    "start_time": "2022-12-07T00:10:37.371Z"
   },
   {
    "duration": 15,
    "start_time": "2022-12-07T00:10:37.410Z"
   },
   {
    "duration": 2956,
    "start_time": "2022-12-07T00:10:37.426Z"
   },
   {
    "duration": 8,
    "start_time": "2022-12-07T00:10:40.384Z"
   },
   {
    "duration": 14,
    "start_time": "2022-12-07T00:10:40.393Z"
   },
   {
    "duration": 18,
    "start_time": "2022-12-07T00:10:40.408Z"
   },
   {
    "duration": 11,
    "start_time": "2022-12-07T00:10:40.427Z"
   },
   {
    "duration": 4,
    "start_time": "2022-12-07T00:10:40.440Z"
   },
   {
    "duration": 7,
    "start_time": "2022-12-07T00:10:40.445Z"
   },
   {
    "duration": 9,
    "start_time": "2022-12-07T00:10:40.453Z"
   },
   {
    "duration": 7,
    "start_time": "2022-12-07T00:10:40.464Z"
   },
   {
    "duration": 17,
    "start_time": "2022-12-07T00:10:40.473Z"
   },
   {
    "duration": 22,
    "start_time": "2022-12-07T00:10:40.504Z"
   },
   {
    "duration": 16,
    "start_time": "2022-12-07T00:10:40.528Z"
   },
   {
    "duration": 5,
    "start_time": "2022-12-07T00:10:40.546Z"
   },
   {
    "duration": 24,
    "start_time": "2022-12-07T00:10:40.552Z"
   },
   {
    "duration": 5,
    "start_time": "2022-12-07T00:10:40.577Z"
   },
   {
    "duration": 68,
    "start_time": "2022-12-07T00:10:40.583Z"
   },
   {
    "duration": 53,
    "start_time": "2022-12-07T00:10:40.653Z"
   },
   {
    "duration": 4,
    "start_time": "2022-12-07T00:10:40.708Z"
   },
   {
    "duration": 13,
    "start_time": "2022-12-07T00:10:40.713Z"
   },
   {
    "duration": 3,
    "start_time": "2022-12-07T00:10:40.728Z"
   },
   {
    "duration": 15,
    "start_time": "2022-12-07T00:10:40.732Z"
   },
   {
    "duration": 5,
    "start_time": "2022-12-07T00:10:40.748Z"
   },
   {
    "duration": 12,
    "start_time": "2022-12-07T00:10:40.754Z"
   },
   {
    "duration": 35,
    "start_time": "2022-12-07T00:10:40.770Z"
   },
   {
    "duration": 34,
    "start_time": "2022-12-07T00:10:40.807Z"
   },
   {
    "duration": 16,
    "start_time": "2022-12-07T00:10:40.843Z"
   },
   {
    "duration": 11,
    "start_time": "2022-12-07T00:10:40.861Z"
   },
   {
    "duration": 34,
    "start_time": "2022-12-07T00:10:40.873Z"
   },
   {
    "duration": 24,
    "start_time": "2022-12-07T00:10:40.909Z"
   },
   {
    "duration": 4,
    "start_time": "2022-12-07T00:10:40.935Z"
   },
   {
    "duration": 22,
    "start_time": "2022-12-07T00:10:40.941Z"
   },
   {
    "duration": 4,
    "start_time": "2022-12-07T00:10:40.964Z"
   },
   {
    "duration": 7,
    "start_time": "2022-12-07T00:10:40.970Z"
   },
   {
    "duration": 23,
    "start_time": "2022-12-07T00:10:41.004Z"
   },
   {
    "duration": 3,
    "start_time": "2022-12-07T00:10:41.029Z"
   },
   {
    "duration": 172,
    "start_time": "2022-12-07T00:10:41.033Z"
   },
   {
    "duration": 21,
    "start_time": "2022-12-07T00:10:41.206Z"
   },
   {
    "duration": 3,
    "start_time": "2022-12-07T00:10:41.229Z"
   },
   {
    "duration": 23,
    "start_time": "2022-12-07T00:10:41.233Z"
   },
   {
    "duration": 167,
    "start_time": "2022-12-07T00:10:41.257Z"
   },
   {
    "duration": 165,
    "start_time": "2022-12-07T00:10:41.425Z"
   },
   {
    "duration": 163,
    "start_time": "2022-12-07T00:10:41.592Z"
   },
   {
    "duration": 227,
    "start_time": "2022-12-07T00:10:41.757Z"
   },
   {
    "duration": 5,
    "start_time": "2022-12-07T00:10:41.985Z"
   },
   {
    "duration": 14,
    "start_time": "2022-12-07T00:10:41.991Z"
   },
   {
    "duration": 175,
    "start_time": "2022-12-07T00:10:42.007Z"
   },
   {
    "duration": 4,
    "start_time": "2022-12-07T00:10:42.183Z"
   },
   {
    "duration": 158,
    "start_time": "2022-12-07T00:10:42.189Z"
   },
   {
    "duration": 146,
    "start_time": "2022-12-07T00:10:42.348Z"
   },
   {
    "duration": 3,
    "start_time": "2022-12-07T00:10:42.496Z"
   },
   {
    "duration": 135,
    "start_time": "2022-12-07T00:10:42.504Z"
   },
   {
    "duration": 190,
    "start_time": "2022-12-07T00:10:42.641Z"
   },
   {
    "duration": 174,
    "start_time": "2022-12-07T00:10:42.832Z"
   },
   {
    "duration": 152,
    "start_time": "2022-12-07T00:10:43.007Z"
   },
   {
    "duration": 179,
    "start_time": "2022-12-07T00:10:43.161Z"
   },
   {
    "duration": 134,
    "start_time": "2022-12-07T00:10:43.342Z"
   },
   {
    "duration": 239,
    "start_time": "2022-12-07T00:10:43.477Z"
   },
   {
    "duration": 163,
    "start_time": "2022-12-07T00:10:43.718Z"
   },
   {
    "duration": 6,
    "start_time": "2022-12-07T00:10:43.882Z"
   },
   {
    "duration": 19,
    "start_time": "2022-12-07T00:10:43.889Z"
   },
   {
    "duration": 163,
    "start_time": "2022-12-07T00:10:43.909Z"
   },
   {
    "duration": 183,
    "start_time": "2022-12-07T00:10:44.074Z"
   },
   {
    "duration": 156,
    "start_time": "2022-12-07T00:10:44.258Z"
   },
   {
    "duration": 168,
    "start_time": "2022-12-07T00:10:44.416Z"
   },
   {
    "duration": 158,
    "start_time": "2022-12-07T00:10:44.585Z"
   },
   {
    "duration": 169,
    "start_time": "2022-12-07T00:10:44.744Z"
   },
   {
    "duration": 160,
    "start_time": "2022-12-07T00:10:44.915Z"
   },
   {
    "duration": 159,
    "start_time": "2022-12-07T00:10:45.076Z"
   },
   {
    "duration": 130,
    "start_time": "2022-12-07T00:10:45.237Z"
   },
   {
    "duration": 22,
    "start_time": "2022-12-07T00:10:45.369Z"
   },
   {
    "duration": 17,
    "start_time": "2022-12-07T00:10:45.392Z"
   },
   {
    "duration": 9,
    "start_time": "2022-12-07T00:10:45.411Z"
   },
   {
    "duration": 9,
    "start_time": "2022-12-07T00:10:45.421Z"
   },
   {
    "duration": 14,
    "start_time": "2022-12-07T00:10:45.431Z"
   },
   {
    "duration": 46,
    "start_time": "2022-12-09T23:14:19.786Z"
   },
   {
    "duration": 7,
    "start_time": "2022-12-09T23:14:23.562Z"
   },
   {
    "duration": 437,
    "start_time": "2022-12-09T23:14:27.310Z"
   },
   {
    "duration": 332,
    "start_time": "2022-12-09T23:14:27.749Z"
   },
   {
    "duration": 40,
    "start_time": "2022-12-09T23:14:28.083Z"
   },
   {
    "duration": 16,
    "start_time": "2022-12-09T23:14:28.125Z"
   },
   {
    "duration": 2493,
    "start_time": "2022-12-09T23:14:28.143Z"
   },
   {
    "duration": 14,
    "start_time": "2022-12-09T23:14:30.638Z"
   },
   {
    "duration": 22,
    "start_time": "2022-12-09T23:14:30.654Z"
   },
   {
    "duration": 27,
    "start_time": "2022-12-09T23:14:30.678Z"
   },
   {
    "duration": 44,
    "start_time": "2022-12-09T23:14:30.707Z"
   },
   {
    "duration": 9,
    "start_time": "2022-12-09T23:14:30.755Z"
   },
   {
    "duration": 25,
    "start_time": "2022-12-09T23:14:30.767Z"
   },
   {
    "duration": 33,
    "start_time": "2022-12-09T23:14:30.793Z"
   },
   {
    "duration": 32,
    "start_time": "2022-12-09T23:14:30.828Z"
   },
   {
    "duration": 47,
    "start_time": "2022-12-09T23:14:30.862Z"
   },
   {
    "duration": 41,
    "start_time": "2022-12-09T23:14:30.911Z"
   },
   {
    "duration": 44,
    "start_time": "2022-12-09T23:14:30.953Z"
   },
   {
    "duration": 34,
    "start_time": "2022-12-09T23:14:30.999Z"
   },
   {
    "duration": 59,
    "start_time": "2022-12-09T23:14:31.035Z"
   },
   {
    "duration": 40,
    "start_time": "2022-12-09T23:14:31.096Z"
   },
   {
    "duration": 73,
    "start_time": "2022-12-09T23:14:31.137Z"
   },
   {
    "duration": 48,
    "start_time": "2022-12-09T23:14:31.212Z"
   },
   {
    "duration": 18,
    "start_time": "2022-12-09T23:14:31.263Z"
   },
   {
    "duration": 13,
    "start_time": "2022-12-09T23:14:31.283Z"
   },
   {
    "duration": 17,
    "start_time": "2022-12-09T23:14:31.298Z"
   },
   {
    "duration": 5,
    "start_time": "2022-12-09T23:14:31.317Z"
   },
   {
    "duration": 21,
    "start_time": "2022-12-09T23:14:31.324Z"
   },
   {
    "duration": 22,
    "start_time": "2022-12-09T23:14:31.346Z"
   },
   {
    "duration": 79,
    "start_time": "2022-12-09T23:14:31.374Z"
   },
   {
    "duration": 18,
    "start_time": "2022-12-09T23:14:31.455Z"
   },
   {
    "duration": 11,
    "start_time": "2022-12-09T23:14:31.475Z"
   },
   {
    "duration": 14,
    "start_time": "2022-12-09T23:14:31.487Z"
   },
   {
    "duration": 44,
    "start_time": "2022-12-09T23:14:31.502Z"
   },
   {
    "duration": 15,
    "start_time": "2022-12-09T23:14:31.548Z"
   },
   {
    "duration": 32,
    "start_time": "2022-12-09T23:14:31.565Z"
   },
   {
    "duration": 21,
    "start_time": "2022-12-09T23:14:31.599Z"
   },
   {
    "duration": 50,
    "start_time": "2022-12-09T23:14:31.622Z"
   },
   {
    "duration": 65,
    "start_time": "2022-12-09T23:14:31.675Z"
   },
   {
    "duration": 6,
    "start_time": "2022-12-09T23:14:31.742Z"
   },
   {
    "duration": 207,
    "start_time": "2022-12-09T23:14:31.750Z"
   },
   {
    "duration": 24,
    "start_time": "2022-12-09T23:14:31.958Z"
   },
   {
    "duration": 26,
    "start_time": "2022-12-09T23:14:31.983Z"
   },
   {
    "duration": 31,
    "start_time": "2022-12-09T23:14:32.010Z"
   },
   {
    "duration": 223,
    "start_time": "2022-12-09T23:14:32.043Z"
   },
   {
    "duration": 186,
    "start_time": "2022-12-09T23:14:32.268Z"
   },
   {
    "duration": 263,
    "start_time": "2022-12-09T23:14:32.456Z"
   },
   {
    "duration": 178,
    "start_time": "2022-12-09T23:14:32.721Z"
   },
   {
    "duration": 4,
    "start_time": "2022-12-09T23:14:32.901Z"
   },
   {
    "duration": 21,
    "start_time": "2022-12-09T23:14:32.907Z"
   },
   {
    "duration": 181,
    "start_time": "2022-12-09T23:14:32.930Z"
   },
   {
    "duration": 6,
    "start_time": "2022-12-09T23:14:33.113Z"
   },
   {
    "duration": 189,
    "start_time": "2022-12-09T23:14:33.121Z"
   },
   {
    "duration": 142,
    "start_time": "2022-12-09T23:14:33.312Z"
   },
   {
    "duration": 4,
    "start_time": "2022-12-09T23:14:33.457Z"
   },
   {
    "duration": 154,
    "start_time": "2022-12-09T23:14:33.464Z"
   },
   {
    "duration": 205,
    "start_time": "2022-12-09T23:14:33.620Z"
   },
   {
    "duration": 207,
    "start_time": "2022-12-09T23:14:33.827Z"
   },
   {
    "duration": 174,
    "start_time": "2022-12-09T23:14:34.035Z"
   },
   {
    "duration": 184,
    "start_time": "2022-12-09T23:14:34.211Z"
   },
   {
    "duration": 240,
    "start_time": "2022-12-09T23:14:34.396Z"
   },
   {
    "duration": 150,
    "start_time": "2022-12-09T23:14:34.638Z"
   },
   {
    "duration": 186,
    "start_time": "2022-12-09T23:14:34.790Z"
   },
   {
    "duration": 6,
    "start_time": "2022-12-09T23:14:34.977Z"
   },
   {
    "duration": 5,
    "start_time": "2022-12-09T23:14:34.985Z"
   },
   {
    "duration": 191,
    "start_time": "2022-12-09T23:14:34.992Z"
   },
   {
    "duration": 177,
    "start_time": "2022-12-09T23:14:35.185Z"
   },
   {
    "duration": 161,
    "start_time": "2022-12-09T23:14:35.364Z"
   },
   {
    "duration": 172,
    "start_time": "2022-12-09T23:14:35.527Z"
   },
   {
    "duration": 173,
    "start_time": "2022-12-09T23:14:35.701Z"
   },
   {
    "duration": 166,
    "start_time": "2022-12-09T23:14:35.876Z"
   },
   {
    "duration": 211,
    "start_time": "2022-12-09T23:14:36.044Z"
   },
   {
    "duration": 231,
    "start_time": "2022-12-09T23:14:36.257Z"
   },
   {
    "duration": 163,
    "start_time": "2022-12-09T23:14:36.490Z"
   },
   {
    "duration": 22,
    "start_time": "2022-12-09T23:14:36.655Z"
   },
   {
    "duration": 7,
    "start_time": "2022-12-09T23:14:36.679Z"
   },
   {
    "duration": 30,
    "start_time": "2022-12-09T23:14:36.688Z"
   },
   {
    "duration": 16,
    "start_time": "2022-12-09T23:14:36.720Z"
   },
   {
    "duration": 18,
    "start_time": "2022-12-09T23:14:36.738Z"
   },
   {
    "duration": 2558,
    "start_time": "2022-12-09T23:14:42.056Z"
   },
   {
    "duration": 2619,
    "start_time": "2022-12-09T23:14:44.922Z"
   },
   {
    "duration": 35,
    "start_time": "2022-12-09T23:35:00.397Z"
   },
   {
    "duration": 4,
    "start_time": "2022-12-09T23:35:17.241Z"
   },
   {
    "duration": 6,
    "start_time": "2022-12-09T23:36:12.724Z"
   },
   {
    "duration": 3,
    "start_time": "2022-12-09T23:36:20.813Z"
   },
   {
    "duration": 3,
    "start_time": "2022-12-09T23:36:37.657Z"
   },
   {
    "duration": 4,
    "start_time": "2022-12-09T23:40:47.032Z"
   },
   {
    "duration": 13,
    "start_time": "2022-12-09T23:45:41.512Z"
   },
   {
    "duration": 13,
    "start_time": "2022-12-09T23:47:58.516Z"
   },
   {
    "duration": 150,
    "start_time": "2022-12-09T23:48:32.112Z"
   },
   {
    "duration": 4,
    "start_time": "2022-12-09T23:51:08.972Z"
   },
   {
    "duration": 13,
    "start_time": "2022-12-09T23:51:10.100Z"
   },
   {
    "duration": 4,
    "start_time": "2022-12-09T23:57:01.660Z"
   },
   {
    "duration": 14,
    "start_time": "2022-12-09T23:57:02.500Z"
   },
   {
    "duration": 203,
    "start_time": "2022-12-10T00:01:22.400Z"
   },
   {
    "duration": 162,
    "start_time": "2022-12-10T00:01:36.452Z"
   },
   {
    "duration": 161,
    "start_time": "2022-12-10T00:01:41.332Z"
   },
   {
    "duration": 157,
    "start_time": "2022-12-10T00:01:45.561Z"
   },
   {
    "duration": 175,
    "start_time": "2022-12-10T00:01:51.040Z"
   },
   {
    "duration": 182,
    "start_time": "2022-12-10T00:04:19.220Z"
   },
   {
    "duration": 251,
    "start_time": "2022-12-10T00:04:50.680Z"
   },
   {
    "duration": 364,
    "start_time": "2022-12-10T00:04:57.412Z"
   },
   {
    "duration": 232,
    "start_time": "2022-12-10T00:05:04.084Z"
   },
   {
    "duration": 500,
    "start_time": "2022-12-10T00:05:08.508Z"
   },
   {
    "duration": 8,
    "start_time": "2022-12-10T00:06:08.968Z"
   },
   {
    "duration": 408,
    "start_time": "2022-12-10T00:35:25.549Z"
   },
   {
    "duration": 346,
    "start_time": "2022-12-10T00:35:25.959Z"
   },
   {
    "duration": 52,
    "start_time": "2022-12-10T00:35:26.307Z"
   },
   {
    "duration": 17,
    "start_time": "2022-12-10T00:35:26.361Z"
   },
   {
    "duration": 2207,
    "start_time": "2022-12-10T00:35:26.381Z"
   },
   {
    "duration": 11,
    "start_time": "2022-12-10T00:35:28.590Z"
   },
   {
    "duration": 4,
    "start_time": "2022-12-10T00:35:28.603Z"
   },
   {
    "duration": 8,
    "start_time": "2022-12-10T00:35:28.608Z"
   },
   {
    "duration": 9,
    "start_time": "2022-12-10T00:35:28.618Z"
   },
   {
    "duration": 4,
    "start_time": "2022-12-10T00:35:28.629Z"
   },
   {
    "duration": 4,
    "start_time": "2022-12-10T00:35:28.635Z"
   },
   {
    "duration": 6,
    "start_time": "2022-12-10T00:35:28.640Z"
   },
   {
    "duration": 6,
    "start_time": "2022-12-10T00:35:28.648Z"
   },
   {
    "duration": 7,
    "start_time": "2022-12-10T00:35:28.658Z"
   },
   {
    "duration": 17,
    "start_time": "2022-12-10T00:35:28.667Z"
   },
   {
    "duration": 22,
    "start_time": "2022-12-10T00:35:28.716Z"
   },
   {
    "duration": 17,
    "start_time": "2022-12-10T00:35:28.739Z"
   },
   {
    "duration": 5,
    "start_time": "2022-12-10T00:35:28.757Z"
   },
   {
    "duration": 25,
    "start_time": "2022-12-10T00:35:28.764Z"
   },
   {
    "duration": 24,
    "start_time": "2022-12-10T00:35:28.791Z"
   },
   {
    "duration": 47,
    "start_time": "2022-12-10T00:35:28.817Z"
   },
   {
    "duration": 51,
    "start_time": "2022-12-10T00:35:28.866Z"
   },
   {
    "duration": 6,
    "start_time": "2022-12-10T00:35:28.918Z"
   },
   {
    "duration": 4,
    "start_time": "2022-12-10T00:35:28.926Z"
   },
   {
    "duration": 14,
    "start_time": "2022-12-10T00:35:28.931Z"
   },
   {
    "duration": 2,
    "start_time": "2022-12-10T00:35:28.947Z"
   },
   {
    "duration": 13,
    "start_time": "2022-12-10T00:35:28.951Z"
   },
   {
    "duration": 9,
    "start_time": "2022-12-10T00:35:28.966Z"
   },
   {
    "duration": 69,
    "start_time": "2022-12-10T00:35:28.976Z"
   },
   {
    "duration": 32,
    "start_time": "2022-12-10T00:35:29.047Z"
   },
   {
    "duration": 4,
    "start_time": "2022-12-10T00:35:29.081Z"
   },
   {
    "duration": 31,
    "start_time": "2022-12-10T00:35:29.086Z"
   },
   {
    "duration": 4,
    "start_time": "2022-12-10T00:35:29.119Z"
   },
   {
    "duration": 6,
    "start_time": "2022-12-10T00:35:29.124Z"
   },
   {
    "duration": 26,
    "start_time": "2022-12-10T00:35:29.132Z"
   },
   {
    "duration": 12,
    "start_time": "2022-12-10T00:35:29.159Z"
   },
   {
    "duration": 3,
    "start_time": "2022-12-10T00:35:29.173Z"
   },
   {
    "duration": 46,
    "start_time": "2022-12-10T00:35:29.177Z"
   },
   {
    "duration": 5,
    "start_time": "2022-12-10T00:35:29.225Z"
   },
   {
    "duration": 28,
    "start_time": "2022-12-10T00:35:29.231Z"
   },
   {
    "duration": 5,
    "start_time": "2022-12-10T00:35:29.263Z"
   },
   {
    "duration": 11,
    "start_time": "2022-12-10T00:35:29.269Z"
   },
   {
    "duration": 35,
    "start_time": "2022-12-10T00:35:29.281Z"
   },
   {
    "duration": 4,
    "start_time": "2022-12-10T00:35:29.318Z"
   },
   {
    "duration": 273,
    "start_time": "2022-12-10T00:35:29.323Z"
   },
   {
    "duration": 21,
    "start_time": "2022-12-10T00:35:29.598Z"
   },
   {
    "duration": 4,
    "start_time": "2022-12-10T00:35:29.620Z"
   },
   {
    "duration": 31,
    "start_time": "2022-12-10T00:35:29.625Z"
   },
   {
    "duration": 174,
    "start_time": "2022-12-10T00:35:29.657Z"
   },
   {
    "duration": 168,
    "start_time": "2022-12-10T00:35:29.832Z"
   },
   {
    "duration": 256,
    "start_time": "2022-12-10T00:35:30.001Z"
   },
   {
    "duration": 171,
    "start_time": "2022-12-10T00:35:30.258Z"
   },
   {
    "duration": 5,
    "start_time": "2022-12-10T00:35:30.431Z"
   },
   {
    "duration": 31,
    "start_time": "2022-12-10T00:35:30.437Z"
   },
   {
    "duration": 192,
    "start_time": "2022-12-10T00:35:30.469Z"
   },
   {
    "duration": 4,
    "start_time": "2022-12-10T00:35:30.663Z"
   },
   {
    "duration": 188,
    "start_time": "2022-12-10T00:35:30.668Z"
   },
   {
    "duration": 143,
    "start_time": "2022-12-10T00:35:30.858Z"
   },
   {
    "duration": 5,
    "start_time": "2022-12-10T00:35:31.002Z"
   },
   {
    "duration": 143,
    "start_time": "2022-12-10T00:35:31.015Z"
   },
   {
    "duration": 196,
    "start_time": "2022-12-10T00:35:31.159Z"
   },
   {
    "duration": 200,
    "start_time": "2022-12-10T00:35:31.356Z"
   },
   {
    "duration": 143,
    "start_time": "2022-12-10T00:35:31.557Z"
   },
   {
    "duration": 173,
    "start_time": "2022-12-10T00:35:31.701Z"
   },
   {
    "duration": 219,
    "start_time": "2022-12-10T00:35:31.875Z"
   },
   {
    "duration": 165,
    "start_time": "2022-12-10T00:35:32.097Z"
   },
   {
    "duration": 373,
    "start_time": "2022-12-10T00:35:32.264Z"
   },
   {
    "duration": 5,
    "start_time": "2022-12-10T00:35:32.639Z"
   },
   {
    "duration": 10,
    "start_time": "2022-12-10T00:35:32.645Z"
   },
   {
    "duration": 215,
    "start_time": "2022-12-10T00:35:32.657Z"
   },
   {
    "duration": 215,
    "start_time": "2022-12-10T00:35:32.874Z"
   },
   {
    "duration": 183,
    "start_time": "2022-12-10T00:35:33.091Z"
   },
   {
    "duration": 205,
    "start_time": "2022-12-10T00:35:33.276Z"
   },
   {
    "duration": 201,
    "start_time": "2022-12-10T00:35:33.483Z"
   },
   {
    "duration": 197,
    "start_time": "2022-12-10T00:35:33.685Z"
   },
   {
    "duration": 211,
    "start_time": "2022-12-10T00:35:33.884Z"
   },
   {
    "duration": 211,
    "start_time": "2022-12-10T00:35:34.096Z"
   },
   {
    "duration": 121,
    "start_time": "2022-12-10T00:35:34.309Z"
   },
   {
    "duration": 21,
    "start_time": "2022-12-10T00:35:34.432Z"
   },
   {
    "duration": 6,
    "start_time": "2022-12-10T00:35:34.455Z"
   },
   {
    "duration": 11,
    "start_time": "2022-12-10T00:35:34.463Z"
   },
   {
    "duration": 10,
    "start_time": "2022-12-10T00:35:34.475Z"
   },
   {
    "duration": 38,
    "start_time": "2022-12-10T00:35:34.486Z"
   },
   {
    "duration": 450,
    "start_time": "2022-12-10T13:12:08.139Z"
   },
   {
    "duration": 321,
    "start_time": "2022-12-10T13:12:08.591Z"
   },
   {
    "duration": 42,
    "start_time": "2022-12-10T13:12:08.914Z"
   },
   {
    "duration": 18,
    "start_time": "2022-12-10T13:12:08.958Z"
   },
   {
    "duration": 2593,
    "start_time": "2022-12-10T13:12:08.977Z"
   },
   {
    "duration": 10,
    "start_time": "2022-12-10T13:12:11.572Z"
   },
   {
    "duration": 4,
    "start_time": "2022-12-10T13:12:11.583Z"
   },
   {
    "duration": 6,
    "start_time": "2022-12-10T13:12:11.589Z"
   },
   {
    "duration": 12,
    "start_time": "2022-12-10T13:12:11.597Z"
   },
   {
    "duration": 4,
    "start_time": "2022-12-10T13:12:11.612Z"
   },
   {
    "duration": 5,
    "start_time": "2022-12-10T13:12:11.618Z"
   },
   {
    "duration": 8,
    "start_time": "2022-12-10T13:12:11.625Z"
   },
   {
    "duration": 23,
    "start_time": "2022-12-10T13:12:11.635Z"
   },
   {
    "duration": 13,
    "start_time": "2022-12-10T13:12:11.660Z"
   },
   {
    "duration": 21,
    "start_time": "2022-12-10T13:12:11.675Z"
   },
   {
    "duration": 58,
    "start_time": "2022-12-10T13:12:11.698Z"
   },
   {
    "duration": 30,
    "start_time": "2022-12-10T13:12:11.758Z"
   },
   {
    "duration": 6,
    "start_time": "2022-12-10T13:12:11.790Z"
   },
   {
    "duration": 27,
    "start_time": "2022-12-10T13:12:11.798Z"
   },
   {
    "duration": 6,
    "start_time": "2022-12-10T13:12:11.827Z"
   },
   {
    "duration": 63,
    "start_time": "2022-12-10T13:12:11.856Z"
   },
   {
    "duration": 49,
    "start_time": "2022-12-10T13:12:11.921Z"
   },
   {
    "duration": 7,
    "start_time": "2022-12-10T13:12:11.972Z"
   },
   {
    "duration": 4,
    "start_time": "2022-12-10T13:12:11.980Z"
   },
   {
    "duration": 16,
    "start_time": "2022-12-10T13:12:11.985Z"
   },
   {
    "duration": 2,
    "start_time": "2022-12-10T13:12:12.002Z"
   },
   {
    "duration": 20,
    "start_time": "2022-12-10T13:12:12.006Z"
   },
   {
    "duration": 10,
    "start_time": "2022-12-10T13:12:12.054Z"
   },
   {
    "duration": 36,
    "start_time": "2022-12-10T13:12:12.066Z"
   },
   {
    "duration": 60,
    "start_time": "2022-12-10T13:12:12.104Z"
   },
   {
    "duration": 3,
    "start_time": "2022-12-10T13:12:12.166Z"
   },
   {
    "duration": 10,
    "start_time": "2022-12-10T13:12:12.171Z"
   },
   {
    "duration": 5,
    "start_time": "2022-12-10T13:12:12.182Z"
   },
   {
    "duration": 8,
    "start_time": "2022-12-10T13:12:12.188Z"
   },
   {
    "duration": 27,
    "start_time": "2022-12-10T13:12:12.197Z"
   },
   {
    "duration": 35,
    "start_time": "2022-12-10T13:12:12.226Z"
   },
   {
    "duration": 5,
    "start_time": "2022-12-10T13:12:12.262Z"
   },
   {
    "duration": 24,
    "start_time": "2022-12-10T13:12:12.269Z"
   },
   {
    "duration": 7,
    "start_time": "2022-12-10T13:12:12.295Z"
   },
   {
    "duration": 24,
    "start_time": "2022-12-10T13:12:12.303Z"
   },
   {
    "duration": 32,
    "start_time": "2022-12-10T13:12:12.328Z"
   },
   {
    "duration": 7,
    "start_time": "2022-12-10T13:12:12.362Z"
   },
   {
    "duration": 23,
    "start_time": "2022-12-10T13:12:12.371Z"
   },
   {
    "duration": 5,
    "start_time": "2022-12-10T13:12:12.396Z"
   },
   {
    "duration": 306,
    "start_time": "2022-12-10T13:12:12.402Z"
   },
   {
    "duration": 24,
    "start_time": "2022-12-10T13:12:12.710Z"
   },
   {
    "duration": 19,
    "start_time": "2022-12-10T13:12:12.736Z"
   },
   {
    "duration": 25,
    "start_time": "2022-12-10T13:12:12.756Z"
   },
   {
    "duration": 196,
    "start_time": "2022-12-10T13:12:12.782Z"
   },
   {
    "duration": 256,
    "start_time": "2022-12-10T13:12:12.980Z"
   },
   {
    "duration": 205,
    "start_time": "2022-12-10T13:12:13.238Z"
   },
   {
    "duration": 176,
    "start_time": "2022-12-10T13:12:13.444Z"
   },
   {
    "duration": 7,
    "start_time": "2022-12-10T13:12:13.622Z"
   },
   {
    "duration": 17,
    "start_time": "2022-12-10T13:12:13.630Z"
   },
   {
    "duration": 233,
    "start_time": "2022-12-10T13:12:13.648Z"
   },
   {
    "duration": 5,
    "start_time": "2022-12-10T13:12:13.883Z"
   },
   {
    "duration": 184,
    "start_time": "2022-12-10T13:12:13.890Z"
   },
   {
    "duration": 145,
    "start_time": "2022-12-10T13:12:14.076Z"
   },
   {
    "duration": 4,
    "start_time": "2022-12-10T13:12:14.223Z"
   },
   {
    "duration": 166,
    "start_time": "2022-12-10T13:12:14.228Z"
   },
   {
    "duration": 204,
    "start_time": "2022-12-10T13:12:14.396Z"
   },
   {
    "duration": 268,
    "start_time": "2022-12-10T13:12:14.602Z"
   },
   {
    "duration": 245,
    "start_time": "2022-12-10T13:12:14.872Z"
   },
   {
    "duration": 184,
    "start_time": "2022-12-10T13:12:15.118Z"
   },
   {
    "duration": 151,
    "start_time": "2022-12-10T13:12:15.304Z"
   },
   {
    "duration": 184,
    "start_time": "2022-12-10T13:12:15.456Z"
   },
   {
    "duration": 386,
    "start_time": "2022-12-10T13:12:15.642Z"
   },
   {
    "duration": 5,
    "start_time": "2022-12-10T13:12:16.031Z"
   },
   {
    "duration": 21,
    "start_time": "2022-12-10T13:12:16.037Z"
   },
   {
    "duration": 216,
    "start_time": "2022-12-10T13:12:16.060Z"
   },
   {
    "duration": 226,
    "start_time": "2022-12-10T13:12:16.278Z"
   },
   {
    "duration": 199,
    "start_time": "2022-12-10T13:12:16.505Z"
   },
   {
    "duration": 218,
    "start_time": "2022-12-10T13:12:16.705Z"
   },
   {
    "duration": 204,
    "start_time": "2022-12-10T13:12:16.925Z"
   },
   {
    "duration": 324,
    "start_time": "2022-12-10T13:12:17.131Z"
   },
   {
    "duration": 205,
    "start_time": "2022-12-10T13:12:17.457Z"
   },
   {
    "duration": 196,
    "start_time": "2022-12-10T13:12:17.664Z"
   },
   {
    "duration": 127,
    "start_time": "2022-12-10T13:12:17.862Z"
   },
   {
    "duration": 23,
    "start_time": "2022-12-10T13:12:17.990Z"
   },
   {
    "duration": 7,
    "start_time": "2022-12-10T13:12:18.015Z"
   },
   {
    "duration": 11,
    "start_time": "2022-12-10T13:12:18.024Z"
   },
   {
    "duration": 8,
    "start_time": "2022-12-10T13:12:18.059Z"
   },
   {
    "duration": 20,
    "start_time": "2022-12-10T13:12:18.068Z"
   },
   {
    "duration": 196006,
    "start_time": "2022-12-10T13:12:18.089Z"
   },
   {
    "duration": 106,
    "start_time": "2022-12-10T13:26:40.902Z"
   },
   {
    "duration": 74,
    "start_time": "2022-12-10T13:27:10.283Z"
   },
   {
    "duration": 9,
    "start_time": "2022-12-10T13:27:17.661Z"
   },
   {
    "duration": 146,
    "start_time": "2022-12-10T13:27:21.454Z"
   },
   {
    "duration": 16,
    "start_time": "2022-12-10T13:27:31.906Z"
   },
   {
    "duration": 193,
    "start_time": "2022-12-10T13:27:54.418Z"
   },
   {
    "duration": 189,
    "start_time": "2022-12-10T13:29:54.378Z"
   },
   {
    "duration": 3,
    "start_time": "2022-12-10T13:30:58.342Z"
   },
   {
    "duration": 2827,
    "start_time": "2022-12-10T13:31:22.939Z"
   },
   {
    "duration": 2621,
    "start_time": "2022-12-10T13:31:26.158Z"
   },
   {
    "duration": 17,
    "start_time": "2022-12-10T13:43:46.586Z"
   },
   {
    "duration": 180,
    "start_time": "2022-12-10T13:44:01.736Z"
   },
   {
    "duration": 202,
    "start_time": "2022-12-10T13:53:29.810Z"
   },
   {
    "duration": 6,
    "start_time": "2022-12-10T13:57:29.282Z"
   },
   {
    "duration": 204,
    "start_time": "2022-12-10T14:01:53.107Z"
   },
   {
    "duration": 961,
    "start_time": "2022-12-10T14:10:12.111Z"
   },
   {
    "duration": 6,
    "start_time": "2022-12-10T14:10:20.600Z"
   },
   {
    "duration": 5,
    "start_time": "2022-12-10T14:13:01.487Z"
   },
   {
    "duration": 10,
    "start_time": "2022-12-10T14:16:14.195Z"
   },
   {
    "duration": 131,
    "start_time": "2022-12-10T14:16:23.167Z"
   },
   {
    "duration": 5,
    "start_time": "2022-12-10T14:16:57.875Z"
   },
   {
    "duration": 113,
    "start_time": "2022-12-10T14:20:06.399Z"
   },
   {
    "duration": 300,
    "start_time": "2022-12-10T14:20:38.448Z"
   },
   {
    "duration": 106,
    "start_time": "2022-12-10T14:21:32.644Z"
   },
   {
    "duration": 154,
    "start_time": "2022-12-10T14:26:39.152Z"
   },
   {
    "duration": 114,
    "start_time": "2022-12-10T14:27:01.620Z"
   },
   {
    "duration": 143,
    "start_time": "2022-12-10T14:27:14.993Z"
   },
   {
    "duration": 6,
    "start_time": "2022-12-10T14:27:43.652Z"
   },
   {
    "duration": 11,
    "start_time": "2022-12-10T14:28:24.450Z"
   },
   {
    "duration": 6,
    "start_time": "2022-12-10T14:30:30.591Z"
   },
   {
    "duration": 6,
    "start_time": "2022-12-10T14:33:45.157Z"
   },
   {
    "duration": 6,
    "start_time": "2022-12-10T14:33:49.215Z"
   },
   {
    "duration": 162,
    "start_time": "2022-12-10T14:36:32.180Z"
   },
   {
    "duration": 13,
    "start_time": "2022-12-10T14:36:48.853Z"
   },
   {
    "duration": 135,
    "start_time": "2022-12-10T14:36:52.579Z"
   },
   {
    "duration": 156,
    "start_time": "2022-12-10T14:39:57.554Z"
   },
   {
    "duration": 200,
    "start_time": "2022-12-10T14:40:19.965Z"
   },
   {
    "duration": 202,
    "start_time": "2022-12-10T14:40:25.462Z"
   },
   {
    "duration": 123,
    "start_time": "2022-12-10T14:40:32.791Z"
   },
   {
    "duration": 222,
    "start_time": "2022-12-10T14:40:37.720Z"
   },
   {
    "duration": 198,
    "start_time": "2022-12-10T14:40:43.278Z"
   },
   {
    "duration": 498,
    "start_time": "2022-12-10T14:41:15.949Z"
   },
   {
    "duration": 380,
    "start_time": "2022-12-10T14:41:28.365Z"
   },
   {
    "duration": 392,
    "start_time": "2022-12-10T14:41:46.891Z"
   },
   {
    "duration": 178,
    "start_time": "2022-12-10T14:41:56.350Z"
   },
   {
    "duration": 173,
    "start_time": "2022-12-10T14:42:01.153Z"
   },
   {
    "duration": 177,
    "start_time": "2022-12-10T14:42:05.465Z"
   },
   {
    "duration": 432,
    "start_time": "2022-12-10T23:31:57.520Z"
   },
   {
    "duration": 262,
    "start_time": "2022-12-10T23:31:57.953Z"
   },
   {
    "duration": 97,
    "start_time": "2022-12-10T23:31:58.217Z"
   },
   {
    "duration": 57,
    "start_time": "2022-12-10T23:31:58.316Z"
   },
   {
    "duration": 42,
    "start_time": "2022-12-10T23:31:58.377Z"
   },
   {
    "duration": 2078,
    "start_time": "2022-12-10T23:31:58.421Z"
   },
   {
    "duration": 18,
    "start_time": "2022-12-10T23:32:00.502Z"
   },
   {
    "duration": 23,
    "start_time": "2022-12-10T23:32:00.523Z"
   },
   {
    "duration": 27,
    "start_time": "2022-12-10T23:32:00.548Z"
   },
   {
    "duration": 30,
    "start_time": "2022-12-10T23:32:00.577Z"
   },
   {
    "duration": 7,
    "start_time": "2022-12-10T23:32:00.609Z"
   },
   {
    "duration": 18,
    "start_time": "2022-12-10T23:32:00.618Z"
   },
   {
    "duration": 38,
    "start_time": "2022-12-10T23:32:00.639Z"
   },
   {
    "duration": 16,
    "start_time": "2022-12-10T23:32:00.681Z"
   },
   {
    "duration": 24,
    "start_time": "2022-12-10T23:32:00.699Z"
   },
   {
    "duration": 35,
    "start_time": "2022-12-10T23:32:00.725Z"
   },
   {
    "duration": 32,
    "start_time": "2022-12-10T23:32:00.762Z"
   },
   {
    "duration": 44,
    "start_time": "2022-12-10T23:32:00.796Z"
   },
   {
    "duration": 19,
    "start_time": "2022-12-10T23:32:00.842Z"
   },
   {
    "duration": 113,
    "start_time": "2022-12-10T23:32:00.863Z"
   },
   {
    "duration": 51,
    "start_time": "2022-12-10T23:32:00.978Z"
   },
   {
    "duration": 65,
    "start_time": "2022-12-10T23:32:01.031Z"
   },
   {
    "duration": 47,
    "start_time": "2022-12-10T23:32:01.099Z"
   },
   {
    "duration": 28,
    "start_time": "2022-12-10T23:32:01.148Z"
   },
   {
    "duration": 11,
    "start_time": "2022-12-10T23:32:01.178Z"
   },
   {
    "duration": 110,
    "start_time": "2022-12-10T23:32:01.192Z"
   },
   {
    "duration": 2,
    "start_time": "2022-12-10T23:32:01.304Z"
   },
   {
    "duration": 40,
    "start_time": "2022-12-10T23:32:01.308Z"
   },
   {
    "duration": 16,
    "start_time": "2022-12-10T23:32:01.350Z"
   },
   {
    "duration": 55,
    "start_time": "2022-12-10T23:32:01.367Z"
   },
   {
    "duration": 37,
    "start_time": "2022-12-10T23:32:01.424Z"
   },
   {
    "duration": 4,
    "start_time": "2022-12-10T23:32:01.463Z"
   },
   {
    "duration": 37,
    "start_time": "2022-12-10T23:32:01.468Z"
   },
   {
    "duration": 20,
    "start_time": "2022-12-10T23:32:01.507Z"
   },
   {
    "duration": 21,
    "start_time": "2022-12-10T23:32:01.529Z"
   },
   {
    "duration": 42,
    "start_time": "2022-12-10T23:32:01.552Z"
   },
   {
    "duration": 19,
    "start_time": "2022-12-10T23:32:01.596Z"
   },
   {
    "duration": 9,
    "start_time": "2022-12-10T23:32:01.616Z"
   },
   {
    "duration": 38,
    "start_time": "2022-12-10T23:32:01.626Z"
   },
   {
    "duration": 29,
    "start_time": "2022-12-10T23:32:01.666Z"
   },
   {
    "duration": 54,
    "start_time": "2022-12-10T23:32:01.700Z"
   },
   {
    "duration": 31,
    "start_time": "2022-12-10T23:32:01.756Z"
   },
   {
    "duration": 20,
    "start_time": "2022-12-10T23:32:01.789Z"
   },
   {
    "duration": 48,
    "start_time": "2022-12-10T23:32:01.811Z"
   },
   {
    "duration": 86,
    "start_time": "2022-12-10T23:32:01.860Z"
   },
   {
    "duration": 356,
    "start_time": "2022-12-10T23:32:01.948Z"
   },
   {
    "duration": 23,
    "start_time": "2022-12-10T23:32:02.305Z"
   },
   {
    "duration": 4,
    "start_time": "2022-12-10T23:32:02.330Z"
   },
   {
    "duration": 43,
    "start_time": "2022-12-10T23:32:02.336Z"
   },
   {
    "duration": 204,
    "start_time": "2022-12-10T23:32:02.381Z"
   },
   {
    "duration": 272,
    "start_time": "2022-12-10T23:32:02.588Z"
   },
   {
    "duration": 220,
    "start_time": "2022-12-10T23:32:02.862Z"
   },
   {
    "duration": 185,
    "start_time": "2022-12-10T23:32:03.084Z"
   },
   {
    "duration": 5,
    "start_time": "2022-12-10T23:32:03.271Z"
   },
   {
    "duration": 10,
    "start_time": "2022-12-10T23:32:03.278Z"
   },
   {
    "duration": 205,
    "start_time": "2022-12-10T23:32:03.289Z"
   },
   {
    "duration": 4,
    "start_time": "2022-12-10T23:32:03.496Z"
   },
   {
    "duration": 166,
    "start_time": "2022-12-10T23:32:03.515Z"
   },
   {
    "duration": 148,
    "start_time": "2022-12-10T23:32:03.684Z"
   },
   {
    "duration": 5,
    "start_time": "2022-12-10T23:32:03.833Z"
   },
   {
    "duration": 163,
    "start_time": "2022-12-10T23:32:03.840Z"
   },
   {
    "duration": 199,
    "start_time": "2022-12-10T23:32:04.006Z"
   },
   {
    "duration": 200,
    "start_time": "2022-12-10T23:32:04.215Z"
   },
   {
    "duration": 225,
    "start_time": "2022-12-10T23:32:04.417Z"
   },
   {
    "duration": 177,
    "start_time": "2022-12-10T23:32:04.644Z"
   },
   {
    "duration": 149,
    "start_time": "2022-12-10T23:32:04.823Z"
   },
   {
    "duration": 173,
    "start_time": "2022-12-10T23:32:04.974Z"
   },
   {
    "duration": 376,
    "start_time": "2022-12-10T23:32:05.149Z"
   },
   {
    "duration": 6,
    "start_time": "2022-12-10T23:32:05.527Z"
   },
   {
    "duration": 16,
    "start_time": "2022-12-10T23:32:05.534Z"
   },
   {
    "duration": 217,
    "start_time": "2022-12-10T23:32:05.552Z"
   },
   {
    "duration": 6,
    "start_time": "2022-12-10T23:32:05.770Z"
   },
   {
    "duration": 212,
    "start_time": "2022-12-10T23:32:05.778Z"
   },
   {
    "duration": 6,
    "start_time": "2022-12-10T23:32:05.992Z"
   },
   {
    "duration": 203,
    "start_time": "2022-12-10T23:32:05.999Z"
   },
   {
    "duration": 13,
    "start_time": "2022-12-10T23:32:06.204Z"
   },
   {
    "duration": 288,
    "start_time": "2022-12-10T23:32:06.219Z"
   },
   {
    "duration": 214,
    "start_time": "2022-12-10T23:32:06.509Z"
   },
   {
    "duration": 5,
    "start_time": "2022-12-10T23:32:06.725Z"
   },
   {
    "duration": 124,
    "start_time": "2022-12-10T23:32:06.731Z"
   },
   {
    "duration": 195,
    "start_time": "2022-12-10T23:32:06.856Z"
   },
   {
    "duration": 5,
    "start_time": "2022-12-10T23:32:07.053Z"
   },
   {
    "duration": 194,
    "start_time": "2022-12-10T23:32:07.059Z"
   },
   {
    "duration": 5,
    "start_time": "2022-12-10T23:32:07.254Z"
   },
   {
    "duration": 141,
    "start_time": "2022-12-10T23:32:07.260Z"
   },
   {
    "duration": 14,
    "start_time": "2022-12-10T23:32:07.403Z"
   },
   {
    "duration": 28,
    "start_time": "2022-12-10T23:32:07.419Z"
   },
   {
    "duration": 7,
    "start_time": "2022-12-10T23:32:07.449Z"
   },
   {
    "duration": 34,
    "start_time": "2022-12-10T23:32:07.458Z"
   },
   {
    "duration": 15,
    "start_time": "2022-12-10T23:32:07.493Z"
   },
   {
    "duration": 154,
    "start_time": "2022-12-10T23:32:07.509Z"
   },
   {
    "duration": 8,
    "start_time": "2022-12-10T23:35:20.116Z"
   },
   {
    "duration": 212,
    "start_time": "2022-12-10T23:37:33.800Z"
   },
   {
    "duration": 15,
    "start_time": "2022-12-10T23:39:50.773Z"
   },
   {
    "duration": 148,
    "start_time": "2022-12-10T23:40:09.133Z"
   }
  ],
  "kernelspec": {
   "display_name": "Python 3 (ipykernel)",
   "language": "python",
   "name": "python3"
  },
  "language_info": {
   "codemirror_mode": {
    "name": "ipython",
    "version": 3
   },
   "file_extension": ".py",
   "mimetype": "text/x-python",
   "name": "python",
   "nbconvert_exporter": "python",
   "pygments_lexer": "ipython3",
   "version": "3.9.13"
  },
  "toc": {
   "base_numbering": 1,
   "nav_menu": {},
   "number_sections": true,
   "sideBar": true,
   "skip_h1_title": true,
   "title_cell": "Table of Contents",
   "title_sidebar": "Contents",
   "toc_cell": false,
   "toc_position": {},
   "toc_section_display": true,
   "toc_window_display": true
  }
 },
 "nbformat": 4,
 "nbformat_minor": 2
}
